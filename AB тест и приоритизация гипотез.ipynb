{
 "cells": [
  {
   "cell_type": "markdown",
   "metadata": {},
   "source": [
    "# Описание и цель исследования:"
   ]
  },
  {
   "cell_type": "markdown",
   "metadata": {},
   "source": [
    "Были подготовлены результаты тестирования гипотез для увеличения выручки интернет-магазина. Из этих данных следует сделать выводы, успешен ли эксперимент, или он никак значимо не повлиял на продажи.\n",
    "\n",
    "Для этого следует:\n",
    "1. Сделать первичный анализа имеющихся у нас данных. \n",
    "2. Приоритизировать имеющиеся гипотезы. Можно использовать два метода приоритизации, а затем сравнить топ гипотез в обоих случаях. \n",
    "3. Провести анализ результатов эксперимента на основе выручки, среднего чека, конверсии двух групп эксперимента. И следует провести анализ еще раз, не учитывая выбросы в данных с заказами. "
   ]
  },
  {
   "cell_type": "markdown",
   "metadata": {},
   "source": [
    "## Используемые библиотеки"
   ]
  },
  {
   "cell_type": "code",
   "execution_count": 1,
   "metadata": {},
   "outputs": [],
   "source": [
    "import pandas as pd\n",
    "import datetime as dt\n",
    "import numpy as np\n",
    "import matplotlib.pyplot as plt\n",
    "import math as mth\n",
    "from scipy import stats as st\n",
    "import scipy.stats as stats"
   ]
  },
  {
   "cell_type": "markdown",
   "metadata": {},
   "source": [
    "## Приоритизация гипотез"
   ]
  },
  {
   "cell_type": "code",
   "execution_count": 2,
   "metadata": {},
   "outputs": [
    {
     "data": {
      "text/html": [
       "<div>\n",
       "<style scoped>\n",
       "    .dataframe tbody tr th:only-of-type {\n",
       "        vertical-align: middle;\n",
       "    }\n",
       "\n",
       "    .dataframe tbody tr th {\n",
       "        vertical-align: top;\n",
       "    }\n",
       "\n",
       "    .dataframe thead th {\n",
       "        text-align: right;\n",
       "    }\n",
       "</style>\n",
       "<table border=\"1\" class=\"dataframe\">\n",
       "  <thead>\n",
       "    <tr style=\"text-align: right;\">\n",
       "      <th></th>\n",
       "      <th>Hypothesis</th>\n",
       "      <th>Reach</th>\n",
       "      <th>Impact</th>\n",
       "      <th>Confidence</th>\n",
       "      <th>Efforts</th>\n",
       "    </tr>\n",
       "  </thead>\n",
       "  <tbody>\n",
       "    <tr>\n",
       "      <th>0</th>\n",
       "      <td>Добавить два новых канала привлечения трафика,...</td>\n",
       "      <td>3</td>\n",
       "      <td>10</td>\n",
       "      <td>8</td>\n",
       "      <td>6</td>\n",
       "    </tr>\n",
       "    <tr>\n",
       "      <th>1</th>\n",
       "      <td>Запустить собственную службу доставки, что сок...</td>\n",
       "      <td>2</td>\n",
       "      <td>5</td>\n",
       "      <td>4</td>\n",
       "      <td>10</td>\n",
       "    </tr>\n",
       "    <tr>\n",
       "      <th>2</th>\n",
       "      <td>Добавить блоки рекомендаций товаров на сайт ин...</td>\n",
       "      <td>8</td>\n",
       "      <td>3</td>\n",
       "      <td>7</td>\n",
       "      <td>3</td>\n",
       "    </tr>\n",
       "    <tr>\n",
       "      <th>3</th>\n",
       "      <td>Изменить структура категорий, что увеличит кон...</td>\n",
       "      <td>8</td>\n",
       "      <td>3</td>\n",
       "      <td>3</td>\n",
       "      <td>8</td>\n",
       "    </tr>\n",
       "    <tr>\n",
       "      <th>4</th>\n",
       "      <td>Изменить цвет фона главной страницы, чтобы уве...</td>\n",
       "      <td>3</td>\n",
       "      <td>1</td>\n",
       "      <td>1</td>\n",
       "      <td>1</td>\n",
       "    </tr>\n",
       "    <tr>\n",
       "      <th>5</th>\n",
       "      <td>Добавить страницу отзывов клиентов о магазине,...</td>\n",
       "      <td>3</td>\n",
       "      <td>2</td>\n",
       "      <td>2</td>\n",
       "      <td>3</td>\n",
       "    </tr>\n",
       "    <tr>\n",
       "      <th>6</th>\n",
       "      <td>Показать на главной странице баннеры с актуаль...</td>\n",
       "      <td>5</td>\n",
       "      <td>3</td>\n",
       "      <td>8</td>\n",
       "      <td>3</td>\n",
       "    </tr>\n",
       "    <tr>\n",
       "      <th>7</th>\n",
       "      <td>Добавить форму подписки на все основные страни...</td>\n",
       "      <td>10</td>\n",
       "      <td>7</td>\n",
       "      <td>8</td>\n",
       "      <td>5</td>\n",
       "    </tr>\n",
       "    <tr>\n",
       "      <th>8</th>\n",
       "      <td>Запустить акцию, дающую скидку на товар в день...</td>\n",
       "      <td>1</td>\n",
       "      <td>9</td>\n",
       "      <td>9</td>\n",
       "      <td>5</td>\n",
       "    </tr>\n",
       "  </tbody>\n",
       "</table>\n",
       "</div>"
      ],
      "text/plain": [
       "                                          Hypothesis  Reach  Impact  \\\n",
       "0  Добавить два новых канала привлечения трафика,...      3      10   \n",
       "1  Запустить собственную службу доставки, что сок...      2       5   \n",
       "2  Добавить блоки рекомендаций товаров на сайт ин...      8       3   \n",
       "3  Изменить структура категорий, что увеличит кон...      8       3   \n",
       "4  Изменить цвет фона главной страницы, чтобы уве...      3       1   \n",
       "5  Добавить страницу отзывов клиентов о магазине,...      3       2   \n",
       "6  Показать на главной странице баннеры с актуаль...      5       3   \n",
       "7  Добавить форму подписки на все основные страни...     10       7   \n",
       "8  Запустить акцию, дающую скидку на товар в день...      1       9   \n",
       "\n",
       "   Confidence  Efforts  \n",
       "0           8        6  \n",
       "1           4       10  \n",
       "2           7        3  \n",
       "3           3        8  \n",
       "4           1        1  \n",
       "5           2        3  \n",
       "6           8        3  \n",
       "7           8        5  \n",
       "8           9        5  "
      ]
     },
     "execution_count": 2,
     "metadata": {},
     "output_type": "execute_result"
    }
   ],
   "source": [
    "# таблица с гипотезами\n",
    "\n",
    "hypothesis = pd.read_csv('/Users/polina/Downloads/hypothesis.csv')\n",
    "hypothesis"
   ]
  },
  {
   "cell_type": "code",
   "execution_count": 3,
   "metadata": {},
   "outputs": [],
   "source": [
    "# приведем названия столбцов к нижнему регистру\n",
    "\n",
    "hypothesis.columns =  hypothesis.columns.str.lower()"
   ]
  },
  {
   "cell_type": "markdown",
   "metadata": {},
   "source": [
    "### Приоритизация методом ICE"
   ]
  },
  {
   "cell_type": "code",
   "execution_count": 4,
   "metadata": {},
   "outputs": [
    {
     "data": {
      "text/html": [
       "<div>\n",
       "<style scoped>\n",
       "    .dataframe tbody tr th:only-of-type {\n",
       "        vertical-align: middle;\n",
       "    }\n",
       "\n",
       "    .dataframe tbody tr th {\n",
       "        vertical-align: top;\n",
       "    }\n",
       "\n",
       "    .dataframe thead th {\n",
       "        text-align: right;\n",
       "    }\n",
       "</style>\n",
       "<table border=\"1\" class=\"dataframe\">\n",
       "  <thead>\n",
       "    <tr style=\"text-align: right;\">\n",
       "      <th></th>\n",
       "      <th>hypothesis</th>\n",
       "      <th>reach</th>\n",
       "      <th>impact</th>\n",
       "      <th>confidence</th>\n",
       "      <th>efforts</th>\n",
       "      <th>ice_score</th>\n",
       "    </tr>\n",
       "  </thead>\n",
       "  <tbody>\n",
       "    <tr>\n",
       "      <th>8</th>\n",
       "      <td>Запустить акцию, дающую скидку на товар в день рождения</td>\n",
       "      <td>1</td>\n",
       "      <td>9</td>\n",
       "      <td>9</td>\n",
       "      <td>5</td>\n",
       "      <td>16.200000</td>\n",
       "    </tr>\n",
       "    <tr>\n",
       "      <th>0</th>\n",
       "      <td>Добавить два новых канала привлечения трафика, что позволит привлекать на 30% больше пользователей</td>\n",
       "      <td>3</td>\n",
       "      <td>10</td>\n",
       "      <td>8</td>\n",
       "      <td>6</td>\n",
       "      <td>13.333333</td>\n",
       "    </tr>\n",
       "    <tr>\n",
       "      <th>7</th>\n",
       "      <td>Добавить форму подписки на все основные страницы, чтобы собрать базу клиентов для email-рассылок</td>\n",
       "      <td>10</td>\n",
       "      <td>7</td>\n",
       "      <td>8</td>\n",
       "      <td>5</td>\n",
       "      <td>11.200000</td>\n",
       "    </tr>\n",
       "    <tr>\n",
       "      <th>6</th>\n",
       "      <td>Показать на главной странице баннеры с актуальными акциями и распродажами, чтобы увеличить конверсию</td>\n",
       "      <td>5</td>\n",
       "      <td>3</td>\n",
       "      <td>8</td>\n",
       "      <td>3</td>\n",
       "      <td>8.000000</td>\n",
       "    </tr>\n",
       "    <tr>\n",
       "      <th>2</th>\n",
       "      <td>Добавить блоки рекомендаций товаров на сайт интернет магазина, чтобы повысить конверсию и средний чек заказа</td>\n",
       "      <td>8</td>\n",
       "      <td>3</td>\n",
       "      <td>7</td>\n",
       "      <td>3</td>\n",
       "      <td>7.000000</td>\n",
       "    </tr>\n",
       "    <tr>\n",
       "      <th>1</th>\n",
       "      <td>Запустить собственную службу доставки, что сократит срок доставки заказов</td>\n",
       "      <td>2</td>\n",
       "      <td>5</td>\n",
       "      <td>4</td>\n",
       "      <td>10</td>\n",
       "      <td>2.000000</td>\n",
       "    </tr>\n",
       "    <tr>\n",
       "      <th>5</th>\n",
       "      <td>Добавить страницу отзывов клиентов о магазине, что позволит увеличить количество заказов</td>\n",
       "      <td>3</td>\n",
       "      <td>2</td>\n",
       "      <td>2</td>\n",
       "      <td>3</td>\n",
       "      <td>1.333333</td>\n",
       "    </tr>\n",
       "    <tr>\n",
       "      <th>3</th>\n",
       "      <td>Изменить структура категорий, что увеличит конверсию, т.к. пользователи быстрее найдут нужный товар</td>\n",
       "      <td>8</td>\n",
       "      <td>3</td>\n",
       "      <td>3</td>\n",
       "      <td>8</td>\n",
       "      <td>1.125000</td>\n",
       "    </tr>\n",
       "    <tr>\n",
       "      <th>4</th>\n",
       "      <td>Изменить цвет фона главной страницы, чтобы увеличить вовлеченность пользователей</td>\n",
       "      <td>3</td>\n",
       "      <td>1</td>\n",
       "      <td>1</td>\n",
       "      <td>1</td>\n",
       "      <td>1.000000</td>\n",
       "    </tr>\n",
       "  </tbody>\n",
       "</table>\n",
       "</div>"
      ],
      "text/plain": [
       "                                                                                                     hypothesis  \\\n",
       "8  Запустить акцию, дающую скидку на товар в день рождения                                                        \n",
       "0  Добавить два новых канала привлечения трафика, что позволит привлекать на 30% больше пользователей             \n",
       "7  Добавить форму подписки на все основные страницы, чтобы собрать базу клиентов для email-рассылок               \n",
       "6  Показать на главной странице баннеры с актуальными акциями и распродажами, чтобы увеличить конверсию           \n",
       "2  Добавить блоки рекомендаций товаров на сайт интернет магазина, чтобы повысить конверсию и средний чек заказа   \n",
       "1  Запустить собственную службу доставки, что сократит срок доставки заказов                                      \n",
       "5  Добавить страницу отзывов клиентов о магазине, что позволит увеличить количество заказов                       \n",
       "3  Изменить структура категорий, что увеличит конверсию, т.к. пользователи быстрее найдут нужный товар            \n",
       "4  Изменить цвет фона главной страницы, чтобы увеличить вовлеченность пользователей                               \n",
       "\n",
       "   reach  impact  confidence  efforts  ice_score  \n",
       "8  1      9       9           5        16.200000  \n",
       "0  3      10      8           6        13.333333  \n",
       "7  10     7       8           5        11.200000  \n",
       "6  5      3       8           3        8.000000   \n",
       "2  8      3       7           3        7.000000   \n",
       "1  2      5       4           10       2.000000   \n",
       "5  3      2       2           3        1.333333   \n",
       "3  8      3       3           8        1.125000   \n",
       "4  3      1       1           1        1.000000   "
      ]
     },
     "metadata": {},
     "output_type": "display_data"
    }
   ],
   "source": [
    "def ice_score(row):\n",
    "    ice = (row['impact'] * row['confidence']) / row['efforts']\n",
    "    return ice\n",
    "\n",
    "hypothesis['ice_score'] = hypothesis.apply(ice_score, axis = 1)\n",
    "hypothesis = hypothesis.sort_values(by = 'ice_score', ascending = False)\n",
    "pd.options.display.max_colwidth = 1\n",
    "display(hypothesis)"
   ]
  },
  {
   "cell_type": "markdown",
   "metadata": {},
   "source": [
    "### Приоретизация методом RICE"
   ]
  },
  {
   "cell_type": "code",
   "execution_count": 5,
   "metadata": {},
   "outputs": [
    {
     "data": {
      "text/html": [
       "<div>\n",
       "<style scoped>\n",
       "    .dataframe tbody tr th:only-of-type {\n",
       "        vertical-align: middle;\n",
       "    }\n",
       "\n",
       "    .dataframe tbody tr th {\n",
       "        vertical-align: top;\n",
       "    }\n",
       "\n",
       "    .dataframe thead th {\n",
       "        text-align: right;\n",
       "    }\n",
       "</style>\n",
       "<table border=\"1\" class=\"dataframe\">\n",
       "  <thead>\n",
       "    <tr style=\"text-align: right;\">\n",
       "      <th></th>\n",
       "      <th>hypothesis</th>\n",
       "      <th>reach</th>\n",
       "      <th>impact</th>\n",
       "      <th>confidence</th>\n",
       "      <th>efforts</th>\n",
       "      <th>ice_score</th>\n",
       "      <th>rice_score</th>\n",
       "    </tr>\n",
       "  </thead>\n",
       "  <tbody>\n",
       "    <tr>\n",
       "      <th>7</th>\n",
       "      <td>Добавить форму подписки на все основные страницы, чтобы собрать базу клиентов для email-рассылок</td>\n",
       "      <td>10</td>\n",
       "      <td>7</td>\n",
       "      <td>8</td>\n",
       "      <td>5</td>\n",
       "      <td>11.200000</td>\n",
       "      <td>112.0</td>\n",
       "    </tr>\n",
       "    <tr>\n",
       "      <th>2</th>\n",
       "      <td>Добавить блоки рекомендаций товаров на сайт интернет магазина, чтобы повысить конверсию и средний чек заказа</td>\n",
       "      <td>8</td>\n",
       "      <td>3</td>\n",
       "      <td>7</td>\n",
       "      <td>3</td>\n",
       "      <td>7.000000</td>\n",
       "      <td>56.0</td>\n",
       "    </tr>\n",
       "    <tr>\n",
       "      <th>0</th>\n",
       "      <td>Добавить два новых канала привлечения трафика, что позволит привлекать на 30% больше пользователей</td>\n",
       "      <td>3</td>\n",
       "      <td>10</td>\n",
       "      <td>8</td>\n",
       "      <td>6</td>\n",
       "      <td>13.333333</td>\n",
       "      <td>40.0</td>\n",
       "    </tr>\n",
       "    <tr>\n",
       "      <th>6</th>\n",
       "      <td>Показать на главной странице баннеры с актуальными акциями и распродажами, чтобы увеличить конверсию</td>\n",
       "      <td>5</td>\n",
       "      <td>3</td>\n",
       "      <td>8</td>\n",
       "      <td>3</td>\n",
       "      <td>8.000000</td>\n",
       "      <td>40.0</td>\n",
       "    </tr>\n",
       "    <tr>\n",
       "      <th>8</th>\n",
       "      <td>Запустить акцию, дающую скидку на товар в день рождения</td>\n",
       "      <td>1</td>\n",
       "      <td>9</td>\n",
       "      <td>9</td>\n",
       "      <td>5</td>\n",
       "      <td>16.200000</td>\n",
       "      <td>16.2</td>\n",
       "    </tr>\n",
       "    <tr>\n",
       "      <th>3</th>\n",
       "      <td>Изменить структура категорий, что увеличит конверсию, т.к. пользователи быстрее найдут нужный товар</td>\n",
       "      <td>8</td>\n",
       "      <td>3</td>\n",
       "      <td>3</td>\n",
       "      <td>8</td>\n",
       "      <td>1.125000</td>\n",
       "      <td>9.0</td>\n",
       "    </tr>\n",
       "    <tr>\n",
       "      <th>1</th>\n",
       "      <td>Запустить собственную службу доставки, что сократит срок доставки заказов</td>\n",
       "      <td>2</td>\n",
       "      <td>5</td>\n",
       "      <td>4</td>\n",
       "      <td>10</td>\n",
       "      <td>2.000000</td>\n",
       "      <td>4.0</td>\n",
       "    </tr>\n",
       "    <tr>\n",
       "      <th>5</th>\n",
       "      <td>Добавить страницу отзывов клиентов о магазине, что позволит увеличить количество заказов</td>\n",
       "      <td>3</td>\n",
       "      <td>2</td>\n",
       "      <td>2</td>\n",
       "      <td>3</td>\n",
       "      <td>1.333333</td>\n",
       "      <td>4.0</td>\n",
       "    </tr>\n",
       "    <tr>\n",
       "      <th>4</th>\n",
       "      <td>Изменить цвет фона главной страницы, чтобы увеличить вовлеченность пользователей</td>\n",
       "      <td>3</td>\n",
       "      <td>1</td>\n",
       "      <td>1</td>\n",
       "      <td>1</td>\n",
       "      <td>1.000000</td>\n",
       "      <td>3.0</td>\n",
       "    </tr>\n",
       "  </tbody>\n",
       "</table>\n",
       "</div>"
      ],
      "text/plain": [
       "                                                                                                     hypothesis  \\\n",
       "7  Добавить форму подписки на все основные страницы, чтобы собрать базу клиентов для email-рассылок               \n",
       "2  Добавить блоки рекомендаций товаров на сайт интернет магазина, чтобы повысить конверсию и средний чек заказа   \n",
       "0  Добавить два новых канала привлечения трафика, что позволит привлекать на 30% больше пользователей             \n",
       "6  Показать на главной странице баннеры с актуальными акциями и распродажами, чтобы увеличить конверсию           \n",
       "8  Запустить акцию, дающую скидку на товар в день рождения                                                        \n",
       "3  Изменить структура категорий, что увеличит конверсию, т.к. пользователи быстрее найдут нужный товар            \n",
       "1  Запустить собственную службу доставки, что сократит срок доставки заказов                                      \n",
       "5  Добавить страницу отзывов клиентов о магазине, что позволит увеличить количество заказов                       \n",
       "4  Изменить цвет фона главной страницы, чтобы увеличить вовлеченность пользователей                               \n",
       "\n",
       "   reach  impact  confidence  efforts  ice_score  rice_score  \n",
       "7  10     7       8           5        11.200000  112.0       \n",
       "2  8      3       7           3        7.000000   56.0        \n",
       "0  3      10      8           6        13.333333  40.0        \n",
       "6  5      3       8           3        8.000000   40.0        \n",
       "8  1      9       9           5        16.200000  16.2        \n",
       "3  8      3       3           8        1.125000   9.0         \n",
       "1  2      5       4           10       2.000000   4.0         \n",
       "5  3      2       2           3        1.333333   4.0         \n",
       "4  3      1       1           1        1.000000   3.0         "
      ]
     },
     "execution_count": 5,
     "metadata": {},
     "output_type": "execute_result"
    }
   ],
   "source": [
    "def rice_score(row):\n",
    "    rice = (row['reach'] * row['impact'] * row['confidence']) / row['efforts']\n",
    "    return rice\n",
    "hypothesis['rice_score'] = hypothesis.apply(rice_score, axis = 1)\n",
    "hypothesis.sort_values(by = 'rice_score', ascending = False)"
   ]
  },
  {
   "cell_type": "markdown",
   "metadata": {},
   "source": [
    "### Вывод:\n"
   ]
  },
  {
   "cell_type": "markdown",
   "metadata": {},
   "source": [
    "1. В таблице с гипотезами были созданы два столбца с оценкой задачи для их приоритизации. Отличие двух использвоанных методов, ICE и RICE, в том, что RICE учитывает и количество пользователей, которых затронет изменение, предлагаемое в гипотезе. Чем выше это количество, тем она важней. Поэтому топ приоритетных гипотез может различаться в зависимости от метода.\n",
    "2. Топ-3 приоритетных гипотез для ICE: гипотезы с индексом 8, 0, 7. Для RICE: 7, 2, 0. На последнем мете в обоих случаях гипотеза 4.\n",
    "3. Так как метод RICE учитывает больше фаторов, лучше принимать именно его результаты. "
   ]
  },
  {
   "cell_type": "markdown",
   "metadata": {},
   "source": [
    "## Анализ A/B-теста"
   ]
  },
  {
   "cell_type": "markdown",
   "metadata": {},
   "source": [
    "### Исследование данных"
   ]
  },
  {
   "cell_type": "code",
   "execution_count": 6,
   "metadata": {},
   "outputs": [
    {
     "data": {
      "text/html": [
       "<div>\n",
       "<style scoped>\n",
       "    .dataframe tbody tr th:only-of-type {\n",
       "        vertical-align: middle;\n",
       "    }\n",
       "\n",
       "    .dataframe tbody tr th {\n",
       "        vertical-align: top;\n",
       "    }\n",
       "\n",
       "    .dataframe thead th {\n",
       "        text-align: right;\n",
       "    }\n",
       "</style>\n",
       "<table border=\"1\" class=\"dataframe\">\n",
       "  <thead>\n",
       "    <tr style=\"text-align: right;\">\n",
       "      <th></th>\n",
       "      <th>transactionId</th>\n",
       "      <th>visitorId</th>\n",
       "      <th>date</th>\n",
       "      <th>revenue</th>\n",
       "      <th>group</th>\n",
       "    </tr>\n",
       "  </thead>\n",
       "  <tbody>\n",
       "    <tr>\n",
       "      <th>0</th>\n",
       "      <td>3667963787</td>\n",
       "      <td>3312258926</td>\n",
       "      <td>2019-08-15</td>\n",
       "      <td>1650</td>\n",
       "      <td>B</td>\n",
       "    </tr>\n",
       "    <tr>\n",
       "      <th>1</th>\n",
       "      <td>2804400009</td>\n",
       "      <td>3642806036</td>\n",
       "      <td>2019-08-15</td>\n",
       "      <td>730</td>\n",
       "      <td>B</td>\n",
       "    </tr>\n",
       "    <tr>\n",
       "      <th>2</th>\n",
       "      <td>2961555356</td>\n",
       "      <td>4069496402</td>\n",
       "      <td>2019-08-15</td>\n",
       "      <td>400</td>\n",
       "      <td>A</td>\n",
       "    </tr>\n",
       "    <tr>\n",
       "      <th>3</th>\n",
       "      <td>3797467345</td>\n",
       "      <td>1196621759</td>\n",
       "      <td>2019-08-15</td>\n",
       "      <td>9759</td>\n",
       "      <td>B</td>\n",
       "    </tr>\n",
       "    <tr>\n",
       "      <th>4</th>\n",
       "      <td>2282983706</td>\n",
       "      <td>2322279887</td>\n",
       "      <td>2019-08-15</td>\n",
       "      <td>2308</td>\n",
       "      <td>B</td>\n",
       "    </tr>\n",
       "  </tbody>\n",
       "</table>\n",
       "</div>"
      ],
      "text/plain": [
       "   transactionId   visitorId        date  revenue group\n",
       "0  3667963787     3312258926  2019-08-15  1650     B   \n",
       "1  2804400009     3642806036  2019-08-15  730      B   \n",
       "2  2961555356     4069496402  2019-08-15  400      A   \n",
       "3  3797467345     1196621759  2019-08-15  9759     B   \n",
       "4  2282983706     2322279887  2019-08-15  2308     B   "
      ]
     },
     "metadata": {},
     "output_type": "display_data"
    },
    {
     "name": "stdout",
     "output_type": "stream",
     "text": [
      "<class 'pandas.core.frame.DataFrame'>\n",
      "RangeIndex: 1197 entries, 0 to 1196\n",
      "Data columns (total 5 columns):\n",
      " #   Column         Non-Null Count  Dtype \n",
      "---  ------         --------------  ----- \n",
      " 0   transactionId  1197 non-null   int64 \n",
      " 1   visitorId      1197 non-null   int64 \n",
      " 2   date           1197 non-null   object\n",
      " 3   revenue        1197 non-null   int64 \n",
      " 4   group          1197 non-null   object\n",
      "dtypes: int64(3), object(2)\n",
      "memory usage: 46.9+ KB\n"
     ]
    },
    {
     "data": {
      "text/plain": [
       "None"
      ]
     },
     "metadata": {},
     "output_type": "display_data"
    },
    {
     "data": {
      "text/html": [
       "<div>\n",
       "<style scoped>\n",
       "    .dataframe tbody tr th:only-of-type {\n",
       "        vertical-align: middle;\n",
       "    }\n",
       "\n",
       "    .dataframe tbody tr th {\n",
       "        vertical-align: top;\n",
       "    }\n",
       "\n",
       "    .dataframe thead th {\n",
       "        text-align: right;\n",
       "    }\n",
       "</style>\n",
       "<table border=\"1\" class=\"dataframe\">\n",
       "  <thead>\n",
       "    <tr style=\"text-align: right;\">\n",
       "      <th></th>\n",
       "      <th>date</th>\n",
       "      <th>group</th>\n",
       "      <th>visitors</th>\n",
       "    </tr>\n",
       "  </thead>\n",
       "  <tbody>\n",
       "    <tr>\n",
       "      <th>0</th>\n",
       "      <td>2019-08-01</td>\n",
       "      <td>A</td>\n",
       "      <td>719</td>\n",
       "    </tr>\n",
       "    <tr>\n",
       "      <th>1</th>\n",
       "      <td>2019-08-02</td>\n",
       "      <td>A</td>\n",
       "      <td>619</td>\n",
       "    </tr>\n",
       "    <tr>\n",
       "      <th>2</th>\n",
       "      <td>2019-08-03</td>\n",
       "      <td>A</td>\n",
       "      <td>507</td>\n",
       "    </tr>\n",
       "    <tr>\n",
       "      <th>3</th>\n",
       "      <td>2019-08-04</td>\n",
       "      <td>A</td>\n",
       "      <td>717</td>\n",
       "    </tr>\n",
       "    <tr>\n",
       "      <th>4</th>\n",
       "      <td>2019-08-05</td>\n",
       "      <td>A</td>\n",
       "      <td>756</td>\n",
       "    </tr>\n",
       "  </tbody>\n",
       "</table>\n",
       "</div>"
      ],
      "text/plain": [
       "         date group  visitors\n",
       "0  2019-08-01  A     719     \n",
       "1  2019-08-02  A     619     \n",
       "2  2019-08-03  A     507     \n",
       "3  2019-08-04  A     717     \n",
       "4  2019-08-05  A     756     "
      ]
     },
     "metadata": {},
     "output_type": "display_data"
    },
    {
     "name": "stdout",
     "output_type": "stream",
     "text": [
      "<class 'pandas.core.frame.DataFrame'>\n",
      "RangeIndex: 62 entries, 0 to 61\n",
      "Data columns (total 3 columns):\n",
      " #   Column    Non-Null Count  Dtype \n",
      "---  ------    --------------  ----- \n",
      " 0   date      62 non-null     object\n",
      " 1   group     62 non-null     object\n",
      " 2   visitors  62 non-null     int64 \n",
      "dtypes: int64(1), object(2)\n",
      "memory usage: 1.6+ KB\n"
     ]
    },
    {
     "data": {
      "text/plain": [
       "None"
      ]
     },
     "metadata": {},
     "output_type": "display_data"
    }
   ],
   "source": [
    "orders = pd.read_csv('/Users/polina/Desktop/Новая папка/orders.csv')\n",
    "visitors = pd.read_csv('/Users/polina/Desktop/Новая папка/visitors.csv')\n",
    "display(orders.head(5))\n",
    "display(orders.info())\n",
    "display(visitors.head(5))\n",
    "display(visitors.info())"
   ]
  },
  {
   "cell_type": "code",
   "execution_count": 7,
   "metadata": {},
   "outputs": [],
   "source": [
    "# изменим названия столбцов в таблице orders\n",
    "orders.columns = ['transaction_id', 'visitor_id', 'date', 'revenue', 'group']"
   ]
  },
  {
   "cell_type": "code",
   "execution_count": 8,
   "metadata": {},
   "outputs": [
    {
     "name": "stdout",
     "output_type": "stream",
     "text": [
      "0\n",
      "0\n"
     ]
    }
   ],
   "source": [
    "# проверка дубликатов\n",
    "print(orders.duplicated().sum())\n",
    "print(visitors.duplicated().sum())"
   ]
  },
  {
   "cell_type": "code",
   "execution_count": 9,
   "metadata": {},
   "outputs": [
    {
     "data": {
      "text/html": [
       "<div>\n",
       "<style scoped>\n",
       "    .dataframe tbody tr th:only-of-type {\n",
       "        vertical-align: middle;\n",
       "    }\n",
       "\n",
       "    .dataframe tbody tr th {\n",
       "        vertical-align: top;\n",
       "    }\n",
       "\n",
       "    .dataframe thead th {\n",
       "        text-align: right;\n",
       "    }\n",
       "</style>\n",
       "<table border=\"1\" class=\"dataframe\">\n",
       "  <thead>\n",
       "    <tr style=\"text-align: right;\">\n",
       "      <th></th>\n",
       "      <th>index</th>\n",
       "      <th>visitor_id</th>\n",
       "    </tr>\n",
       "  </thead>\n",
       "  <tbody>\n",
       "    <tr>\n",
       "      <th>0</th>\n",
       "      <td>2</td>\n",
       "      <td>4069496402</td>\n",
       "    </tr>\n",
       "    <tr>\n",
       "      <th>1</th>\n",
       "      <td>7</td>\n",
       "      <td>78758296</td>\n",
       "    </tr>\n",
       "    <tr>\n",
       "      <th>2</th>\n",
       "      <td>8</td>\n",
       "      <td>295230930</td>\n",
       "    </tr>\n",
       "    <tr>\n",
       "      <th>3</th>\n",
       "      <td>10</td>\n",
       "      <td>879864040</td>\n",
       "    </tr>\n",
       "    <tr>\n",
       "      <th>4</th>\n",
       "      <td>12</td>\n",
       "      <td>3213223594</td>\n",
       "    </tr>\n",
       "  </tbody>\n",
       "</table>\n",
       "</div>"
      ],
      "text/plain": [
       "   index  visitor_id\n",
       "0  2      4069496402\n",
       "1  7      78758296  \n",
       "2  8      295230930 \n",
       "3  10     879864040 \n",
       "4  12     3213223594"
      ]
     },
     "metadata": {},
     "output_type": "display_data"
    },
    {
     "data": {
      "text/html": [
       "<div>\n",
       "<style scoped>\n",
       "    .dataframe tbody tr th:only-of-type {\n",
       "        vertical-align: middle;\n",
       "    }\n",
       "\n",
       "    .dataframe tbody tr th {\n",
       "        vertical-align: top;\n",
       "    }\n",
       "\n",
       "    .dataframe thead th {\n",
       "        text-align: right;\n",
       "    }\n",
       "</style>\n",
       "<table border=\"1\" class=\"dataframe\">\n",
       "  <thead>\n",
       "    <tr style=\"text-align: right;\">\n",
       "      <th></th>\n",
       "      <th>index</th>\n",
       "      <th>visitor_id</th>\n",
       "    </tr>\n",
       "  </thead>\n",
       "  <tbody>\n",
       "    <tr>\n",
       "      <th>0</th>\n",
       "      <td>0</td>\n",
       "      <td>3312258926</td>\n",
       "    </tr>\n",
       "    <tr>\n",
       "      <th>1</th>\n",
       "      <td>1</td>\n",
       "      <td>3642806036</td>\n",
       "    </tr>\n",
       "    <tr>\n",
       "      <th>2</th>\n",
       "      <td>3</td>\n",
       "      <td>1196621759</td>\n",
       "    </tr>\n",
       "    <tr>\n",
       "      <th>3</th>\n",
       "      <td>4</td>\n",
       "      <td>2322279887</td>\n",
       "    </tr>\n",
       "    <tr>\n",
       "      <th>4</th>\n",
       "      <td>5</td>\n",
       "      <td>935554773</td>\n",
       "    </tr>\n",
       "  </tbody>\n",
       "</table>\n",
       "</div>"
      ],
      "text/plain": [
       "   index  visitor_id\n",
       "0  0      3312258926\n",
       "1  1      3642806036\n",
       "2  3      1196621759\n",
       "3  4      2322279887\n",
       "4  5      935554773 "
      ]
     },
     "metadata": {},
     "output_type": "display_data"
    },
    {
     "data": {
      "text/html": [
       "<div>\n",
       "<style scoped>\n",
       "    .dataframe tbody tr th:only-of-type {\n",
       "        vertical-align: middle;\n",
       "    }\n",
       "\n",
       "    .dataframe tbody tr th {\n",
       "        vertical-align: top;\n",
       "    }\n",
       "\n",
       "    .dataframe thead th {\n",
       "        text-align: right;\n",
       "    }\n",
       "</style>\n",
       "<table border=\"1\" class=\"dataframe\">\n",
       "  <thead>\n",
       "    <tr style=\"text-align: right;\">\n",
       "      <th></th>\n",
       "      <th>index_x</th>\n",
       "      <th>visitor_id</th>\n",
       "      <th>index_y</th>\n",
       "    </tr>\n",
       "  </thead>\n",
       "  <tbody>\n",
       "    <tr>\n",
       "      <th>0</th>\n",
       "      <td>2</td>\n",
       "      <td>4069496402</td>\n",
       "      <td>1070</td>\n",
       "    </tr>\n",
       "    <tr>\n",
       "      <th>1</th>\n",
       "      <td>26</td>\n",
       "      <td>199603092</td>\n",
       "      <td>246</td>\n",
       "    </tr>\n",
       "    <tr>\n",
       "      <th>2</th>\n",
       "      <td>134</td>\n",
       "      <td>199603092</td>\n",
       "      <td>246</td>\n",
       "    </tr>\n",
       "    <tr>\n",
       "      <th>3</th>\n",
       "      <td>823</td>\n",
       "      <td>199603092</td>\n",
       "      <td>246</td>\n",
       "    </tr>\n",
       "    <tr>\n",
       "      <th>4</th>\n",
       "      <td>1102</td>\n",
       "      <td>199603092</td>\n",
       "      <td>246</td>\n",
       "    </tr>\n",
       "  </tbody>\n",
       "</table>\n",
       "</div>"
      ],
      "text/plain": [
       "   index_x  visitor_id  index_y\n",
       "0  2        4069496402  1070   \n",
       "1  26       199603092   246    \n",
       "2  134      199603092   246    \n",
       "3  823      199603092   246    \n",
       "4  1102     199603092   246    "
      ]
     },
     "metadata": {},
     "output_type": "display_data"
    },
    {
     "name": "stdout",
     "output_type": "stream",
     "text": [
      "[4069496402  199603092 3803269165 2378935119  237748145 4256040402\n",
      " 2038680547 1738359350 2458001652 3891541246 2716752286 3656415546\n",
      " 2686716486 2954449915 2927087541 3234906277  457167155 2579882178\n",
      " 3957174400 1648269707 2780786433  818047933 2044997962 1959144690\n",
      " 3202540741 1333886533  351125977 3951559397  393266494 3984495233\n",
      " 4120364173 4266935830 1230306981 1294878855 1614305549    8300375\n",
      "  477780734 1668030113 3717692402 3766097110 3941795274  471551937\n",
      " 1316129916 1801183820 1602967004 2587333274 2600415354  232979603\n",
      " 3972127743 1404934699  276558944 3062433592 2654030115 3963646447\n",
      " 4186807279 2712142231 2949041841  963407295]\n"
     ]
    }
   ],
   "source": [
    "# проверка на пользователей, попавших в обе группы тетстирования\n",
    "group_a = orders[orders['group'] == 'A']['visitor_id']\n",
    "group_a = group_a.reset_index()\n",
    "group_b = orders[orders['group'] == 'B']['visitor_id']\n",
    "group_b = group_b.reset_index()\n",
    "display(group_a.head(5))\n",
    "display(group_b.head(5))\n",
    "both_groups = group_a.merge(group_b, how = 'inner', on = 'visitor_id')\n",
    "display(both_groups.head(5))\n",
    "list_of_duplicated_users = both_groups['visitor_id'].unique()\n",
    "print(list_of_duplicated_users)"
   ]
  },
  {
   "cell_type": "code",
   "execution_count": 10,
   "metadata": {},
   "outputs": [
    {
     "name": "stdout",
     "output_type": "stream",
     "text": [
      "<class 'pandas.core.frame.DataFrame'>\n",
      "Int64Index: 1016 entries, 0 to 1196\n",
      "Data columns (total 5 columns):\n",
      " #   Column          Non-Null Count  Dtype \n",
      "---  ------          --------------  ----- \n",
      " 0   transaction_id  1016 non-null   int64 \n",
      " 1   visitor_id      1016 non-null   int64 \n",
      " 2   date            1016 non-null   object\n",
      " 3   revenue         1016 non-null   int64 \n",
      " 4   group           1016 non-null   object\n",
      "dtypes: int64(3), object(2)\n",
      "memory usage: 47.6+ KB\n",
      "None\n"
     ]
    }
   ],
   "source": [
    "# удаляем пользователей, которые попали в обе группы\n",
    "\n",
    "orders = orders[orders['visitor_id'].isin(list_of_duplicated_users) == False]\n",
    "print(orders.info())        "
   ]
  },
  {
   "cell_type": "code",
   "execution_count": 11,
   "metadata": {},
   "outputs": [
    {
     "name": "stdout",
     "output_type": "stream",
     "text": [
      "<class 'pandas.core.frame.DataFrame'>\n",
      "Int64Index: 1016 entries, 0 to 1196\n",
      "Data columns (total 5 columns):\n",
      " #   Column          Non-Null Count  Dtype         \n",
      "---  ------          --------------  -----         \n",
      " 0   transaction_id  1016 non-null   int64         \n",
      " 1   visitor_id      1016 non-null   int64         \n",
      " 2   date            1016 non-null   datetime64[ns]\n",
      " 3   revenue         1016 non-null   int64         \n",
      " 4   group           1016 non-null   object        \n",
      "dtypes: datetime64[ns](1), int64(3), object(1)\n",
      "memory usage: 47.6+ KB\n"
     ]
    }
   ],
   "source": [
    "# изменим тип данных в столбцах с датами\n",
    "orders['date'] = orders['date'].map(\n",
    "    lambda x: dt.datetime.strptime(x, '%Y-%m-%d'))\n",
    "visitors['date'] = visitors['date'].map(\n",
    "    lambda x: dt.datetime.strptime(x, '%Y-%m-%d')) \n",
    "orders.info()"
   ]
  },
  {
   "cell_type": "code",
   "execution_count": 12,
   "metadata": {},
   "outputs": [
    {
     "data": {
      "text/html": [
       "<div>\n",
       "<style scoped>\n",
       "    .dataframe tbody tr th:only-of-type {\n",
       "        vertical-align: middle;\n",
       "    }\n",
       "\n",
       "    .dataframe tbody tr th {\n",
       "        vertical-align: top;\n",
       "    }\n",
       "\n",
       "    .dataframe thead th {\n",
       "        text-align: right;\n",
       "    }\n",
       "</style>\n",
       "<table border=\"1\" class=\"dataframe\">\n",
       "  <thead>\n",
       "    <tr style=\"text-align: right;\">\n",
       "      <th></th>\n",
       "      <th>date</th>\n",
       "      <th>group</th>\n",
       "      <th>cumulative_orders</th>\n",
       "      <th>cumulative_buyers</th>\n",
       "      <th>cumulative_revenue</th>\n",
       "      <th>cumulative_visitors</th>\n",
       "      <th>avg_revenue_per_buyer</th>\n",
       "      <th>cumulative_conevrsion</th>\n",
       "      <th>visitors</th>\n",
       "    </tr>\n",
       "  </thead>\n",
       "  <tbody>\n",
       "    <tr>\n",
       "      <th>0</th>\n",
       "      <td>2019-08-01</td>\n",
       "      <td>A</td>\n",
       "      <td>23</td>\n",
       "      <td>19</td>\n",
       "      <td>142779</td>\n",
       "      <td>719</td>\n",
       "      <td>6207.782609</td>\n",
       "      <td>0.026426</td>\n",
       "      <td>719</td>\n",
       "    </tr>\n",
       "    <tr>\n",
       "      <th>1</th>\n",
       "      <td>2019-08-01</td>\n",
       "      <td>B</td>\n",
       "      <td>17</td>\n",
       "      <td>17</td>\n",
       "      <td>59758</td>\n",
       "      <td>713</td>\n",
       "      <td>3515.176471</td>\n",
       "      <td>0.023843</td>\n",
       "      <td>713</td>\n",
       "    </tr>\n",
       "    <tr>\n",
       "      <th>2</th>\n",
       "      <td>2019-08-02</td>\n",
       "      <td>A</td>\n",
       "      <td>42</td>\n",
       "      <td>36</td>\n",
       "      <td>234381</td>\n",
       "      <td>1338</td>\n",
       "      <td>5580.500000</td>\n",
       "      <td>0.026906</td>\n",
       "      <td>619</td>\n",
       "    </tr>\n",
       "    <tr>\n",
       "      <th>3</th>\n",
       "      <td>2019-08-02</td>\n",
       "      <td>B</td>\n",
       "      <td>40</td>\n",
       "      <td>39</td>\n",
       "      <td>221801</td>\n",
       "      <td>1294</td>\n",
       "      <td>5545.025000</td>\n",
       "      <td>0.030139</td>\n",
       "      <td>581</td>\n",
       "    </tr>\n",
       "    <tr>\n",
       "      <th>4</th>\n",
       "      <td>2019-08-03</td>\n",
       "      <td>A</td>\n",
       "      <td>66</td>\n",
       "      <td>60</td>\n",
       "      <td>346854</td>\n",
       "      <td>1845</td>\n",
       "      <td>5255.363636</td>\n",
       "      <td>0.032520</td>\n",
       "      <td>507</td>\n",
       "    </tr>\n",
       "  </tbody>\n",
       "</table>\n",
       "</div>"
      ],
      "text/plain": [
       "        date group  cumulative_orders  cumulative_buyers  cumulative_revenue  \\\n",
       "0 2019-08-01  A     23                 19                 142779               \n",
       "1 2019-08-01  B     17                 17                 59758                \n",
       "2 2019-08-02  A     42                 36                 234381               \n",
       "3 2019-08-02  B     40                 39                 221801               \n",
       "4 2019-08-03  A     66                 60                 346854               \n",
       "\n",
       "   cumulative_visitors  avg_revenue_per_buyer  cumulative_conevrsion  visitors  \n",
       "0  719                  6207.782609            0.026426               719       \n",
       "1  713                  3515.176471            0.023843               713       \n",
       "2  1338                 5580.500000            0.026906               619       \n",
       "3  1294                 5545.025000            0.030139               581       \n",
       "4  1845                 5255.363636            0.032520               507       "
      ]
     },
     "metadata": {},
     "output_type": "display_data"
    }
   ],
   "source": [
    "# таблица с кумулятивными выручкой, кол-вом заказов, средним чеком, конверсией и относительным изменением комулятивного ср. чека группы В к А и конверсией\n",
    "dates_groups = orders[['date','group']].drop_duplicates() \n",
    "dates_groups\n",
    "orders_aggregated = dates_groups.apply(lambda x: orders[np.logical_and(orders['date'] <= x['date'], orders['group'] == x['group'])].agg({'date' : 'max', 'group' : 'max', 'transaction_id' : 'nunique', 'visitor_id' : 'nunique', 'revenue' : 'sum'}), axis=1).sort_values(by=['date','group'])\n",
    "visitors_aggregated = dates_groups.apply(lambda x: visitors[np.logical_and(visitors['date'] <= x['date'], visitors['group'] == x['group'])].agg({'date' : 'max', 'group' : 'max', 'visitors' : 'sum'}), axis=1).sort_values(by=['date','group'])\n",
    "cumulative_data = orders_aggregated.merge(visitors_aggregated, left_on=['date', 'group'], right_on=['date', 'group'])\n",
    "cumulative_data.columns = ['date', 'group', 'cumulative_orders', 'cumulative_buyers', 'cumulative_revenue', 'cumulative_visitors']\n",
    "cumulative_data['avg_revenue_per_buyer'] = cumulative_data['cumulative_revenue'] / cumulative_data['cumulative_orders']\n",
    "cumulative_data['cumulative_conevrsion'] = cumulative_data['cumulative_buyers'] / cumulative_data['cumulative_visitors']\n",
    "cumulative_data = cumulative_data.merge(visitors, on = ['date', 'group'], how = 'outer')\n",
    "\n",
    "display(cumulative_data.head(5)) "
   ]
  },
  {
   "cell_type": "markdown",
   "metadata": {},
   "source": [
    "###  Кумулятивная выручка"
   ]
  },
  {
   "cell_type": "code",
   "execution_count": 13,
   "metadata": {},
   "outputs": [
    {
     "data": {
      "image/png": "[encoded data removed]",
      "text/plain": [
       "<Figure size 1080x720 with 1 Axes>"
      ]
     },
     "metadata": {
      "needs_background": "light"
     },
     "output_type": "display_data"
    }
   ],
   "source": [
    "cumulative_a = cumulative_data.query(\"group == 'A'\")\n",
    "cumulative_b = cumulative_data.query(\"group == 'B'\")\n",
    "\n",
    "plt.figure(figsize = (15,10))\n",
    "plt.plot(cumulative_a['date'], cumulative_a['cumulative_revenue'], label = 'A')\n",
    "plt.plot(cumulative_b['date'], cumulative_b['cumulative_revenue'], label = 'B')\n",
    "plt.title('Кумулятивная выручка двух групп теста')\n",
    "plt.xlabel('Дата')\n",
    "plt.ylabel('Выручка')\n",
    "plt.xticks(rotation = 65)\n",
    "plt.legend()\n",
    "plt.grid();"
   ]
  },
  {
   "cell_type": "markdown",
   "metadata": {},
   "source": [
    "### Вывод:"
   ]
  },
  {
   "cell_type": "markdown",
   "metadata": {},
   "source": [
    "Графики кумулятивной выручки групп А и В стабильно растут. Показатель кумулятивной выручки группы В стабильно выше, чем у А. Но у обеих групп также есть и резкие скачки. У группы А точка резкого роста примерно 2019-08-11, а у группы В резкий скачок 2019-08-18. Это может сигнализировать о появляении очень дорогих заказов в выборках. Такие выбросы в дальнейшем анализе стоит убрать. "
   ]
  },
  {
   "cell_type": "markdown",
   "metadata": {},
   "source": [
    "### Кумулятивный средний чек"
   ]
  },
  {
   "cell_type": "code",
   "execution_count": 14,
   "metadata": {},
   "outputs": [
    {
     "data": {
      "image/png": "[encoded data removed]",
      "text/plain": [
       "<Figure size 1080x720 with 1 Axes>"
      ]
     },
     "metadata": {
      "needs_background": "light"
     },
     "output_type": "display_data"
    }
   ],
   "source": [
    "plt.figure(figsize = (15, 10))\n",
    "plt.plot(cumulative_a['date'], cumulative_a['avg_revenue_per_buyer'], label = 'A')\n",
    "plt.plot(cumulative_b['date'], cumulative_b['avg_revenue_per_buyer'], label = 'B')\n",
    "plt.title('Кумулятивный средний чек по группам')\n",
    "plt.xlabel('Дата')\n",
    "plt.ylabel('Средний чек')\n",
    "plt.xticks(rotation = 65)\n",
    "plt.legend()\n",
    "plt.grid();"
   ]
  },
  {
   "cell_type": "code",
   "execution_count": 15,
   "metadata": {},
   "outputs": [
    {
     "data": {
      "image/png": "[encoded data removed]",
      "text/plain": [
       "<Figure size 1080x720 with 1 Axes>"
      ]
     },
     "metadata": {
      "needs_background": "light"
     },
     "output_type": "display_data"
    }
   ],
   "source": [
    "cumulative_a_b = cumulative_a.merge(cumulative_b, left_on='date', right_on='date', how='left', suffixes=['A', 'B'])\n",
    "plt.figure(figsize = (15, 10))\n",
    "plt.plot(cumulative_a_b['date'], cumulative_a_b['avg_revenue_per_buyerB'] / cumulative_a_b['avg_revenue_per_buyerA'])\n",
    "plt.axhline(y=1, color='black', linestyle='--') \n",
    "plt.title('Относительное изменение кумулятивного среднего чека группы В к группе А')\n",
    "plt.xlabel('Дата')\n",
    "plt.ylabel('Изменение')\n",
    "plt.xticks(rotation = 65)\n",
    "plt.grid();"
   ]
  },
  {
   "cell_type": "markdown",
   "metadata": {},
   "source": [
    "### Вывод:"
   ]
  },
  {
   "cell_type": "markdown",
   "metadata": {},
   "source": [
    "1. При анализе кумулятивного среднего чека мы видим, очень варьирующиеся показатели у обеих групп. Показатели группы В, вероятней всего, еще не стабилизировались. У группы В было много точек резкого роста, что может быть связано с очень дорогими заказами. Но после того, как они прекратились, график продолжает снижаться, чтобы стабилизирвоаться после выбросов. Про график группы А можно сказать, что он стабилизовался к концу теста, несмотря на то, что график этой группы также сильно варьировался в первой половине теста, и были точки резкого роста значения. \n",
    "2. По графику относительного изменения кумулятивного среднего чека мы можем сказать, что он только начинает стабилизироваться. Мы видим много резких скачков графика, что является прямым следствием нестабильности отдельных графиков кумулятивных средних чеков каждой группы. Но примерно с 2019-08-29 график начинает стабильно двигаться по прямой. Но этого периода пока недостаточно, чтобы говорить о его стабилизации."
   ]
  },
  {
   "cell_type": "markdown",
   "metadata": {},
   "source": [
    "### Кумулятивная конверсия"
   ]
  },
  {
   "cell_type": "code",
   "execution_count": 16,
   "metadata": {},
   "outputs": [
    {
     "data": {
      "image/png": "[encoded data removed]",
      "text/plain": [
       "<Figure size 1080x720 with 1 Axes>"
      ]
     },
     "metadata": {
      "needs_background": "light"
     },
     "output_type": "display_data"
    }
   ],
   "source": [
    "plt.figure(figsize = (15, 10))\n",
    "plt.plot(cumulative_a['date'], cumulative_a['cumulative_conevrsion'], label = 'A')\n",
    "plt.plot(cumulative_b['date'], cumulative_b['cumulative_conevrsion'], label = 'B')\n",
    "plt.title('Кумулятивная конверсия по группам')\n",
    "plt.xlabel('Дата')\n",
    "plt.ylabel('Конверсия')\n",
    "plt.xticks(rotation = 65)\n",
    "plt.grid()\n",
    "plt.legend();"
   ]
  },
  {
   "cell_type": "code",
   "execution_count": 17,
   "metadata": {},
   "outputs": [
    {
     "data": {
      "image/png": "[encoded data removed]",
      "text/plain": [
       "<Figure size 1080x720 with 1 Axes>"
      ]
     },
     "metadata": {
      "needs_background": "light"
     },
     "output_type": "display_data"
    }
   ],
   "source": [
    "plt.figure(figsize = (15, 10))\n",
    "plt.plot(cumulative_a_b['date'], cumulative_a_b['cumulative_conevrsionB'] / cumulative_a_b['cumulative_conevrsionA'])\n",
    "plt.axhline(y = 1.10, color = 'black', linestyle = '--')\n",
    "plt.title('Относительное изменение конверсии группы В к группе А')\n",
    "plt.xlabel('Дата')\n",
    "plt.ylabel('Изменение конверсии')\n",
    "plt.xticks(rotation = 65)\n",
    "plt.grid();"
   ]
  },
  {
   "cell_type": "markdown",
   "metadata": {},
   "source": [
    "### Вывод:"
   ]
  },
  {
   "cell_type": "markdown",
   "metadata": {},
   "source": [
    "1. Проанализировав графики кумулятивных конверсий групп А и В, мы видим, что оба графика только начинают выравниваться. Но говорить о том, что они стабилизировались еще рано.  В первой половине наблюдения в обеих группах были большие скачки конверсии, которые начали постепенно уменьшаться во второй половине. Это также, как в случае со средним чеком, возможно, следствие выбросов в количестве заказов. \n",
    "2. На гарфике относительного изменения конверсии группы В к группе А, мы видим, что график еще не установился в районе одного показателя. Это произойдет только при стабильных показателях конверсий по группам. "
   ]
  },
  {
   "cell_type": "markdown",
   "metadata": {},
   "source": [
    "### Количество заказов по пользователям"
   ]
  },
  {
   "cell_type": "code",
   "execution_count": 18,
   "metadata": {},
   "outputs": [
    {
     "data": {
      "image/png": "[encoded data removed]",
      "text/plain": [
       "<Figure size 1080x720 with 1 Axes>"
      ]
     },
     "metadata": {
      "needs_background": "light"
     },
     "output_type": "display_data"
    }
   ],
   "source": [
    "orders_by_users = orders.groupby('visitor_id', as_index = False).agg({'transaction_id': 'nunique'})\n",
    "orders_by_users.columns = ['visitor_id', 'orders']\n",
    "x_values = pd.Series(range(0, len(orders_by_users)))\n",
    "plt.figure(figsize = (15, 10))\n",
    "plt.scatter(x_values, orders_by_users['orders'])\n",
    "plt.title('Количество заказов по пользователям')\n",
    "plt.xlabel('Пользователь')\n",
    "plt.ylabel('Количество заказов')\n",
    "plt.grid();"
   ]
  },
  {
   "cell_type": "code",
   "execution_count": 19,
   "metadata": {},
   "outputs": [
    {
     "name": "stdout",
     "output_type": "stream",
     "text": [
      "3\n",
      "1\n"
     ]
    }
   ],
   "source": [
    "print(orders_by_users['orders'].max())\n",
    "print(orders_by_users['orders'].min())"
   ]
  },
  {
   "cell_type": "code",
   "execution_count": 20,
   "metadata": {},
   "outputs": [
    {
     "name": "stdout",
     "output_type": "stream",
     "text": [
      "[1. 2.]\n"
     ]
    }
   ],
   "source": [
    "# определяем 95 и 99 перцентили для количества заказов у каждого пользователя\n",
    "print(np.percentile(orders_by_users['orders'], [95, 99]))"
   ]
  },
  {
   "cell_type": "markdown",
   "metadata": {},
   "source": [
    "### Вывод: "
   ]
  },
  {
   "cell_type": "markdown",
   "metadata": {},
   "source": [
    "1. По точечному графику количества заказов на одного пользователя, мы видим, что количество заказов на одного пользователя варьируется от 1 до 3. Но большинство значений лежит в пределах двух заказов. \n",
    "2. С помощью занчения перцентилей, мы определили, что 95% всех пользователей совершали не больше двух заказов. А 99% пользователей не больше 4. Для дальнейшего анализа будет отброшен 1% выбивающихся значений, и взяты пользователи, у которых не больше двух заказов. "
   ]
  },
  {
   "cell_type": "markdown",
   "metadata": {},
   "source": [
    "### Стоимость заказов"
   ]
  },
  {
   "cell_type": "code",
   "execution_count": 21,
   "metadata": {},
   "outputs": [
    {
     "data": {
      "image/png": "[encoded data removed]",
      "text/plain": [
       "<Figure size 1080x1080 with 1 Axes>"
      ]
     },
     "metadata": {
      "needs_background": "light"
     },
     "output_type": "display_data"
    }
   ],
   "source": [
    "x_values = pd.Series(range(0, len(orders['revenue'])))\n",
    "plt.figure(figsize = (15, 15))\n",
    "plt.scatter(x_values, orders['revenue'])\n",
    "plt.title('Стоимость заказов пользователей')\n",
    "plt.xlabel('Пользователь')\n",
    "plt.ylabel('Стоимость')\n",
    "plt.grid();"
   ]
  },
  {
   "cell_type": "code",
   "execution_count": 22,
   "metadata": {},
   "outputs": [
    {
     "name": "stdout",
     "output_type": "stream",
     "text": [
      "1294500\n",
      "50\n"
     ]
    }
   ],
   "source": [
    "print(orders['revenue'].max())\n",
    "print(orders['revenue'].min())"
   ]
  },
  {
   "cell_type": "code",
   "execution_count": 23,
   "metadata": {},
   "outputs": [
    {
     "name": "stdout",
     "output_type": "stream",
     "text": [
      "[26785. 53904.]\n"
     ]
    }
   ],
   "source": [
    "# 95 и 99 перцентили стоимостей заказов\n",
    "print(np.percentile(orders['revenue'], [95, 99]))"
   ]
  },
  {
   "cell_type": "markdown",
   "metadata": {},
   "source": [
    "### Вывод:"
   ]
  },
  {
   "cell_type": "markdown",
   "metadata": {},
   "source": [
    "1. Был создан точечный график стоимостей заказов всех пользователей. Значения варьируются от 50 до 1294500.  На графике есть две точки, которые очевидно выбиваются из общего целого, но сделать более точные выводы по графику нельзя. \n",
    "2. Были рассчитаны 95 и 99 перцентили. 95% всех заказов не превышают по стоимости 28000. А 99% всех заказов не превышают по стоимости 58233. Для дальнейшего анализа будут отброшены 5% выбивающихся значений и взяты заказы стоимостью до 28000. "
   ]
  },
  {
   "cell_type": "markdown",
   "metadata": {},
   "source": [
    "### Различия конверсий групп по \"сырым\" данным"
   ]
  },
  {
   "cell_type": "markdown",
   "metadata": {},
   "source": [
    "***Гипотезы:***\n",
    "\n",
    "H0: конверсии двух групп теста не имеют статистически значимой разницы\n",
    "\n",
    "H1: между конверсиями двух групп теста есть статистически значимая разница. "
   ]
  },
  {
   "cell_type": "code",
   "execution_count": 24,
   "metadata": {
    "scrolled": true
   },
   "outputs": [
    {
     "name": "stdout",
     "output_type": "stream",
     "text": [
      "p-значение:  0.011018084110014696\n",
      "Отвергаем нулевую гипотезу: между конверсиями есть значимая разница\n"
     ]
    }
   ],
   "source": [
    "orders_groupped = orders.groupby(['group', 'visitor_id'], as_index = False).agg({'visitor_id': 'count'})\n",
    "conversion_a = orders_groupped.query('group == \"A\"')['visitor_id']\n",
    "conversion_b = orders_groupped.query('group == \"B\"')['visitor_id']\n",
    "visitors_per_date_a = cumulative_data[cumulative_data['group'] == 'A']['visitors']\n",
    "visitors_per_date_b = cumulative_data[cumulative_data['group'] == 'B']['visitors']\n",
    "sample_a = pd.concat([conversion_a, pd.Series(0, index=np.arange(visitors_per_date_a.sum() - len(conversion_a)), name='orders')],axis=0)\n",
    "sample_b = pd.concat([conversion_b, pd.Series(0, index=np.arange(visitors_per_date_b.sum() - len(conversion_b)), name='orders')],axis=0) \n",
    "\n",
    "alpha = .05\n",
    "conversions_comparison = st.mannwhitneyu(sample_a, sample_b)\n",
    "\n",
    "\n",
    "print('p-значение: ', conversions_comparison[1])\n",
    "if conversions_comparison[1] < alpha:\n",
    "    print('Отвергаем нулевую гипотезу: между конверсиями есть значимая разница')\n",
    "else:\n",
    "    print(\n",
    "        'Не получилось отвергнуть нулевую гипотезу, нет оснований считать конверсии разными'\n",
    "    )"
   ]
  },
  {
   "cell_type": "markdown",
   "metadata": {},
   "source": [
    "### Вывод:"
   ]
  },
  {
   "cell_type": "markdown",
   "metadata": {},
   "source": [
    "Были проверены гипотезы: конверсии двух групп теста не имеют значимой разницы, или разница есть. Для этого были рассчитаны конверсии общего количества пользователей в покупателей в каждой группе за каждую дату проведения теста. Проведя статистический тест, мы отвергаем нулевую гипотезу, то есть считаем, что конверсии в двух группах имеют статистически значимую разницы."
   ]
  },
  {
   "cell_type": "markdown",
   "metadata": {},
   "source": [
    "### Различия среднего чека по \"сырым\" данным"
   ]
  },
  {
   "cell_type": "markdown",
   "metadata": {},
   "source": [
    "***Гипотезы:***\n",
    "\n",
    "H0: средние чеки двух групп теста не имеют статистически значимой разницы\n",
    "\n",
    "H1: между средними чеками двух групп теста есть статистически значимая разница"
   ]
  },
  {
   "cell_type": "code",
   "execution_count": 25,
   "metadata": {},
   "outputs": [
    {
     "name": "stdout",
     "output_type": "stream",
     "text": [
      "P-value: 0.8294908998149533\n",
      "Не получилось отвергнуть нулевую гипотезу, нет оснований считать средние чеки разными\n"
     ]
    }
   ],
   "source": [
    "avg_revenue = stats.mannwhitneyu(orders[orders['group']=='A']['revenue'], orders[orders['group']=='B']['revenue'])[1]\n",
    "print('P-value:', avg_revenue)\n",
    "if avg_revenue < alpha:\n",
    "    print('Отвергаем нулевую гипотезу: между средними чеками есть значимая разница')\n",
    "else:\n",
    "    print(\n",
    "        'Не получилось отвергнуть нулевую гипотезу, нет оснований считать средние чеки разными'\n",
    "    )"
   ]
  },
  {
   "cell_type": "markdown",
   "metadata": {},
   "source": [
    "### Вывод:"
   ]
  },
  {
   "cell_type": "markdown",
   "metadata": {},
   "source": [
    "Был проведен статистический тест для двух гипотез: средние чеки двух групп не имеют значимой разницы, и разница есть. Согласно результату теста, у нас не получилось отвергнуть гипотезу о равенстве. Поэтому принимаем гипотезу об их равенстве. "
   ]
  },
  {
   "cell_type": "markdown",
   "metadata": {},
   "source": [
    "### Различия в конверсии по \"очищенным\" данным"
   ]
  },
  {
   "cell_type": "markdown",
   "metadata": {},
   "source": [
    "***Гипотезы:***\n",
    "\n",
    "H0: конверсии двух групп теста без учета выбросов не имеют статистически значимой разницы\n",
    "\n",
    "H1: между конверсиями двух групп теста без учета выбросов есть статистически значимая разница. "
   ]
  },
  {
   "cell_type": "code",
   "execution_count": 26,
   "metadata": {},
   "outputs": [],
   "source": [
    "# удаляем из данным все выбросы и создаем новую таблицу конверсии \n",
    "cleared_orders = orders.query('revenue <= 28000')\n",
    "cleared_users = orders_by_users.query('orders <= 2')\n",
    "cleared_orders = cleared_orders[cleared_orders['visitor_id'].isin(cleared_users['visitor_id'])]\n",
    "cleared_orders_group = cleared_orders.groupby(['group', 'visitor_id'], as_index = False).agg({'visitor_id': 'count'})"
   ]
  },
  {
   "cell_type": "code",
   "execution_count": 27,
   "metadata": {},
   "outputs": [
    {
     "name": "stdout",
     "output_type": "stream",
     "text": [
      "p-значение:  0.010477648793164535\n",
      "Отвергаем нулевую гипотезу: между конверсиями есть значимая разница\n"
     ]
    }
   ],
   "source": [
    "cleared_conversion_a = cleared_orders_group.query('group == \"A\"')['visitor_id']\n",
    "cleared_conversion_b = cleared_orders_group.query('group == \"B\"')['visitor_id']\n",
    "cleared_visitors_a = cumulative_data[cumulative_data['group'] == 'A']['visitors']\n",
    "cleared_visitors_b = cumulative_data[cumulative_data['group'] == 'B']['visitors']\n",
    "sample_a = pd.concat([cleared_conversion_a, pd.Series(0, index=np.arange(visitors_per_date_a.sum() - len(cleared_conversion_a)), name='orders')],axis=0)\n",
    "sample_b = pd.concat([cleared_conversion_b, pd.Series(0, index=np.arange(visitors_per_date_b.sum() - len(cleared_conversion_b)), name='orders')],axis=0)\n",
    "\n",
    "alpha = .05\n",
    "conversions_comparison = st.mannwhitneyu(sample_a, sample_b)\n",
    "\n",
    "print('p-значение: ', conversions_comparison[1])\n",
    "if conversions_comparison[1] < alpha:\n",
    "    print('Отвергаем нулевую гипотезу: между конверсиями есть значимая разница')\n",
    "else:\n",
    "    print(\n",
    "        'Не получилось отвергнуть нулевую гипотезу, нет оснований считать конверсии разными'\n",
    "    )"
   ]
  },
  {
   "cell_type": "markdown",
   "metadata": {},
   "source": [
    "### Вывод: "
   ]
  },
  {
   "cell_type": "markdown",
   "metadata": {},
   "source": [
    "Был проведен статистический тест для двух гипотез на основе данных без выбросов: конверсии в двух группах имеют значимую разницу, или не имеют. Согласно статистическому тесту, конверсии двух групп имеют статистически значимую разницу, как и в случае с неочищенными данными. "
   ]
  },
  {
   "cell_type": "markdown",
   "metadata": {},
   "source": [
    "### Различия в среднем чеке по \"очищенным\" данным"
   ]
  },
  {
   "cell_type": "markdown",
   "metadata": {},
   "source": [
    "***Гипотезы:***\n",
    "\n",
    "H0: средние чеки двух групп теста без учета выбросов не имеют статистически значимой разницы\n",
    "\n",
    "H1: между средними чеками двух групп теста без учета выбросов есть статистически значимая разница"
   ]
  },
  {
   "cell_type": "code",
   "execution_count": 28,
   "metadata": {},
   "outputs": [
    {
     "name": "stdout",
     "output_type": "stream",
     "text": [
      "P-value: 0.7181252122463342\n",
      "Не получилось отвергнуть нулевую гипотезу, нет оснований считать средние чеки разными\n"
     ]
    }
   ],
   "source": [
    "avg_revenue_cleared = stats.mannwhitneyu(cleared_orders[cleared_orders['group']=='A']['revenue'], cleared_orders[cleared_orders['group']=='B']['revenue'])[1]\n",
    "print('P-value:', avg_revenue_cleared)\n",
    "if avg_revenue_cleared < alpha:\n",
    "    print('Отвергаем нулевую гипотезу: между средними чеками есть значимая разница')\n",
    "else:\n",
    "    print(\n",
    "        'Не получилось отвергнуть нулевую гипотезу, нет оснований считать средние чеки разными'\n",
    "    )"
   ]
  },
  {
   "cell_type": "markdown",
   "metadata": {},
   "source": [
    "### Вывод:"
   ]
  },
  {
   "cell_type": "markdown",
   "metadata": {},
   "source": [
    "Был проведен статистический тест проверки двух гипотез для очищенных данных: средние чеки двух групп равны, и средние чеки разные. Согласно результату теста, мы не отвергаем нулевую гипотезу, между средними чеками нет значимого различия. Как и в случае с тестом на данных с выбросами. "
   ]
  },
  {
   "cell_type": "markdown",
   "metadata": {},
   "source": [
    "## Общий вывод: "
   ]
  },
  {
   "cell_type": "markdown",
   "metadata": {},
   "source": [
    "1. После предварительного анализа предоставленных нам данных, были проведены операции для облегчения дальнейшей работы с ними, например, переименование столбцов или приведение данных к нужному типу. Также были выявлены пользователи, которые попали в обе группы тестирования. Эти пользователи были удалены, так как это уменьшит точность дальнейшего анализа проведенного тестирования.\n",
    "2. Былп проведена приоритизация предлагаемых для исследования гипотез. Для этого взяты два фреймфорка: ICE и RICE. Второй учитывает больше параметров, чем первый. Поэтому в качестве результа была взята приоритизация RICE. Самой приритетная гипотеза: добавить форму подписки на все основные страницы, чтобы собрать базу клиентов для email-рассылок. Она затрагивает все пользователей и может привести к серьезным изменениям. \n",
    "3. Затем был проведен анализ результатов проведения A/B тестирования на основе количества заказов, количества всех пользователей, выручки, среднего чека и конверсии."
   ]
  },
  {
   "cell_type": "markdown",
   "metadata": {},
   "source": [
    "***Результаты теста:***\n",
    "1. Различие конверсии у двух групп теста статистичсеки значимо, как в случае со всем набором данных, так и в случае с \"очищенными\" от выбросов данными.\n",
    "2. Средний чек не имеет статистически значимого различия у групп испытания, ни в полном наборе данных, ни в данных без выбросов. \n",
    "3. График относительного изменения конверсии группы В к группе А показывает, что результаты группы В стабильно лучше группы А. \n",
    "4. График относительного изменения среднего чека группы В к группе А более нестабилен, чем конверсия, но все равно к концу исследуемого периода группа В опережает группу А. "
   ]
  },
  {
   "cell_type": "markdown",
   "metadata": {},
   "source": [
    "***Решение по результатам теста:***\n",
    "\n",
    "Остановить тест и зафиксировать победу группы В, так как несмотря на отсутсвие значимого различия в среднем чеке, конверсия в группе В выше. Соотвественно, если применить изменения для группы В на всех пользователей, покупателей станет больше. \n",
    "И несмотря на то, что график относительного изменения конверсии еще не стабилизировался, он стабильно показывает, что группа В имеет большую конверсию чем группа А.\n"
   ]
  },
  {
   "cell_type": "code",
   "execution_count": null,
   "metadata": {},
   "outputs": [],
   "source": []
  }
 ],
 "metadata": {
  "ExecuteTimeLog": [
   {
    "duration": 529,
    "start_time": "2022-06-17T08:22:12.283Z"
   },
   {
    "duration": 100,
    "start_time": "2022-06-17T08:22:50.042Z"
   },
   {
    "duration": 47,
    "start_time": "2022-06-17T08:23:35.401Z"
   },
   {
    "duration": 38,
    "start_time": "2022-06-17T08:23:58.276Z"
   },
   {
    "duration": 14,
    "start_time": "2022-06-17T08:42:38.559Z"
   },
   {
    "duration": 97,
    "start_time": "2022-06-17T08:42:47.875Z"
   },
   {
    "duration": 17,
    "start_time": "2022-06-17T08:42:59.158Z"
   },
   {
    "duration": 473,
    "start_time": "2022-06-17T08:43:06.382Z"
   },
   {
    "duration": 57,
    "start_time": "2022-06-17T08:43:06.864Z"
   },
   {
    "duration": 44,
    "start_time": "2022-06-17T08:43:06.923Z"
   },
   {
    "duration": 33,
    "start_time": "2022-06-17T08:43:06.975Z"
   },
   {
    "duration": 8,
    "start_time": "2022-06-17T08:43:13.667Z"
   },
   {
    "duration": 15,
    "start_time": "2022-06-17T08:44:26.561Z"
   },
   {
    "duration": 75,
    "start_time": "2022-06-17T08:44:34.572Z"
   },
   {
    "duration": 14,
    "start_time": "2022-06-17T08:46:41.861Z"
   },
   {
    "duration": 15,
    "start_time": "2022-06-17T08:47:20.008Z"
   },
   {
    "duration": 16,
    "start_time": "2022-06-17T08:51:39.472Z"
   },
   {
    "duration": 14,
    "start_time": "2022-06-17T08:51:53.667Z"
   },
   {
    "duration": 191,
    "start_time": "2022-06-17T09:12:54.452Z"
   },
   {
    "duration": 10,
    "start_time": "2022-06-17T09:14:49.250Z"
   },
   {
    "duration": 102,
    "start_time": "2022-06-17T09:19:15.086Z"
   },
   {
    "duration": 122,
    "start_time": "2022-06-17T09:19:31.532Z"
   },
   {
    "duration": 3,
    "start_time": "2022-06-17T09:21:51.587Z"
   },
   {
    "duration": 32,
    "start_time": "2022-06-17T09:21:55.492Z"
   },
   {
    "duration": 14,
    "start_time": "2022-06-17T09:22:08.206Z"
   },
   {
    "duration": 20,
    "start_time": "2022-06-17T12:29:29.537Z"
   },
   {
    "duration": 3,
    "start_time": "2022-06-17T12:29:46.408Z"
   },
   {
    "duration": 24,
    "start_time": "2022-06-17T12:29:50.612Z"
   },
   {
    "duration": 32,
    "start_time": "2022-06-17T12:30:53.900Z"
   },
   {
    "duration": 14,
    "start_time": "2022-06-17T12:33:29.535Z"
   },
   {
    "duration": 153,
    "start_time": "2022-06-17T12:37:50.798Z"
   },
   {
    "duration": 417,
    "start_time": "2022-06-17T12:38:15.339Z"
   },
   {
    "duration": 59,
    "start_time": "2022-06-17T12:38:15.759Z"
   },
   {
    "duration": 4,
    "start_time": "2022-06-17T12:38:15.819Z"
   },
   {
    "duration": 17,
    "start_time": "2022-06-17T12:38:15.825Z"
   },
   {
    "duration": 14,
    "start_time": "2022-06-17T12:38:15.845Z"
   },
   {
    "duration": 110,
    "start_time": "2022-06-17T12:38:15.861Z"
   },
   {
    "duration": 2,
    "start_time": "2022-06-17T12:38:15.973Z"
   },
   {
    "duration": 18,
    "start_time": "2022-06-17T12:38:15.977Z"
   },
   {
    "duration": 343,
    "start_time": "2022-06-17T12:38:15.997Z"
   },
   {
    "duration": 275,
    "start_time": "2022-06-17T12:38:38.152Z"
   },
   {
    "duration": 260,
    "start_time": "2022-06-17T12:39:40.833Z"
   },
   {
    "duration": 332,
    "start_time": "2022-06-17T12:39:51.104Z"
   },
   {
    "duration": 511,
    "start_time": "2022-06-17T13:23:56.006Z"
   },
   {
    "duration": 40,
    "start_time": "2022-06-17T13:23:56.519Z"
   },
   {
    "duration": 3,
    "start_time": "2022-06-17T13:23:56.561Z"
   },
   {
    "duration": 17,
    "start_time": "2022-06-17T13:23:56.566Z"
   },
   {
    "duration": 13,
    "start_time": "2022-06-17T13:23:56.584Z"
   },
   {
    "duration": 84,
    "start_time": "2022-06-17T13:23:56.599Z"
   },
   {
    "duration": 3,
    "start_time": "2022-06-17T13:23:56.685Z"
   },
   {
    "duration": 18,
    "start_time": "2022-06-17T13:23:56.689Z"
   },
   {
    "duration": 79,
    "start_time": "2022-06-17T13:23:56.708Z"
   },
   {
    "duration": 15,
    "start_time": "2022-06-17T13:25:01.819Z"
   },
   {
    "duration": 296,
    "start_time": "2022-06-17T13:25:17.110Z"
   },
   {
    "duration": 275,
    "start_time": "2022-06-17T13:25:30.040Z"
   },
   {
    "duration": 300,
    "start_time": "2022-06-17T13:25:42.505Z"
   },
   {
    "duration": 301,
    "start_time": "2022-06-17T13:26:11.632Z"
   },
   {
    "duration": 52,
    "start_time": "2022-06-17T13:26:39.222Z"
   },
   {
    "duration": 12,
    "start_time": "2022-06-17T13:48:28.250Z"
   },
   {
    "duration": 523,
    "start_time": "2022-06-17T13:48:52.195Z"
   },
   {
    "duration": 39,
    "start_time": "2022-06-17T13:48:56.832Z"
   },
   {
    "duration": 228,
    "start_time": "2022-06-17T13:49:11.475Z"
   },
   {
    "duration": 32,
    "start_time": "2022-06-17T13:50:11.921Z"
   },
   {
    "duration": 30,
    "start_time": "2022-06-17T13:50:21.498Z"
   },
   {
    "duration": 18,
    "start_time": "2022-06-17T13:51:51.788Z"
   },
   {
    "duration": 5,
    "start_time": "2022-06-17T13:52:27.889Z"
   },
   {
    "duration": 13,
    "start_time": "2022-06-17T13:53:48.414Z"
   },
   {
    "duration": 177,
    "start_time": "2022-06-17T13:54:02.617Z"
   },
   {
    "duration": 170,
    "start_time": "2022-06-17T13:56:43.438Z"
   },
   {
    "duration": 234,
    "start_time": "2022-06-17T13:56:51.896Z"
   },
   {
    "duration": 266,
    "start_time": "2022-06-17T13:57:01.931Z"
   },
   {
    "duration": 230,
    "start_time": "2022-06-17T13:57:12.779Z"
   },
   {
    "duration": 187,
    "start_time": "2022-06-17T13:57:22.014Z"
   },
   {
    "duration": 212,
    "start_time": "2022-06-17T13:58:59.886Z"
   },
   {
    "duration": 235,
    "start_time": "2022-06-17T13:59:06.520Z"
   },
   {
    "duration": 230,
    "start_time": "2022-06-17T13:59:12.883Z"
   },
   {
    "duration": 209,
    "start_time": "2022-06-17T13:59:32.346Z"
   },
   {
    "duration": 234,
    "start_time": "2022-06-17T13:59:56.924Z"
   },
   {
    "duration": 254,
    "start_time": "2022-06-17T14:00:19.398Z"
   },
   {
    "duration": 294,
    "start_time": "2022-06-17T14:04:55.590Z"
   },
   {
    "duration": 22,
    "start_time": "2022-06-17T14:09:58.951Z"
   },
   {
    "duration": 338,
    "start_time": "2022-06-17T14:25:19.662Z"
   },
   {
    "duration": 361,
    "start_time": "2022-06-17T14:28:36.401Z"
   },
   {
    "duration": 304,
    "start_time": "2022-06-17T14:28:59.659Z"
   },
   {
    "duration": 357,
    "start_time": "2022-06-17T14:29:18.814Z"
   },
   {
    "duration": 263,
    "start_time": "2022-06-17T14:29:28.966Z"
   },
   {
    "duration": 264,
    "start_time": "2022-06-17T14:29:37.241Z"
   },
   {
    "duration": 297,
    "start_time": "2022-06-17T14:32:09.436Z"
   },
   {
    "duration": 248,
    "start_time": "2022-06-17T14:33:18.905Z"
   },
   {
    "duration": 281,
    "start_time": "2022-06-17T14:36:00.506Z"
   },
   {
    "duration": 266,
    "start_time": "2022-06-17T14:36:11.193Z"
   },
   {
    "duration": 431,
    "start_time": "2022-06-17T15:00:54.902Z"
   },
   {
    "duration": 340,
    "start_time": "2022-06-17T15:06:27.916Z"
   },
   {
    "duration": 325,
    "start_time": "2022-06-17T15:06:53.646Z"
   },
   {
    "duration": 350,
    "start_time": "2022-06-17T15:07:00.305Z"
   },
   {
    "duration": 359,
    "start_time": "2022-06-17T15:07:13.309Z"
   },
   {
    "duration": 457,
    "start_time": "2022-06-17T15:10:57.843Z"
   },
   {
    "duration": 272,
    "start_time": "2022-06-17T15:13:31.308Z"
   },
   {
    "duration": 242,
    "start_time": "2022-06-17T15:14:08.202Z"
   },
   {
    "duration": 352,
    "start_time": "2022-06-17T15:14:23.849Z"
   },
   {
    "duration": 260,
    "start_time": "2022-06-17T15:15:12.592Z"
   },
   {
    "duration": 347,
    "start_time": "2022-06-17T15:15:18.312Z"
   },
   {
    "duration": 11,
    "start_time": "2022-06-17T15:25:42.854Z"
   },
   {
    "duration": 11,
    "start_time": "2022-06-17T15:26:03.513Z"
   },
   {
    "duration": 7,
    "start_time": "2022-06-17T15:26:32.047Z"
   },
   {
    "duration": 6,
    "start_time": "2022-06-17T15:26:37.817Z"
   },
   {
    "duration": 10,
    "start_time": "2022-06-17T15:26:43.613Z"
   },
   {
    "duration": 39,
    "start_time": "2022-06-17T15:27:16.921Z"
   },
   {
    "duration": 11,
    "start_time": "2022-06-17T15:27:24.652Z"
   },
   {
    "duration": 118,
    "start_time": "2022-06-17T15:29:29.115Z"
   },
   {
    "duration": 170,
    "start_time": "2022-06-17T15:32:16.203Z"
   },
   {
    "duration": 163,
    "start_time": "2022-06-17T15:32:38.555Z"
   },
   {
    "duration": 165,
    "start_time": "2022-06-17T15:32:50.619Z"
   },
   {
    "duration": 4,
    "start_time": "2022-06-17T15:46:13.885Z"
   },
   {
    "duration": 46,
    "start_time": "2022-06-17T17:03:27.353Z"
   },
   {
    "duration": 719,
    "start_time": "2022-06-17T17:03:34.341Z"
   },
   {
    "duration": 67,
    "start_time": "2022-06-17T17:03:35.062Z"
   },
   {
    "duration": 4,
    "start_time": "2022-06-17T17:03:35.131Z"
   },
   {
    "duration": 28,
    "start_time": "2022-06-17T17:03:35.137Z"
   },
   {
    "duration": 19,
    "start_time": "2022-06-17T17:03:35.166Z"
   },
   {
    "duration": 172,
    "start_time": "2022-06-17T17:03:35.186Z"
   },
   {
    "duration": 4,
    "start_time": "2022-06-17T17:03:35.360Z"
   },
   {
    "duration": 30,
    "start_time": "2022-06-17T17:03:35.366Z"
   },
   {
    "duration": 288,
    "start_time": "2022-06-17T17:03:35.398Z"
   },
   {
    "duration": 316,
    "start_time": "2022-06-17T17:03:35.689Z"
   },
   {
    "duration": 248,
    "start_time": "2022-06-17T17:03:36.007Z"
   },
   {
    "duration": 416,
    "start_time": "2022-06-17T17:03:36.257Z"
   },
   {
    "duration": 347,
    "start_time": "2022-06-17T17:03:36.674Z"
   },
   {
    "duration": 326,
    "start_time": "2022-06-17T17:03:37.022Z"
   },
   {
    "duration": 172,
    "start_time": "2022-06-17T17:03:37.350Z"
   },
   {
    "duration": 5,
    "start_time": "2022-06-17T17:03:37.524Z"
   },
   {
    "duration": 191,
    "start_time": "2022-06-17T17:03:37.531Z"
   },
   {
    "duration": 179,
    "start_time": "2022-06-17T17:04:05.433Z"
   },
   {
    "duration": 79,
    "start_time": "2022-06-17T17:06:27.418Z"
   },
   {
    "duration": 4,
    "start_time": "2022-06-17T17:06:37.096Z"
   },
   {
    "duration": 9,
    "start_time": "2022-06-17T17:26:45.877Z"
   },
   {
    "duration": 10,
    "start_time": "2022-06-17T17:26:52.384Z"
   },
   {
    "duration": 4,
    "start_time": "2022-06-17T17:27:05.996Z"
   },
   {
    "duration": 15,
    "start_time": "2022-06-17T17:27:14.340Z"
   },
   {
    "duration": 11,
    "start_time": "2022-06-17T17:29:49.221Z"
   },
   {
    "duration": 15,
    "start_time": "2022-06-17T17:29:59.973Z"
   },
   {
    "duration": 20,
    "start_time": "2022-06-17T17:33:11.064Z"
   },
   {
    "duration": 13,
    "start_time": "2022-06-17T17:35:40.404Z"
   },
   {
    "duration": 19,
    "start_time": "2022-06-17T17:35:49.689Z"
   },
   {
    "duration": 18,
    "start_time": "2022-06-17T17:36:53.584Z"
   },
   {
    "duration": 18,
    "start_time": "2022-06-17T17:37:09.342Z"
   },
   {
    "duration": 20,
    "start_time": "2022-06-17T18:39:36.292Z"
   },
   {
    "duration": 18,
    "start_time": "2022-06-17T18:40:19.813Z"
   },
   {
    "duration": 17,
    "start_time": "2022-06-17T18:40:44.631Z"
   },
   {
    "duration": 19,
    "start_time": "2022-06-17T18:43:31.172Z"
   },
   {
    "duration": 15,
    "start_time": "2022-06-17T18:43:44.066Z"
   },
   {
    "duration": 100,
    "start_time": "2022-06-17T18:44:03.132Z"
   },
   {
    "duration": 107,
    "start_time": "2022-06-17T18:44:27.408Z"
   },
   {
    "duration": 110,
    "start_time": "2022-06-17T18:44:44.421Z"
   },
   {
    "duration": 104,
    "start_time": "2022-06-17T18:45:10.876Z"
   },
   {
    "duration": 26,
    "start_time": "2022-06-17T18:46:27.732Z"
   },
   {
    "duration": 32,
    "start_time": "2022-06-17T18:46:41.070Z"
   },
   {
    "duration": 27,
    "start_time": "2022-06-17T18:47:32.610Z"
   },
   {
    "duration": 18,
    "start_time": "2022-06-17T18:48:01.423Z"
   },
   {
    "duration": 17,
    "start_time": "2022-06-17T18:48:46.347Z"
   },
   {
    "duration": 24,
    "start_time": "2022-06-18T03:48:03.869Z"
   },
   {
    "duration": 10,
    "start_time": "2022-06-18T03:51:55.266Z"
   },
   {
    "duration": 9,
    "start_time": "2022-06-18T03:52:05.205Z"
   },
   {
    "duration": 11,
    "start_time": "2022-06-18T03:54:32.339Z"
   },
   {
    "duration": 2,
    "start_time": "2022-06-18T03:54:49.702Z"
   },
   {
    "duration": 11,
    "start_time": "2022-06-18T03:54:53.952Z"
   },
   {
    "duration": 5,
    "start_time": "2022-06-18T03:55:02.085Z"
   },
   {
    "duration": 8,
    "start_time": "2022-06-18T03:55:27.985Z"
   },
   {
    "duration": 384,
    "start_time": "2022-06-18T03:55:45.301Z"
   },
   {
    "duration": 5,
    "start_time": "2022-06-18T03:55:49.624Z"
   },
   {
    "duration": 4,
    "start_time": "2022-06-18T03:56:13.626Z"
   },
   {
    "duration": 9,
    "start_time": "2022-06-18T03:57:02.045Z"
   },
   {
    "duration": 35,
    "start_time": "2022-06-18T04:34:01.736Z"
   },
   {
    "duration": 4,
    "start_time": "2022-06-18T04:34:41.175Z"
   },
   {
    "duration": 8,
    "start_time": "2022-06-18T04:34:46.323Z"
   },
   {
    "duration": 9,
    "start_time": "2022-06-18T04:35:09.326Z"
   },
   {
    "duration": 3,
    "start_time": "2022-06-18T04:36:39.264Z"
   },
   {
    "duration": 22,
    "start_time": "2022-06-18T04:36:49.712Z"
   },
   {
    "duration": 10,
    "start_time": "2022-06-18T04:39:53.156Z"
   },
   {
    "duration": 9,
    "start_time": "2022-06-18T04:40:26.710Z"
   },
   {
    "duration": 12,
    "start_time": "2022-06-18T04:41:25.258Z"
   },
   {
    "duration": 394,
    "start_time": "2022-06-18T05:31:48.734Z"
   },
   {
    "duration": 406,
    "start_time": "2022-06-18T05:32:22.571Z"
   },
   {
    "duration": 207,
    "start_time": "2022-06-18T05:42:03.874Z"
   },
   {
    "duration": 8,
    "start_time": "2022-06-18T05:44:15.694Z"
   },
   {
    "duration": 5,
    "start_time": "2022-06-18T05:56:25.738Z"
   },
   {
    "duration": 13,
    "start_time": "2022-06-18T06:38:43.247Z"
   },
   {
    "duration": 13,
    "start_time": "2022-06-18T06:38:59.851Z"
   },
   {
    "duration": 9,
    "start_time": "2022-06-18T06:39:19.934Z"
   },
   {
    "duration": 17,
    "start_time": "2022-06-18T06:40:34.420Z"
   },
   {
    "duration": 19,
    "start_time": "2022-06-18T06:40:40.208Z"
   },
   {
    "duration": 14,
    "start_time": "2022-06-18T06:41:05.732Z"
   },
   {
    "duration": 11,
    "start_time": "2022-06-18T06:41:15.125Z"
   },
   {
    "duration": 23,
    "start_time": "2022-06-18T06:41:44.085Z"
   },
   {
    "duration": 25,
    "start_time": "2022-06-18T06:42:07.184Z"
   },
   {
    "duration": 17,
    "start_time": "2022-06-18T06:42:29.292Z"
   },
   {
    "duration": 9,
    "start_time": "2022-06-18T06:42:36.266Z"
   },
   {
    "duration": 28,
    "start_time": "2022-06-18T06:43:30.788Z"
   },
   {
    "duration": 19,
    "start_time": "2022-06-18T06:45:31.070Z"
   },
   {
    "duration": 26,
    "start_time": "2022-06-18T07:00:54.840Z"
   },
   {
    "duration": 30,
    "start_time": "2022-06-18T07:01:38.041Z"
   },
   {
    "duration": 42,
    "start_time": "2022-06-18T07:02:28.880Z"
   },
   {
    "duration": 32,
    "start_time": "2022-06-18T07:02:45.690Z"
   },
   {
    "duration": 39,
    "start_time": "2022-06-18T07:04:05.900Z"
   },
   {
    "duration": 36,
    "start_time": "2022-06-18T07:04:27.214Z"
   },
   {
    "duration": 40,
    "start_time": "2022-06-18T07:07:04.219Z"
   },
   {
    "duration": 48,
    "start_time": "2022-06-18T07:08:02.017Z"
   },
   {
    "duration": 26,
    "start_time": "2022-06-18T07:13:23.467Z"
   },
   {
    "duration": 19,
    "start_time": "2022-06-18T07:15:00.489Z"
   },
   {
    "duration": 19,
    "start_time": "2022-06-18T07:15:35.981Z"
   },
   {
    "duration": 9,
    "start_time": "2022-06-18T07:19:19.948Z"
   },
   {
    "duration": 9,
    "start_time": "2022-06-18T07:19:32.256Z"
   },
   {
    "duration": 9,
    "start_time": "2022-06-18T07:20:05.733Z"
   },
   {
    "duration": 8,
    "start_time": "2022-06-18T07:22:40.765Z"
   },
   {
    "duration": 45,
    "start_time": "2022-06-18T15:35:40.695Z"
   },
   {
    "duration": 1223,
    "start_time": "2022-06-18T15:35:46.697Z"
   },
   {
    "duration": 76,
    "start_time": "2022-06-18T15:35:47.922Z"
   },
   {
    "duration": 3,
    "start_time": "2022-06-18T15:35:48.000Z"
   },
   {
    "duration": 16,
    "start_time": "2022-06-18T15:35:48.004Z"
   },
   {
    "duration": 13,
    "start_time": "2022-06-18T15:35:48.021Z"
   },
   {
    "duration": 156,
    "start_time": "2022-06-18T15:35:48.035Z"
   },
   {
    "duration": 2,
    "start_time": "2022-06-18T15:35:48.193Z"
   },
   {
    "duration": 16,
    "start_time": "2022-06-18T15:35:48.196Z"
   },
   {
    "duration": 273,
    "start_time": "2022-06-18T15:35:48.213Z"
   },
   {
    "duration": 360,
    "start_time": "2022-06-18T15:35:48.487Z"
   },
   {
    "duration": 261,
    "start_time": "2022-06-18T15:35:48.848Z"
   },
   {
    "duration": 414,
    "start_time": "2022-06-18T15:35:49.110Z"
   },
   {
    "duration": 276,
    "start_time": "2022-06-18T15:35:49.525Z"
   },
   {
    "duration": 326,
    "start_time": "2022-06-18T15:35:49.805Z"
   },
   {
    "duration": 172,
    "start_time": "2022-06-18T15:35:50.132Z"
   },
   {
    "duration": 3,
    "start_time": "2022-06-18T15:35:50.306Z"
   },
   {
    "duration": 10,
    "start_time": "2022-06-18T15:35:50.311Z"
   },
   {
    "duration": 185,
    "start_time": "2022-06-18T15:35:50.322Z"
   },
   {
    "duration": 4,
    "start_time": "2022-06-18T15:35:50.508Z"
   },
   {
    "duration": 6,
    "start_time": "2022-06-18T15:35:50.513Z"
   },
   {
    "duration": 35,
    "start_time": "2022-06-18T15:35:50.520Z"
   },
   {
    "duration": 9,
    "start_time": "2022-06-18T15:35:50.556Z"
   },
   {
    "duration": 20,
    "start_time": "2022-06-18T15:35:50.567Z"
   },
   {
    "duration": 3,
    "start_time": "2022-06-18T15:35:50.589Z"
   },
   {
    "duration": 8,
    "start_time": "2022-06-18T15:49:50.286Z"
   },
   {
    "duration": 211,
    "start_time": "2022-06-18T16:12:12.613Z"
   },
   {
    "duration": 156,
    "start_time": "2022-06-18T16:12:33.681Z"
   },
   {
    "duration": 126,
    "start_time": "2022-06-18T16:13:18.738Z"
   },
   {
    "duration": 35,
    "start_time": "2022-06-18T16:14:05.331Z"
   },
   {
    "duration": 36,
    "start_time": "2022-06-18T16:14:54.476Z"
   },
   {
    "duration": 26,
    "start_time": "2022-06-18T16:15:46.884Z"
   },
   {
    "duration": 22,
    "start_time": "2022-06-18T16:16:04.902Z"
   },
   {
    "duration": 9,
    "start_time": "2022-06-18T16:18:46.280Z"
   },
   {
    "duration": 11,
    "start_time": "2022-06-18T16:37:05.417Z"
   },
   {
    "duration": 1179,
    "start_time": "2022-06-19T03:14:36.702Z"
   },
   {
    "duration": 67,
    "start_time": "2022-06-19T03:14:37.883Z"
   },
   {
    "duration": 3,
    "start_time": "2022-06-19T03:14:37.951Z"
   },
   {
    "duration": 14,
    "start_time": "2022-06-19T03:14:37.956Z"
   },
   {
    "duration": 12,
    "start_time": "2022-06-19T03:14:37.972Z"
   },
   {
    "duration": 172,
    "start_time": "2022-06-19T03:14:37.985Z"
   },
   {
    "duration": 3,
    "start_time": "2022-06-19T03:14:38.159Z"
   },
   {
    "duration": 17,
    "start_time": "2022-06-19T03:14:38.164Z"
   },
   {
    "duration": 296,
    "start_time": "2022-06-19T03:14:38.183Z"
   },
   {
    "duration": 342,
    "start_time": "2022-06-19T03:14:38.482Z"
   },
   {
    "duration": 260,
    "start_time": "2022-06-19T03:14:38.826Z"
   },
   {
    "duration": 413,
    "start_time": "2022-06-19T03:14:39.088Z"
   },
   {
    "duration": 311,
    "start_time": "2022-06-19T03:14:39.503Z"
   },
   {
    "duration": 355,
    "start_time": "2022-06-19T03:14:39.816Z"
   },
   {
    "duration": 177,
    "start_time": "2022-06-19T03:14:40.172Z"
   },
   {
    "duration": 4,
    "start_time": "2022-06-19T03:14:40.351Z"
   },
   {
    "duration": 9,
    "start_time": "2022-06-19T03:14:40.357Z"
   },
   {
    "duration": 190,
    "start_time": "2022-06-19T03:14:40.367Z"
   },
   {
    "duration": 4,
    "start_time": "2022-06-19T03:14:40.559Z"
   },
   {
    "duration": 9,
    "start_time": "2022-06-19T03:14:40.565Z"
   },
   {
    "duration": 19,
    "start_time": "2022-06-19T03:14:40.576Z"
   },
   {
    "duration": 8,
    "start_time": "2022-06-19T03:14:40.596Z"
   },
   {
    "duration": 15,
    "start_time": "2022-06-19T03:14:40.626Z"
   },
   {
    "duration": 109,
    "start_time": "2022-06-19T03:14:40.644Z"
   },
   {
    "duration": 0,
    "start_time": "2022-06-19T03:14:40.755Z"
   },
   {
    "duration": 0,
    "start_time": "2022-06-19T03:14:40.757Z"
   },
   {
    "duration": 1088,
    "start_time": "2022-06-19T03:23:45.413Z"
   },
   {
    "duration": 46,
    "start_time": "2022-06-19T03:23:46.502Z"
   },
   {
    "duration": 4,
    "start_time": "2022-06-19T03:23:46.557Z"
   },
   {
    "duration": 17,
    "start_time": "2022-06-19T03:23:46.563Z"
   },
   {
    "duration": 11,
    "start_time": "2022-06-19T03:23:46.582Z"
   },
   {
    "duration": 100,
    "start_time": "2022-06-19T03:23:46.595Z"
   },
   {
    "duration": 3,
    "start_time": "2022-06-19T03:23:46.696Z"
   },
   {
    "duration": 42,
    "start_time": "2022-06-19T03:23:46.701Z"
   },
   {
    "duration": 314,
    "start_time": "2022-06-19T03:23:46.744Z"
   },
   {
    "duration": 340,
    "start_time": "2022-06-19T03:23:47.061Z"
   },
   {
    "duration": 262,
    "start_time": "2022-06-19T03:23:47.402Z"
   },
   {
    "duration": 349,
    "start_time": "2022-06-19T03:23:47.666Z"
   },
   {
    "duration": 287,
    "start_time": "2022-06-19T03:23:48.017Z"
   },
   {
    "duration": 392,
    "start_time": "2022-06-19T03:23:48.306Z"
   },
   {
    "duration": 191,
    "start_time": "2022-06-19T03:23:48.699Z"
   },
   {
    "duration": 4,
    "start_time": "2022-06-19T03:23:48.892Z"
   },
   {
    "duration": 10,
    "start_time": "2022-06-19T03:23:48.898Z"
   },
   {
    "duration": 209,
    "start_time": "2022-06-19T03:23:48.909Z"
   },
   {
    "duration": 17,
    "start_time": "2022-06-19T03:23:49.120Z"
   },
   {
    "duration": 9,
    "start_time": "2022-06-19T03:23:49.148Z"
   },
   {
    "duration": 18,
    "start_time": "2022-06-19T03:23:49.159Z"
   },
   {
    "duration": 8,
    "start_time": "2022-06-19T03:23:49.179Z"
   },
   {
    "duration": 13,
    "start_time": "2022-06-19T03:23:49.188Z"
   },
   {
    "duration": 122,
    "start_time": "2022-06-19T03:23:49.203Z"
   },
   {
    "duration": 0,
    "start_time": "2022-06-19T03:23:49.327Z"
   },
   {
    "duration": 0,
    "start_time": "2022-06-19T03:23:49.328Z"
   },
   {
    "duration": 1213,
    "start_time": "2022-06-20T08:48:35.454Z"
   },
   {
    "duration": 69,
    "start_time": "2022-06-20T08:48:36.669Z"
   },
   {
    "duration": 3,
    "start_time": "2022-06-20T08:48:36.740Z"
   },
   {
    "duration": 14,
    "start_time": "2022-06-20T08:48:36.745Z"
   },
   {
    "duration": 12,
    "start_time": "2022-06-20T08:48:36.760Z"
   },
   {
    "duration": 161,
    "start_time": "2022-06-20T08:48:36.774Z"
   },
   {
    "duration": 3,
    "start_time": "2022-06-20T08:48:36.937Z"
   },
   {
    "duration": 15,
    "start_time": "2022-06-20T08:48:36.941Z"
   },
   {
    "duration": 277,
    "start_time": "2022-06-20T08:48:36.958Z"
   },
   {
    "duration": 347,
    "start_time": "2022-06-20T08:48:37.240Z"
   },
   {
    "duration": 273,
    "start_time": "2022-06-20T08:48:37.590Z"
   },
   {
    "duration": 381,
    "start_time": "2022-06-20T08:48:37.864Z"
   },
   {
    "duration": 286,
    "start_time": "2022-06-20T08:48:38.247Z"
   },
   {
    "duration": 337,
    "start_time": "2022-06-20T08:48:38.536Z"
   },
   {
    "duration": 204,
    "start_time": "2022-06-20T08:48:38.875Z"
   },
   {
    "duration": 4,
    "start_time": "2022-06-20T08:48:39.081Z"
   },
   {
    "duration": 12,
    "start_time": "2022-06-20T08:48:39.087Z"
   },
   {
    "duration": 217,
    "start_time": "2022-06-20T08:48:39.102Z"
   },
   {
    "duration": 5,
    "start_time": "2022-06-20T08:48:39.321Z"
   },
   {
    "duration": 9,
    "start_time": "2022-06-20T08:48:39.328Z"
   },
   {
    "duration": 39,
    "start_time": "2022-06-20T08:48:39.339Z"
   },
   {
    "duration": 12,
    "start_time": "2022-06-20T08:48:39.381Z"
   },
   {
    "duration": 20,
    "start_time": "2022-06-20T08:48:39.395Z"
   },
   {
    "duration": 128,
    "start_time": "2022-06-20T08:48:39.418Z"
   },
   {
    "duration": 0,
    "start_time": "2022-06-20T08:48:39.548Z"
   },
   {
    "duration": 0,
    "start_time": "2022-06-20T08:48:39.549Z"
   },
   {
    "duration": 22,
    "start_time": "2022-06-20T08:50:46.534Z"
   },
   {
    "duration": 1081,
    "start_time": "2022-06-20T08:50:53.710Z"
   },
   {
    "duration": 36,
    "start_time": "2022-06-20T08:50:54.793Z"
   },
   {
    "duration": 4,
    "start_time": "2022-06-20T08:50:54.831Z"
   },
   {
    "duration": 21,
    "start_time": "2022-06-20T08:50:54.837Z"
   },
   {
    "duration": 15,
    "start_time": "2022-06-20T08:50:54.860Z"
   },
   {
    "duration": 81,
    "start_time": "2022-06-20T08:50:54.877Z"
   },
   {
    "duration": 4,
    "start_time": "2022-06-20T08:50:54.960Z"
   },
   {
    "duration": 14,
    "start_time": "2022-06-20T08:50:54.966Z"
   },
   {
    "duration": 282,
    "start_time": "2022-06-20T08:50:54.981Z"
   },
   {
    "duration": 348,
    "start_time": "2022-06-20T08:50:55.267Z"
   },
   {
    "duration": 245,
    "start_time": "2022-06-20T08:50:55.617Z"
   },
   {
    "duration": 369,
    "start_time": "2022-06-20T08:50:55.867Z"
   },
   {
    "duration": 319,
    "start_time": "2022-06-20T08:50:56.238Z"
   },
   {
    "duration": 332,
    "start_time": "2022-06-20T08:50:56.559Z"
   },
   {
    "duration": 167,
    "start_time": "2022-06-20T08:50:56.893Z"
   },
   {
    "duration": 7,
    "start_time": "2022-06-20T08:50:57.062Z"
   },
   {
    "duration": 8,
    "start_time": "2022-06-20T08:50:57.070Z"
   },
   {
    "duration": 191,
    "start_time": "2022-06-20T08:50:57.080Z"
   },
   {
    "duration": 5,
    "start_time": "2022-06-20T08:50:57.273Z"
   },
   {
    "duration": 10,
    "start_time": "2022-06-20T08:50:57.280Z"
   },
   {
    "duration": 29,
    "start_time": "2022-06-20T08:50:57.291Z"
   },
   {
    "duration": 10,
    "start_time": "2022-06-20T08:50:57.322Z"
   },
   {
    "duration": 15,
    "start_time": "2022-06-20T08:50:57.334Z"
   },
   {
    "duration": 32,
    "start_time": "2022-06-20T08:50:57.368Z"
   },
   {
    "duration": 8,
    "start_time": "2022-06-20T08:50:57.402Z"
   },
   {
    "duration": 16,
    "start_time": "2022-06-20T08:50:57.412Z"
   },
   {
    "duration": 983,
    "start_time": "2022-06-20T08:54:32.612Z"
   },
   {
    "duration": 84,
    "start_time": "2022-06-20T08:54:33.598Z"
   },
   {
    "duration": 4,
    "start_time": "2022-06-20T08:54:33.684Z"
   },
   {
    "duration": 16,
    "start_time": "2022-06-20T08:54:33.690Z"
   },
   {
    "duration": 13,
    "start_time": "2022-06-20T08:54:33.709Z"
   },
   {
    "duration": 120,
    "start_time": "2022-06-20T08:54:33.725Z"
   },
   {
    "duration": 3,
    "start_time": "2022-06-20T08:54:33.847Z"
   },
   {
    "duration": 21,
    "start_time": "2022-06-20T08:54:33.852Z"
   },
   {
    "duration": 298,
    "start_time": "2022-06-20T08:54:33.874Z"
   },
   {
    "duration": 355,
    "start_time": "2022-06-20T08:54:34.174Z"
   },
   {
    "duration": 281,
    "start_time": "2022-06-20T08:54:34.531Z"
   },
   {
    "duration": 321,
    "start_time": "2022-06-20T08:54:34.814Z"
   },
   {
    "duration": 293,
    "start_time": "2022-06-20T08:54:35.137Z"
   },
   {
    "duration": 351,
    "start_time": "2022-06-20T08:54:35.434Z"
   },
   {
    "duration": 167,
    "start_time": "2022-06-20T08:54:35.787Z"
   },
   {
    "duration": 12,
    "start_time": "2022-06-20T08:54:35.955Z"
   },
   {
    "duration": 4,
    "start_time": "2022-06-20T08:54:35.969Z"
   },
   {
    "duration": 197,
    "start_time": "2022-06-20T08:54:35.975Z"
   },
   {
    "duration": 5,
    "start_time": "2022-06-20T08:54:36.174Z"
   },
   {
    "duration": 8,
    "start_time": "2022-06-20T08:54:36.181Z"
   },
   {
    "duration": 22,
    "start_time": "2022-06-20T08:54:36.191Z"
   },
   {
    "duration": 12,
    "start_time": "2022-06-20T08:54:36.216Z"
   },
   {
    "duration": 42,
    "start_time": "2022-06-20T08:54:36.231Z"
   },
   {
    "duration": 34,
    "start_time": "2022-06-20T08:54:36.275Z"
   },
   {
    "duration": 10,
    "start_time": "2022-06-20T08:54:36.311Z"
   },
   {
    "duration": 10,
    "start_time": "2022-06-20T08:54:36.323Z"
   },
   {
    "duration": 1433,
    "start_time": "2022-06-21T04:25:05.106Z"
   },
   {
    "duration": 65,
    "start_time": "2022-06-21T04:25:06.542Z"
   },
   {
    "duration": 3,
    "start_time": "2022-06-21T04:25:06.609Z"
   },
   {
    "duration": 36,
    "start_time": "2022-06-21T04:25:06.613Z"
   },
   {
    "duration": 41,
    "start_time": "2022-06-21T04:25:06.651Z"
   },
   {
    "duration": 163,
    "start_time": "2022-06-21T04:25:06.693Z"
   },
   {
    "duration": 3,
    "start_time": "2022-06-21T04:25:06.858Z"
   },
   {
    "duration": 29,
    "start_time": "2022-06-21T04:25:06.863Z"
   },
   {
    "duration": 306,
    "start_time": "2022-06-21T04:25:06.894Z"
   },
   {
    "duration": 382,
    "start_time": "2022-06-21T04:25:07.201Z"
   },
   {
    "duration": 255,
    "start_time": "2022-06-21T04:25:07.585Z"
   },
   {
    "duration": 391,
    "start_time": "2022-06-21T04:25:07.842Z"
   },
   {
    "duration": 280,
    "start_time": "2022-06-21T04:25:08.235Z"
   },
   {
    "duration": 355,
    "start_time": "2022-06-21T04:25:08.518Z"
   },
   {
    "duration": 201,
    "start_time": "2022-06-21T04:25:08.874Z"
   },
   {
    "duration": 3,
    "start_time": "2022-06-21T04:25:09.077Z"
   },
   {
    "duration": 8,
    "start_time": "2022-06-21T04:25:09.082Z"
   },
   {
    "duration": 194,
    "start_time": "2022-06-21T04:25:09.092Z"
   },
   {
    "duration": 5,
    "start_time": "2022-06-21T04:25:09.288Z"
   },
   {
    "duration": 7,
    "start_time": "2022-06-21T04:25:09.294Z"
   },
   {
    "duration": 33,
    "start_time": "2022-06-21T04:25:09.303Z"
   },
   {
    "duration": 8,
    "start_time": "2022-06-21T04:25:09.338Z"
   },
   {
    "duration": 11,
    "start_time": "2022-06-21T04:25:09.349Z"
   },
   {
    "duration": 22,
    "start_time": "2022-06-21T04:25:09.362Z"
   },
   {
    "duration": 9,
    "start_time": "2022-06-21T04:25:09.386Z"
   },
   {
    "duration": 36,
    "start_time": "2022-06-21T04:25:09.397Z"
   },
   {
    "duration": 1059,
    "start_time": "2022-06-21T05:30:27.765Z"
   },
   {
    "duration": 43,
    "start_time": "2022-06-21T05:30:28.825Z"
   },
   {
    "duration": 4,
    "start_time": "2022-06-21T05:30:28.870Z"
   },
   {
    "duration": 22,
    "start_time": "2022-06-21T05:30:28.876Z"
   },
   {
    "duration": 21,
    "start_time": "2022-06-21T05:30:28.900Z"
   },
   {
    "duration": 84,
    "start_time": "2022-06-21T05:30:28.922Z"
   },
   {
    "duration": 3,
    "start_time": "2022-06-21T05:30:29.008Z"
   },
   {
    "duration": 21,
    "start_time": "2022-06-21T05:30:29.012Z"
   },
   {
    "duration": 300,
    "start_time": "2022-06-21T05:30:29.034Z"
   },
   {
    "duration": 326,
    "start_time": "2022-06-21T05:30:29.339Z"
   },
   {
    "duration": 284,
    "start_time": "2022-06-21T05:30:29.667Z"
   },
   {
    "duration": 348,
    "start_time": "2022-06-21T05:30:29.952Z"
   },
   {
    "duration": 281,
    "start_time": "2022-06-21T05:30:30.302Z"
   },
   {
    "duration": 338,
    "start_time": "2022-06-21T05:30:30.585Z"
   },
   {
    "duration": 211,
    "start_time": "2022-06-21T05:30:30.924Z"
   },
   {
    "duration": 9,
    "start_time": "2022-06-21T05:30:31.138Z"
   },
   {
    "duration": 20,
    "start_time": "2022-06-21T05:30:31.152Z"
   },
   {
    "duration": 215,
    "start_time": "2022-06-21T05:30:31.174Z"
   },
   {
    "duration": 3,
    "start_time": "2022-06-21T05:30:31.391Z"
   },
   {
    "duration": 29,
    "start_time": "2022-06-21T05:30:31.396Z"
   },
   {
    "duration": 43,
    "start_time": "2022-06-21T05:30:31.426Z"
   },
   {
    "duration": 41,
    "start_time": "2022-06-21T05:30:31.471Z"
   },
   {
    "duration": 44,
    "start_time": "2022-06-21T05:30:31.514Z"
   },
   {
    "duration": 29,
    "start_time": "2022-06-21T05:30:31.559Z"
   },
   {
    "duration": 33,
    "start_time": "2022-06-21T05:30:31.590Z"
   },
   {
    "duration": 46,
    "start_time": "2022-06-21T05:30:31.624Z"
   },
   {
    "duration": 1092,
    "start_time": "2022-06-21T05:44:58.297Z"
   },
   {
    "duration": 33,
    "start_time": "2022-06-21T05:44:59.392Z"
   },
   {
    "duration": 15,
    "start_time": "2022-06-21T05:44:59.426Z"
   },
   {
    "duration": 16,
    "start_time": "2022-06-21T05:44:59.444Z"
   },
   {
    "duration": 15,
    "start_time": "2022-06-21T05:44:59.462Z"
   },
   {
    "duration": 96,
    "start_time": "2022-06-21T05:44:59.479Z"
   },
   {
    "duration": 3,
    "start_time": "2022-06-21T05:44:59.576Z"
   },
   {
    "duration": 17,
    "start_time": "2022-06-21T05:44:59.580Z"
   },
   {
    "duration": 314,
    "start_time": "2022-06-21T05:44:59.599Z"
   },
   {
    "duration": 364,
    "start_time": "2022-06-21T05:44:59.916Z"
   },
   {
    "duration": 282,
    "start_time": "2022-06-21T05:45:00.282Z"
   },
   {
    "duration": 347,
    "start_time": "2022-06-21T05:45:00.566Z"
   },
   {
    "duration": 285,
    "start_time": "2022-06-21T05:45:00.914Z"
   },
   {
    "duration": 406,
    "start_time": "2022-06-21T05:45:01.201Z"
   },
   {
    "duration": 194,
    "start_time": "2022-06-21T05:45:01.608Z"
   },
   {
    "duration": 4,
    "start_time": "2022-06-21T05:45:01.804Z"
   },
   {
    "duration": 19,
    "start_time": "2022-06-21T05:45:01.809Z"
   },
   {
    "duration": 231,
    "start_time": "2022-06-21T05:45:01.831Z"
   },
   {
    "duration": 4,
    "start_time": "2022-06-21T05:45:02.064Z"
   },
   {
    "duration": 16,
    "start_time": "2022-06-21T05:45:02.070Z"
   },
   {
    "duration": 29,
    "start_time": "2022-06-21T05:45:02.088Z"
   },
   {
    "duration": 11,
    "start_time": "2022-06-21T05:45:02.118Z"
   },
   {
    "duration": 26,
    "start_time": "2022-06-21T05:45:02.131Z"
   },
   {
    "duration": 27,
    "start_time": "2022-06-21T05:45:02.159Z"
   },
   {
    "duration": 8,
    "start_time": "2022-06-21T05:45:02.188Z"
   },
   {
    "duration": 17,
    "start_time": "2022-06-21T05:45:02.197Z"
   },
   {
    "duration": 1324,
    "start_time": "2022-06-22T06:56:41.996Z"
   },
   {
    "duration": 77,
    "start_time": "2022-06-22T06:56:43.322Z"
   },
   {
    "duration": 4,
    "start_time": "2022-06-22T06:56:43.401Z"
   },
   {
    "duration": 19,
    "start_time": "2022-06-22T06:56:43.407Z"
   },
   {
    "duration": 21,
    "start_time": "2022-06-22T06:56:43.428Z"
   },
   {
    "duration": 180,
    "start_time": "2022-06-22T06:56:43.451Z"
   },
   {
    "duration": 4,
    "start_time": "2022-06-22T06:56:43.633Z"
   },
   {
    "duration": 29,
    "start_time": "2022-06-22T06:56:43.639Z"
   },
   {
    "duration": 302,
    "start_time": "2022-06-22T06:56:43.670Z"
   },
   {
    "duration": 371,
    "start_time": "2022-06-22T06:56:43.976Z"
   },
   {
    "duration": 262,
    "start_time": "2022-06-22T06:56:44.348Z"
   },
   {
    "duration": 435,
    "start_time": "2022-06-22T06:56:44.612Z"
   },
   {
    "duration": 343,
    "start_time": "2022-06-22T06:56:45.049Z"
   },
   {
    "duration": 339,
    "start_time": "2022-06-22T06:56:45.394Z"
   },
   {
    "duration": 208,
    "start_time": "2022-06-22T06:56:45.735Z"
   },
   {
    "duration": 8,
    "start_time": "2022-06-22T06:56:45.944Z"
   },
   {
    "duration": 21,
    "start_time": "2022-06-22T06:56:45.956Z"
   },
   {
    "duration": 203,
    "start_time": "2022-06-22T06:56:45.979Z"
   },
   {
    "duration": 5,
    "start_time": "2022-06-22T06:56:46.184Z"
   },
   {
    "duration": 9,
    "start_time": "2022-06-22T06:56:46.191Z"
   },
   {
    "duration": 23,
    "start_time": "2022-06-22T06:56:46.202Z"
   },
   {
    "duration": 28,
    "start_time": "2022-06-22T06:56:46.226Z"
   },
   {
    "duration": 31,
    "start_time": "2022-06-22T06:56:46.255Z"
   },
   {
    "duration": 23,
    "start_time": "2022-06-22T06:56:46.288Z"
   },
   {
    "duration": 8,
    "start_time": "2022-06-22T06:56:46.313Z"
   },
   {
    "duration": 11,
    "start_time": "2022-06-22T06:56:46.324Z"
   },
   {
    "duration": 1197,
    "start_time": "2022-06-22T16:01:03.423Z"
   },
   {
    "duration": 67,
    "start_time": "2022-06-22T16:01:04.622Z"
   },
   {
    "duration": 3,
    "start_time": "2022-06-22T16:01:04.691Z"
   },
   {
    "duration": 20,
    "start_time": "2022-06-22T16:01:04.696Z"
   },
   {
    "duration": 20,
    "start_time": "2022-06-22T16:01:04.717Z"
   },
   {
    "duration": 156,
    "start_time": "2022-06-22T16:01:04.739Z"
   },
   {
    "duration": 2,
    "start_time": "2022-06-22T16:01:04.897Z"
   },
   {
    "duration": 17,
    "start_time": "2022-06-22T16:01:04.901Z"
   },
   {
    "duration": 290,
    "start_time": "2022-06-22T16:01:04.920Z"
   },
   {
    "duration": 331,
    "start_time": "2022-06-22T16:01:05.213Z"
   },
   {
    "duration": 234,
    "start_time": "2022-06-22T16:01:05.546Z"
   },
   {
    "duration": 376,
    "start_time": "2022-06-22T16:01:05.782Z"
   },
   {
    "duration": 300,
    "start_time": "2022-06-22T16:01:06.160Z"
   },
   {
    "duration": 378,
    "start_time": "2022-06-22T16:01:06.462Z"
   },
   {
    "duration": 207,
    "start_time": "2022-06-22T16:01:06.842Z"
   },
   {
    "duration": 5,
    "start_time": "2022-06-22T16:01:07.058Z"
   },
   {
    "duration": 23,
    "start_time": "2022-06-22T16:01:07.064Z"
   },
   {
    "duration": 207,
    "start_time": "2022-06-22T16:01:07.089Z"
   },
   {
    "duration": 5,
    "start_time": "2022-06-22T16:01:07.298Z"
   },
   {
    "duration": 9,
    "start_time": "2022-06-22T16:01:07.305Z"
   },
   {
    "duration": 43,
    "start_time": "2022-06-22T16:01:07.316Z"
   },
   {
    "duration": 13,
    "start_time": "2022-06-22T16:01:07.361Z"
   },
   {
    "duration": 25,
    "start_time": "2022-06-22T16:01:07.376Z"
   },
   {
    "duration": 34,
    "start_time": "2022-06-22T16:01:07.404Z"
   },
   {
    "duration": 20,
    "start_time": "2022-06-22T16:01:07.441Z"
   },
   {
    "duration": 19,
    "start_time": "2022-06-22T16:01:07.464Z"
   },
   {
    "duration": 1131,
    "start_time": "2022-06-22T16:11:04.812Z"
   },
   {
    "duration": 34,
    "start_time": "2022-06-22T16:11:05.945Z"
   },
   {
    "duration": 3,
    "start_time": "2022-06-22T16:11:05.980Z"
   },
   {
    "duration": 22,
    "start_time": "2022-06-22T16:11:05.985Z"
   },
   {
    "duration": 42,
    "start_time": "2022-06-22T16:11:06.009Z"
   },
   {
    "duration": 90,
    "start_time": "2022-06-22T16:11:06.053Z"
   },
   {
    "duration": 3,
    "start_time": "2022-06-22T16:11:06.144Z"
   },
   {
    "duration": 22,
    "start_time": "2022-06-22T16:11:06.149Z"
   },
   {
    "duration": 347,
    "start_time": "2022-06-22T16:11:06.173Z"
   },
   {
    "duration": 393,
    "start_time": "2022-06-22T16:11:06.522Z"
   },
   {
    "duration": 290,
    "start_time": "2022-06-22T16:11:06.917Z"
   },
   {
    "duration": 456,
    "start_time": "2022-06-22T16:11:07.210Z"
   },
   {
    "duration": 328,
    "start_time": "2022-06-22T16:11:07.668Z"
   },
   {
    "duration": 303,
    "start_time": "2022-06-22T16:11:07.998Z"
   },
   {
    "duration": 173,
    "start_time": "2022-06-22T16:11:08.303Z"
   },
   {
    "duration": 4,
    "start_time": "2022-06-22T16:11:08.477Z"
   },
   {
    "duration": 15,
    "start_time": "2022-06-22T16:11:08.483Z"
   },
   {
    "duration": 181,
    "start_time": "2022-06-22T16:11:08.500Z"
   },
   {
    "duration": 4,
    "start_time": "2022-06-22T16:11:08.683Z"
   },
   {
    "duration": 8,
    "start_time": "2022-06-22T16:11:08.688Z"
   },
   {
    "duration": 44,
    "start_time": "2022-06-22T16:11:08.698Z"
   },
   {
    "duration": 24,
    "start_time": "2022-06-22T16:11:08.744Z"
   },
   {
    "duration": 15,
    "start_time": "2022-06-22T16:11:08.770Z"
   },
   {
    "duration": 30,
    "start_time": "2022-06-22T16:11:08.787Z"
   },
   {
    "duration": 21,
    "start_time": "2022-06-22T16:11:08.819Z"
   },
   {
    "duration": 27,
    "start_time": "2022-06-22T16:11:08.841Z"
   },
   {
    "duration": 6,
    "start_time": "2022-06-22T16:12:16.904Z"
   },
   {
    "duration": 110,
    "start_time": "2022-06-22T16:12:29.753Z"
   },
   {
    "duration": 12,
    "start_time": "2022-06-22T16:12:50.726Z"
   },
   {
    "duration": 9,
    "start_time": "2022-06-22T16:12:56.579Z"
   },
   {
    "duration": 1150,
    "start_time": "2022-06-22T16:13:01.769Z"
   },
   {
    "duration": 36,
    "start_time": "2022-06-22T16:13:02.921Z"
   },
   {
    "duration": 5,
    "start_time": "2022-06-22T16:13:02.962Z"
   },
   {
    "duration": 35,
    "start_time": "2022-06-22T16:13:02.970Z"
   },
   {
    "duration": 42,
    "start_time": "2022-06-22T16:13:03.012Z"
   },
   {
    "duration": 106,
    "start_time": "2022-06-22T16:13:03.056Z"
   },
   {
    "duration": 3,
    "start_time": "2022-06-22T16:13:03.164Z"
   },
   {
    "duration": 22,
    "start_time": "2022-06-22T16:13:03.169Z"
   },
   {
    "duration": 337,
    "start_time": "2022-06-22T16:13:03.193Z"
   },
   {
    "duration": 366,
    "start_time": "2022-06-22T16:13:03.533Z"
   },
   {
    "duration": 273,
    "start_time": "2022-06-22T16:13:03.900Z"
   },
   {
    "duration": 374,
    "start_time": "2022-06-22T16:13:04.175Z"
   },
   {
    "duration": 310,
    "start_time": "2022-06-22T16:13:04.550Z"
   },
   {
    "duration": 344,
    "start_time": "2022-06-22T16:13:04.862Z"
   },
   {
    "duration": 171,
    "start_time": "2022-06-22T16:13:05.208Z"
   },
   {
    "duration": 4,
    "start_time": "2022-06-22T16:13:05.381Z"
   },
   {
    "duration": 33,
    "start_time": "2022-06-22T16:13:05.387Z"
   },
   {
    "duration": 252,
    "start_time": "2022-06-22T16:13:05.422Z"
   },
   {
    "duration": 4,
    "start_time": "2022-06-22T16:13:05.676Z"
   },
   {
    "duration": 27,
    "start_time": "2022-06-22T16:13:05.683Z"
   },
   {
    "duration": 25,
    "start_time": "2022-06-22T16:13:05.712Z"
   },
   {
    "duration": 9,
    "start_time": "2022-06-22T16:13:05.739Z"
   },
   {
    "duration": 28,
    "start_time": "2022-06-22T16:13:05.749Z"
   },
   {
    "duration": 43,
    "start_time": "2022-06-22T16:13:05.778Z"
   },
   {
    "duration": 14,
    "start_time": "2022-06-22T16:13:05.823Z"
   },
   {
    "duration": 30,
    "start_time": "2022-06-22T16:13:05.839Z"
   },
   {
    "duration": 89,
    "start_time": "2022-06-22T17:29:16.927Z"
   },
   {
    "duration": 5,
    "start_time": "2022-06-22T17:29:39.491Z"
   },
   {
    "duration": 8,
    "start_time": "2022-06-22T17:35:03.791Z"
   },
   {
    "duration": 6,
    "start_time": "2022-06-22T17:35:09.101Z"
   },
   {
    "duration": 12,
    "start_time": "2022-06-22T17:35:46.171Z"
   },
   {
    "duration": 8,
    "start_time": "2022-06-22T17:36:12.384Z"
   },
   {
    "duration": 12,
    "start_time": "2022-06-22T17:36:20.693Z"
   },
   {
    "duration": 17,
    "start_time": "2022-06-22T17:36:30.815Z"
   },
   {
    "duration": 18,
    "start_time": "2022-06-22T17:36:49.180Z"
   },
   {
    "duration": 18,
    "start_time": "2022-06-22T17:37:36.720Z"
   },
   {
    "duration": 19,
    "start_time": "2022-06-22T17:38:05.140Z"
   },
   {
    "duration": 18,
    "start_time": "2022-06-22T17:38:29.567Z"
   },
   {
    "duration": 26,
    "start_time": "2022-06-22T18:08:11.591Z"
   },
   {
    "duration": 31,
    "start_time": "2022-06-22T18:09:38.409Z"
   },
   {
    "duration": 31,
    "start_time": "2022-06-22T18:09:57.114Z"
   },
   {
    "duration": 32,
    "start_time": "2022-06-22T18:10:04.159Z"
   },
   {
    "duration": 25,
    "start_time": "2022-06-22T18:10:58.395Z"
   },
   {
    "duration": 27,
    "start_time": "2022-06-22T18:11:32.604Z"
   },
   {
    "duration": 5,
    "start_time": "2022-06-22T18:42:56.977Z"
   },
   {
    "duration": 28,
    "start_time": "2022-06-22T18:43:05.754Z"
   },
   {
    "duration": 15,
    "start_time": "2022-06-22T18:43:53.407Z"
   },
   {
    "duration": 13,
    "start_time": "2022-06-22T18:48:34.701Z"
   },
   {
    "duration": 5,
    "start_time": "2022-06-22T18:53:19.817Z"
   },
   {
    "duration": 17,
    "start_time": "2022-06-22T18:53:32.752Z"
   },
   {
    "duration": 4,
    "start_time": "2022-06-22T18:58:55.182Z"
   },
   {
    "duration": 11,
    "start_time": "2022-06-22T18:59:07.082Z"
   },
   {
    "duration": 12,
    "start_time": "2022-06-22T19:00:20.745Z"
   },
   {
    "duration": 1183,
    "start_time": "2022-06-22T19:00:32.728Z"
   },
   {
    "duration": 33,
    "start_time": "2022-06-22T19:00:33.914Z"
   },
   {
    "duration": 3,
    "start_time": "2022-06-22T19:00:33.949Z"
   },
   {
    "duration": 16,
    "start_time": "2022-06-22T19:00:33.955Z"
   },
   {
    "duration": 16,
    "start_time": "2022-06-22T19:00:33.973Z"
   },
   {
    "duration": 83,
    "start_time": "2022-06-22T19:00:33.991Z"
   },
   {
    "duration": 4,
    "start_time": "2022-06-22T19:00:34.076Z"
   },
   {
    "duration": 11,
    "start_time": "2022-06-22T19:00:34.081Z"
   },
   {
    "duration": 33,
    "start_time": "2022-06-22T19:00:34.095Z"
   },
   {
    "duration": 13,
    "start_time": "2022-06-22T19:00:34.164Z"
   },
   {
    "duration": 11,
    "start_time": "2022-06-22T19:00:34.179Z"
   },
   {
    "duration": 300,
    "start_time": "2022-06-22T19:00:34.192Z"
   },
   {
    "duration": 342,
    "start_time": "2022-06-22T19:00:34.493Z"
   },
   {
    "duration": 253,
    "start_time": "2022-06-22T19:00:34.836Z"
   },
   {
    "duration": 339,
    "start_time": "2022-06-22T19:00:35.091Z"
   },
   {
    "duration": 264,
    "start_time": "2022-06-22T19:00:35.432Z"
   },
   {
    "duration": 344,
    "start_time": "2022-06-22T19:00:35.698Z"
   },
   {
    "duration": 199,
    "start_time": "2022-06-22T19:00:36.043Z"
   },
   {
    "duration": 4,
    "start_time": "2022-06-22T19:00:36.243Z"
   },
   {
    "duration": 8,
    "start_time": "2022-06-22T19:00:36.260Z"
   },
   {
    "duration": 191,
    "start_time": "2022-06-22T19:00:36.270Z"
   },
   {
    "duration": 5,
    "start_time": "2022-06-22T19:00:36.463Z"
   },
   {
    "duration": 7,
    "start_time": "2022-06-22T19:00:36.470Z"
   },
   {
    "duration": 20,
    "start_time": "2022-06-22T19:00:36.479Z"
   },
   {
    "duration": 9,
    "start_time": "2022-06-22T19:00:36.501Z"
   },
   {
    "duration": 19,
    "start_time": "2022-06-22T19:00:36.512Z"
   },
   {
    "duration": 27,
    "start_time": "2022-06-22T19:00:36.560Z"
   },
   {
    "duration": 8,
    "start_time": "2022-06-22T19:00:36.591Z"
   },
   {
    "duration": 9,
    "start_time": "2022-06-22T19:00:36.602Z"
   },
   {
    "duration": 8,
    "start_time": "2022-06-22T19:15:18.548Z"
   },
   {
    "duration": 1247,
    "start_time": "2022-06-23T09:39:54.273Z"
   },
   {
    "duration": 85,
    "start_time": "2022-06-23T09:39:55.522Z"
   },
   {
    "duration": 3,
    "start_time": "2022-06-23T09:39:55.608Z"
   },
   {
    "duration": 15,
    "start_time": "2022-06-23T09:39:55.613Z"
   },
   {
    "duration": 12,
    "start_time": "2022-06-23T09:39:55.629Z"
   },
   {
    "duration": 193,
    "start_time": "2022-06-23T09:39:55.643Z"
   },
   {
    "duration": 2,
    "start_time": "2022-06-23T09:39:55.838Z"
   },
   {
    "duration": 10,
    "start_time": "2022-06-23T09:39:55.842Z"
   },
   {
    "duration": 38,
    "start_time": "2022-06-23T09:39:55.854Z"
   },
   {
    "duration": 13,
    "start_time": "2022-06-23T09:39:55.893Z"
   },
   {
    "duration": 12,
    "start_time": "2022-06-23T09:39:55.907Z"
   },
   {
    "duration": 305,
    "start_time": "2022-06-23T09:39:55.921Z"
   },
   {
    "duration": 327,
    "start_time": "2022-06-23T09:39:56.228Z"
   },
   {
    "duration": 250,
    "start_time": "2022-06-23T09:39:56.558Z"
   },
   {
    "duration": 367,
    "start_time": "2022-06-23T09:39:56.810Z"
   },
   {
    "duration": 296,
    "start_time": "2022-06-23T09:39:57.179Z"
   },
   {
    "duration": 341,
    "start_time": "2022-06-23T09:39:57.478Z"
   },
   {
    "duration": 190,
    "start_time": "2022-06-23T09:39:57.821Z"
   },
   {
    "duration": 3,
    "start_time": "2022-06-23T09:39:58.013Z"
   },
   {
    "duration": 7,
    "start_time": "2022-06-23T09:39:58.018Z"
   },
   {
    "duration": 190,
    "start_time": "2022-06-23T09:39:58.027Z"
   },
   {
    "duration": 3,
    "start_time": "2022-06-23T09:39:58.219Z"
   },
   {
    "duration": 6,
    "start_time": "2022-06-23T09:39:58.224Z"
   },
   {
    "duration": 41,
    "start_time": "2022-06-23T09:39:58.232Z"
   },
   {
    "duration": 14,
    "start_time": "2022-06-23T09:39:58.275Z"
   },
   {
    "duration": 22,
    "start_time": "2022-06-23T09:39:58.290Z"
   },
   {
    "duration": 28,
    "start_time": "2022-06-23T09:39:58.314Z"
   },
   {
    "duration": 8,
    "start_time": "2022-06-23T09:39:58.344Z"
   },
   {
    "duration": 23,
    "start_time": "2022-06-23T09:39:58.354Z"
   },
   {
    "duration": 50,
    "start_time": "2022-06-23T09:44:06.369Z"
   },
   {
    "duration": 15,
    "start_time": "2022-06-23T09:44:15.393Z"
   },
   {
    "duration": 99,
    "start_time": "2022-06-23T09:45:01.543Z"
   },
   {
    "duration": 18,
    "start_time": "2022-06-23T09:45:06.968Z"
   },
   {
    "duration": 18,
    "start_time": "2022-06-23T09:45:55.894Z"
   },
   {
    "duration": 12,
    "start_time": "2022-06-23T09:49:03.938Z"
   },
   {
    "duration": 15,
    "start_time": "2022-06-23T09:49:13.630Z"
   },
   {
    "duration": 949,
    "start_time": "2022-06-23T09:51:16.747Z"
   },
   {
    "duration": 24,
    "start_time": "2022-06-23T09:51:29.770Z"
   },
   {
    "duration": 14,
    "start_time": "2022-06-23T09:53:31.023Z"
   },
   {
    "duration": 15,
    "start_time": "2022-06-23T09:53:43.477Z"
   },
   {
    "duration": 12,
    "start_time": "2022-06-23T09:53:49.050Z"
   },
   {
    "duration": 21,
    "start_time": "2022-06-23T09:55:05.128Z"
   },
   {
    "duration": 15,
    "start_time": "2022-06-23T09:56:02.097Z"
   },
   {
    "duration": 24,
    "start_time": "2022-06-23T09:57:46.325Z"
   },
   {
    "duration": 25,
    "start_time": "2022-06-23T09:59:27.797Z"
   },
   {
    "duration": 15,
    "start_time": "2022-06-23T09:59:38.359Z"
   },
   {
    "duration": 1364,
    "start_time": "2022-06-24T05:05:03.888Z"
   },
   {
    "duration": 67,
    "start_time": "2022-06-24T05:05:05.254Z"
   },
   {
    "duration": 14,
    "start_time": "2022-06-24T05:05:05.323Z"
   },
   {
    "duration": 18,
    "start_time": "2022-06-24T05:05:05.338Z"
   },
   {
    "duration": 13,
    "start_time": "2022-06-24T05:05:05.358Z"
   },
   {
    "duration": 220,
    "start_time": "2022-06-24T05:05:05.373Z"
   },
   {
    "duration": 3,
    "start_time": "2022-06-24T05:05:05.595Z"
   },
   {
    "duration": 13,
    "start_time": "2022-06-24T05:05:05.600Z"
   },
   {
    "duration": 40,
    "start_time": "2022-06-24T05:05:05.615Z"
   },
   {
    "duration": 12,
    "start_time": "2022-06-24T05:05:05.656Z"
   },
   {
    "duration": 14,
    "start_time": "2022-06-24T05:05:05.670Z"
   },
   {
    "duration": 355,
    "start_time": "2022-06-24T05:05:05.685Z"
   },
   {
    "duration": 425,
    "start_time": "2022-06-24T05:05:06.042Z"
   },
   {
    "duration": 306,
    "start_time": "2022-06-24T05:05:06.470Z"
   },
   {
    "duration": 427,
    "start_time": "2022-06-24T05:05:06.778Z"
   },
   {
    "duration": 347,
    "start_time": "2022-06-24T05:05:07.206Z"
   },
   {
    "duration": 366,
    "start_time": "2022-06-24T05:05:07.555Z"
   },
   {
    "duration": 229,
    "start_time": "2022-06-24T05:05:07.923Z"
   },
   {
    "duration": 4,
    "start_time": "2022-06-24T05:05:08.153Z"
   },
   {
    "duration": 19,
    "start_time": "2022-06-24T05:05:08.159Z"
   },
   {
    "duration": 218,
    "start_time": "2022-06-24T05:05:08.180Z"
   },
   {
    "duration": 4,
    "start_time": "2022-06-24T05:05:08.400Z"
   },
   {
    "duration": 18,
    "start_time": "2022-06-24T05:05:08.406Z"
   },
   {
    "duration": 32,
    "start_time": "2022-06-24T05:05:08.430Z"
   },
   {
    "duration": 132,
    "start_time": "2022-06-24T05:05:08.464Z"
   },
   {
    "duration": 0,
    "start_time": "2022-06-24T05:05:08.598Z"
   },
   {
    "duration": 0,
    "start_time": "2022-06-24T05:05:08.599Z"
   },
   {
    "duration": 0,
    "start_time": "2022-06-24T05:05:08.600Z"
   },
   {
    "duration": 0,
    "start_time": "2022-06-24T05:05:08.601Z"
   },
   {
    "duration": 1202,
    "start_time": "2022-06-24T05:11:41.329Z"
   },
   {
    "duration": 39,
    "start_time": "2022-06-24T05:11:42.537Z"
   },
   {
    "duration": 3,
    "start_time": "2022-06-24T05:11:42.577Z"
   },
   {
    "duration": 15,
    "start_time": "2022-06-24T05:11:42.582Z"
   },
   {
    "duration": 13,
    "start_time": "2022-06-24T05:11:42.599Z"
   },
   {
    "duration": 103,
    "start_time": "2022-06-24T05:11:42.613Z"
   },
   {
    "duration": 3,
    "start_time": "2022-06-24T05:11:42.717Z"
   },
   {
    "duration": 38,
    "start_time": "2022-06-24T05:11:42.722Z"
   },
   {
    "duration": 34,
    "start_time": "2022-06-24T05:11:42.762Z"
   },
   {
    "duration": 13,
    "start_time": "2022-06-24T05:11:42.797Z"
   },
   {
    "duration": 13,
    "start_time": "2022-06-24T05:11:42.812Z"
   },
   {
    "duration": 408,
    "start_time": "2022-06-24T05:11:42.827Z"
   },
   {
    "duration": 397,
    "start_time": "2022-06-24T05:11:43.240Z"
   },
   {
    "duration": 308,
    "start_time": "2022-06-24T05:11:43.640Z"
   },
   {
    "duration": 369,
    "start_time": "2022-06-24T05:11:43.950Z"
   },
   {
    "duration": 333,
    "start_time": "2022-06-24T05:11:44.321Z"
   },
   {
    "duration": 400,
    "start_time": "2022-06-24T05:11:44.656Z"
   },
   {
    "duration": 219,
    "start_time": "2022-06-24T05:11:45.058Z"
   },
   {
    "duration": 4,
    "start_time": "2022-06-24T05:11:45.279Z"
   },
   {
    "duration": 15,
    "start_time": "2022-06-24T05:11:45.285Z"
   },
   {
    "duration": 211,
    "start_time": "2022-06-24T05:11:45.301Z"
   },
   {
    "duration": 4,
    "start_time": "2022-06-24T05:11:45.513Z"
   },
   {
    "duration": 24,
    "start_time": "2022-06-24T05:11:45.526Z"
   },
   {
    "duration": 26,
    "start_time": "2022-06-24T05:11:45.554Z"
   },
   {
    "duration": 119,
    "start_time": "2022-06-24T05:11:45.581Z"
   },
   {
    "duration": 0,
    "start_time": "2022-06-24T05:11:45.702Z"
   },
   {
    "duration": 0,
    "start_time": "2022-06-24T05:11:45.704Z"
   },
   {
    "duration": 0,
    "start_time": "2022-06-24T05:11:45.705Z"
   },
   {
    "duration": 0,
    "start_time": "2022-06-24T05:11:45.706Z"
   },
   {
    "duration": 46,
    "start_time": "2022-06-24T09:26:54.320Z"
   },
   {
    "duration": 1251,
    "start_time": "2022-06-24T09:26:59.469Z"
   },
   {
    "duration": 67,
    "start_time": "2022-06-24T09:27:00.723Z"
   },
   {
    "duration": 3,
    "start_time": "2022-06-24T09:27:00.792Z"
   },
   {
    "duration": 28,
    "start_time": "2022-06-24T09:27:00.796Z"
   },
   {
    "duration": 19,
    "start_time": "2022-06-24T09:27:00.826Z"
   },
   {
    "duration": 184,
    "start_time": "2022-06-24T09:27:00.847Z"
   },
   {
    "duration": 3,
    "start_time": "2022-06-24T09:27:01.033Z"
   },
   {
    "duration": 32,
    "start_time": "2022-06-24T09:27:01.037Z"
   },
   {
    "duration": 58,
    "start_time": "2022-06-24T09:27:01.070Z"
   },
   {
    "duration": 10,
    "start_time": "2022-06-24T09:27:01.129Z"
   },
   {
    "duration": 18,
    "start_time": "2022-06-24T09:27:01.141Z"
   },
   {
    "duration": 304,
    "start_time": "2022-06-24T09:27:01.161Z"
   },
   {
    "duration": 365,
    "start_time": "2022-06-24T09:27:01.467Z"
   },
   {
    "duration": 275,
    "start_time": "2022-06-24T09:27:01.835Z"
   },
   {
    "duration": 375,
    "start_time": "2022-06-24T09:27:02.112Z"
   },
   {
    "duration": 284,
    "start_time": "2022-06-24T09:27:02.489Z"
   },
   {
    "duration": 346,
    "start_time": "2022-06-24T09:27:02.775Z"
   },
   {
    "duration": 194,
    "start_time": "2022-06-24T09:27:03.123Z"
   },
   {
    "duration": 3,
    "start_time": "2022-06-24T09:27:03.319Z"
   },
   {
    "duration": 7,
    "start_time": "2022-06-24T09:27:03.324Z"
   },
   {
    "duration": 203,
    "start_time": "2022-06-24T09:27:03.332Z"
   },
   {
    "duration": 5,
    "start_time": "2022-06-24T09:27:03.537Z"
   },
   {
    "duration": 15,
    "start_time": "2022-06-24T09:27:03.543Z"
   },
   {
    "duration": 115,
    "start_time": "2022-06-24T09:27:03.560Z"
   },
   {
    "duration": 0,
    "start_time": "2022-06-24T09:27:03.677Z"
   },
   {
    "duration": 0,
    "start_time": "2022-06-24T09:27:03.678Z"
   },
   {
    "duration": 0,
    "start_time": "2022-06-24T09:27:03.679Z"
   },
   {
    "duration": 0,
    "start_time": "2022-06-24T09:27:03.680Z"
   },
   {
    "duration": 10,
    "start_time": "2022-06-24T09:27:21.846Z"
   },
   {
    "duration": 17,
    "start_time": "2022-06-24T09:30:38.881Z"
   },
   {
    "duration": 16,
    "start_time": "2022-06-24T09:32:46.979Z"
   },
   {
    "duration": 22,
    "start_time": "2022-06-24T09:39:43.405Z"
   },
   {
    "duration": 1258,
    "start_time": "2022-06-24T09:45:53.711Z"
   },
   {
    "duration": 17,
    "start_time": "2022-06-24T09:46:15.242Z"
   },
   {
    "duration": 10,
    "start_time": "2022-06-24T09:46:44.822Z"
   },
   {
    "duration": 71,
    "start_time": "2022-06-25T06:29:15.616Z"
   },
   {
    "duration": 1424,
    "start_time": "2022-06-25T06:29:20.185Z"
   },
   {
    "duration": 87,
    "start_time": "2022-06-25T06:29:21.611Z"
   },
   {
    "duration": 3,
    "start_time": "2022-06-25T06:29:21.700Z"
   },
   {
    "duration": 15,
    "start_time": "2022-06-25T06:29:21.706Z"
   },
   {
    "duration": 17,
    "start_time": "2022-06-25T06:29:21.723Z"
   },
   {
    "duration": 191,
    "start_time": "2022-06-25T06:29:21.742Z"
   },
   {
    "duration": 3,
    "start_time": "2022-06-25T06:29:21.935Z"
   },
   {
    "duration": 10,
    "start_time": "2022-06-25T06:29:21.940Z"
   },
   {
    "duration": 35,
    "start_time": "2022-06-25T06:29:21.952Z"
   },
   {
    "duration": 14,
    "start_time": "2022-06-25T06:29:21.991Z"
   },
   {
    "duration": 44,
    "start_time": "2022-06-25T06:29:22.007Z"
   },
   {
    "duration": 329,
    "start_time": "2022-06-25T06:29:22.054Z"
   },
   {
    "duration": 405,
    "start_time": "2022-06-25T06:29:22.385Z"
   },
   {
    "duration": 291,
    "start_time": "2022-06-25T06:29:22.792Z"
   },
   {
    "duration": 449,
    "start_time": "2022-06-25T06:29:23.085Z"
   },
   {
    "duration": 274,
    "start_time": "2022-06-25T06:29:23.536Z"
   },
   {
    "duration": 422,
    "start_time": "2022-06-25T06:29:23.812Z"
   },
   {
    "duration": 222,
    "start_time": "2022-06-25T06:29:24.236Z"
   },
   {
    "duration": 6,
    "start_time": "2022-06-25T06:29:24.460Z"
   },
   {
    "duration": 23,
    "start_time": "2022-06-25T06:29:24.469Z"
   },
   {
    "duration": 215,
    "start_time": "2022-06-25T06:29:24.494Z"
   },
   {
    "duration": 4,
    "start_time": "2022-06-25T06:29:24.711Z"
   },
   {
    "duration": 7,
    "start_time": "2022-06-25T06:29:24.717Z"
   },
   {
    "duration": 20,
    "start_time": "2022-06-25T06:29:24.742Z"
   },
   {
    "duration": 20,
    "start_time": "2022-06-25T06:29:24.765Z"
   },
   {
    "duration": 10,
    "start_time": "2022-06-25T06:29:24.787Z"
   },
   {
    "duration": 58,
    "start_time": "2022-06-25T06:29:24.799Z"
   },
   {
    "duration": 16,
    "start_time": "2022-06-25T06:29:24.862Z"
   },
   {
    "duration": 14,
    "start_time": "2022-06-25T06:29:24.881Z"
   },
   {
    "duration": 1194,
    "start_time": "2022-06-25T06:45:11.332Z"
   },
   {
    "duration": 45,
    "start_time": "2022-06-25T06:45:12.529Z"
   },
   {
    "duration": 4,
    "start_time": "2022-06-25T06:45:12.577Z"
   },
   {
    "duration": 19,
    "start_time": "2022-06-25T06:45:12.583Z"
   },
   {
    "duration": 16,
    "start_time": "2022-06-25T06:45:12.605Z"
   },
   {
    "duration": 87,
    "start_time": "2022-06-25T06:45:12.623Z"
   },
   {
    "duration": 3,
    "start_time": "2022-06-25T06:45:12.712Z"
   },
   {
    "duration": 10,
    "start_time": "2022-06-25T06:45:12.716Z"
   },
   {
    "duration": 34,
    "start_time": "2022-06-25T06:45:12.728Z"
   },
   {
    "duration": 13,
    "start_time": "2022-06-25T06:45:12.764Z"
   },
   {
    "duration": 14,
    "start_time": "2022-06-25T06:45:12.779Z"
   },
   {
    "duration": 330,
    "start_time": "2022-06-25T06:45:12.795Z"
   },
   {
    "duration": 360,
    "start_time": "2022-06-25T06:45:13.127Z"
   },
   {
    "duration": 298,
    "start_time": "2022-06-25T06:45:13.492Z"
   },
   {
    "duration": 362,
    "start_time": "2022-06-25T06:45:13.792Z"
   },
   {
    "duration": 273,
    "start_time": "2022-06-25T06:45:14.155Z"
   },
   {
    "duration": 401,
    "start_time": "2022-06-25T06:45:14.431Z"
   },
   {
    "duration": 214,
    "start_time": "2022-06-25T06:45:14.834Z"
   },
   {
    "duration": 4,
    "start_time": "2022-06-25T06:45:15.050Z"
   },
   {
    "duration": 9,
    "start_time": "2022-06-25T06:45:15.057Z"
   },
   {
    "duration": 226,
    "start_time": "2022-06-25T06:45:15.068Z"
   },
   {
    "duration": 5,
    "start_time": "2022-06-25T06:45:15.297Z"
   },
   {
    "duration": 9,
    "start_time": "2022-06-25T06:45:15.303Z"
   },
   {
    "duration": 36,
    "start_time": "2022-06-25T06:45:15.314Z"
   },
   {
    "duration": 16,
    "start_time": "2022-06-25T06:45:15.352Z"
   },
   {
    "duration": 39,
    "start_time": "2022-06-25T06:45:15.370Z"
   },
   {
    "duration": 12,
    "start_time": "2022-06-25T06:45:15.411Z"
   },
   {
    "duration": 12,
    "start_time": "2022-06-25T06:45:15.442Z"
   },
   {
    "duration": 1358,
    "start_time": "2022-06-25T12:38:28.232Z"
   },
   {
    "duration": 74,
    "start_time": "2022-06-25T12:38:29.593Z"
   },
   {
    "duration": 4,
    "start_time": "2022-06-25T12:38:29.670Z"
   },
   {
    "duration": 20,
    "start_time": "2022-06-25T12:38:29.676Z"
   },
   {
    "duration": 16,
    "start_time": "2022-06-25T12:38:29.698Z"
   },
   {
    "duration": 192,
    "start_time": "2022-06-25T12:38:29.716Z"
   },
   {
    "duration": 4,
    "start_time": "2022-06-25T12:38:29.910Z"
   },
   {
    "duration": 11,
    "start_time": "2022-06-25T12:38:29.916Z"
   },
   {
    "duration": 33,
    "start_time": "2022-06-25T12:38:29.929Z"
   },
   {
    "duration": 17,
    "start_time": "2022-06-25T12:38:29.965Z"
   },
   {
    "duration": 13,
    "start_time": "2022-06-25T12:38:29.984Z"
   },
   {
    "duration": 366,
    "start_time": "2022-06-25T12:38:30.025Z"
   },
   {
    "duration": 365,
    "start_time": "2022-06-25T12:38:30.393Z"
   },
   {
    "duration": 283,
    "start_time": "2022-06-25T12:38:30.760Z"
   },
   {
    "duration": 482,
    "start_time": "2022-06-25T12:38:31.045Z"
   },
   {
    "duration": 427,
    "start_time": "2022-06-25T12:38:31.530Z"
   },
   {
    "duration": 469,
    "start_time": "2022-06-25T12:38:31.960Z"
   },
   {
    "duration": 328,
    "start_time": "2022-06-25T12:38:32.432Z"
   },
   {
    "duration": 6,
    "start_time": "2022-06-25T12:38:32.763Z"
   },
   {
    "duration": 16,
    "start_time": "2022-06-25T12:38:32.771Z"
   },
   {
    "duration": 334,
    "start_time": "2022-06-25T12:38:32.789Z"
   },
   {
    "duration": 9,
    "start_time": "2022-06-25T12:38:33.126Z"
   },
   {
    "duration": 21,
    "start_time": "2022-06-25T12:38:33.138Z"
   },
   {
    "duration": 22,
    "start_time": "2022-06-25T12:38:33.161Z"
   },
   {
    "duration": 19,
    "start_time": "2022-06-25T12:38:33.186Z"
   },
   {
    "duration": 50,
    "start_time": "2022-06-25T12:38:33.208Z"
   },
   {
    "duration": 21,
    "start_time": "2022-06-25T12:38:33.261Z"
   },
   {
    "duration": 20,
    "start_time": "2022-06-25T12:38:33.288Z"
   },
   {
    "duration": 14,
    "start_time": "2022-06-25T12:45:18.969Z"
   },
   {
    "duration": 1443,
    "start_time": "2022-06-25T12:58:59.662Z"
   },
   {
    "duration": 44,
    "start_time": "2022-06-25T12:59:01.109Z"
   },
   {
    "duration": 5,
    "start_time": "2022-06-25T12:59:01.156Z"
   },
   {
    "duration": 41,
    "start_time": "2022-06-25T12:59:01.163Z"
   },
   {
    "duration": 33,
    "start_time": "2022-06-25T12:59:01.207Z"
   },
   {
    "duration": 153,
    "start_time": "2022-06-25T12:59:01.242Z"
   },
   {
    "duration": 4,
    "start_time": "2022-06-25T12:59:01.397Z"
   },
   {
    "duration": 32,
    "start_time": "2022-06-25T12:59:01.404Z"
   },
   {
    "duration": 61,
    "start_time": "2022-06-25T12:59:01.438Z"
   },
   {
    "duration": 31,
    "start_time": "2022-06-25T12:59:01.502Z"
   },
   {
    "duration": 45,
    "start_time": "2022-06-25T12:59:01.540Z"
   },
   {
    "duration": 541,
    "start_time": "2022-06-25T12:59:01.588Z"
   },
   {
    "duration": 529,
    "start_time": "2022-06-25T12:59:02.131Z"
   },
   {
    "duration": 417,
    "start_time": "2022-06-25T12:59:02.663Z"
   },
   {
    "duration": 517,
    "start_time": "2022-06-25T12:59:03.085Z"
   },
   {
    "duration": 433,
    "start_time": "2022-06-25T12:59:03.605Z"
   },
   {
    "duration": 485,
    "start_time": "2022-06-25T12:59:04.041Z"
   },
   {
    "duration": 288,
    "start_time": "2022-06-25T12:59:04.530Z"
   },
   {
    "duration": 8,
    "start_time": "2022-06-25T12:59:04.821Z"
   },
   {
    "duration": 48,
    "start_time": "2022-06-25T12:59:04.831Z"
   },
   {
    "duration": 304,
    "start_time": "2022-06-25T12:59:04.881Z"
   },
   {
    "duration": 6,
    "start_time": "2022-06-25T12:59:05.187Z"
   },
   {
    "duration": 71,
    "start_time": "2022-06-25T12:59:05.195Z"
   },
   {
    "duration": 54,
    "start_time": "2022-06-25T12:59:05.268Z"
   },
   {
    "duration": 31,
    "start_time": "2022-06-25T12:59:05.324Z"
   },
   {
    "duration": 37,
    "start_time": "2022-06-25T12:59:05.357Z"
   },
   {
    "duration": 15,
    "start_time": "2022-06-25T12:59:05.397Z"
   },
   {
    "duration": 81,
    "start_time": "2022-06-25T12:59:05.415Z"
   },
   {
    "duration": 28,
    "start_time": "2022-06-25T13:01:02.994Z"
   },
   {
    "duration": 170,
    "start_time": "2022-06-25T13:01:28.522Z"
   },
   {
    "duration": 25,
    "start_time": "2022-06-25T13:01:44.403Z"
   },
   {
    "duration": 34,
    "start_time": "2022-06-25T13:02:15.180Z"
   },
   {
    "duration": 24,
    "start_time": "2022-06-25T13:02:32.367Z"
   },
   {
    "duration": 21,
    "start_time": "2022-06-25T13:04:21.259Z"
   },
   {
    "duration": 15,
    "start_time": "2022-06-25T13:04:40.666Z"
   },
   {
    "duration": 25,
    "start_time": "2022-06-25T13:05:56.324Z"
   },
   {
    "duration": 30,
    "start_time": "2022-06-25T13:06:01.412Z"
   },
   {
    "duration": 19,
    "start_time": "2022-06-25T13:06:24.362Z"
   },
   {
    "duration": 29,
    "start_time": "2022-06-25T13:06:43.714Z"
   },
   {
    "duration": 1078,
    "start_time": "2022-06-25T13:07:32.894Z"
   },
   {
    "duration": 20,
    "start_time": "2022-06-25T13:08:04.507Z"
   },
   {
    "duration": 1257,
    "start_time": "2022-06-25T13:08:27.408Z"
   },
   {
    "duration": 37,
    "start_time": "2022-06-25T13:08:28.668Z"
   },
   {
    "duration": 3,
    "start_time": "2022-06-25T13:08:28.707Z"
   },
   {
    "duration": 28,
    "start_time": "2022-06-25T13:08:28.712Z"
   },
   {
    "duration": 46,
    "start_time": "2022-06-25T13:08:28.742Z"
   },
   {
    "duration": 106,
    "start_time": "2022-06-25T13:08:28.790Z"
   },
   {
    "duration": 3,
    "start_time": "2022-06-25T13:08:28.898Z"
   },
   {
    "duration": 13,
    "start_time": "2022-06-25T13:08:28.902Z"
   },
   {
    "duration": 61,
    "start_time": "2022-06-25T13:08:28.917Z"
   },
   {
    "duration": 12,
    "start_time": "2022-06-25T13:08:28.981Z"
   },
   {
    "duration": 16,
    "start_time": "2022-06-25T13:08:28.995Z"
   },
   {
    "duration": 386,
    "start_time": "2022-06-25T13:08:29.013Z"
   },
   {
    "duration": 419,
    "start_time": "2022-06-25T13:08:29.401Z"
   },
   {
    "duration": 328,
    "start_time": "2022-06-25T13:08:29.821Z"
   },
   {
    "duration": 437,
    "start_time": "2022-06-25T13:08:30.151Z"
   },
   {
    "duration": 368,
    "start_time": "2022-06-25T13:08:30.591Z"
   },
   {
    "duration": 429,
    "start_time": "2022-06-25T13:08:30.963Z"
   },
   {
    "duration": 258,
    "start_time": "2022-06-25T13:08:31.395Z"
   },
   {
    "duration": 8,
    "start_time": "2022-06-25T13:08:31.659Z"
   },
   {
    "duration": 24,
    "start_time": "2022-06-25T13:08:31.669Z"
   },
   {
    "duration": 270,
    "start_time": "2022-06-25T13:08:31.696Z"
   },
   {
    "duration": 6,
    "start_time": "2022-06-25T13:08:31.970Z"
   },
   {
    "duration": 11,
    "start_time": "2022-06-25T13:08:31.978Z"
   },
   {
    "duration": 19,
    "start_time": "2022-06-25T13:08:31.991Z"
   },
   {
    "duration": 30,
    "start_time": "2022-06-25T13:08:32.012Z"
   },
   {
    "duration": 53,
    "start_time": "2022-06-25T13:08:32.049Z"
   },
   {
    "duration": 15,
    "start_time": "2022-06-25T13:08:32.104Z"
   },
   {
    "duration": 64,
    "start_time": "2022-06-25T13:08:32.124Z"
   },
   {
    "duration": 15,
    "start_time": "2022-06-25T13:11:12.491Z"
   },
   {
    "duration": 16,
    "start_time": "2022-06-25T13:11:22.273Z"
   },
   {
    "duration": 1260,
    "start_time": "2022-06-25T13:11:46.319Z"
   },
   {
    "duration": 36,
    "start_time": "2022-06-25T13:11:47.581Z"
   },
   {
    "duration": 4,
    "start_time": "2022-06-25T13:11:47.618Z"
   },
   {
    "duration": 60,
    "start_time": "2022-06-25T13:11:47.625Z"
   },
   {
    "duration": 20,
    "start_time": "2022-06-25T13:11:47.687Z"
   },
   {
    "duration": 107,
    "start_time": "2022-06-25T13:11:47.709Z"
   },
   {
    "duration": 3,
    "start_time": "2022-06-25T13:11:47.818Z"
   },
   {
    "duration": 56,
    "start_time": "2022-06-25T13:11:47.823Z"
   },
   {
    "duration": 34,
    "start_time": "2022-06-25T13:11:47.880Z"
   },
   {
    "duration": 13,
    "start_time": "2022-06-25T13:11:47.917Z"
   },
   {
    "duration": 56,
    "start_time": "2022-06-25T13:11:47.932Z"
   },
   {
    "duration": 330,
    "start_time": "2022-06-25T13:11:47.989Z"
   },
   {
    "duration": 427,
    "start_time": "2022-06-25T13:11:48.321Z"
   },
   {
    "duration": 322,
    "start_time": "2022-06-25T13:11:48.750Z"
   },
   {
    "duration": 424,
    "start_time": "2022-06-25T13:11:49.075Z"
   },
   {
    "duration": 368,
    "start_time": "2022-06-25T13:11:49.501Z"
   },
   {
    "duration": 385,
    "start_time": "2022-06-25T13:11:49.874Z"
   },
   {
    "duration": 255,
    "start_time": "2022-06-25T13:11:50.261Z"
   },
   {
    "duration": 11,
    "start_time": "2022-06-25T13:11:50.518Z"
   },
   {
    "duration": 60,
    "start_time": "2022-06-25T13:11:50.531Z"
   },
   {
    "duration": 227,
    "start_time": "2022-06-25T13:11:50.593Z"
   },
   {
    "duration": 16,
    "start_time": "2022-06-25T13:11:50.821Z"
   },
   {
    "duration": 39,
    "start_time": "2022-06-25T13:11:50.842Z"
   },
   {
    "duration": 16,
    "start_time": "2022-06-25T13:11:50.883Z"
   },
   {
    "duration": 21,
    "start_time": "2022-06-25T13:11:50.900Z"
   },
   {
    "duration": 62,
    "start_time": "2022-06-25T13:11:50.922Z"
   },
   {
    "duration": 11,
    "start_time": "2022-06-25T13:11:50.985Z"
   },
   {
    "duration": 11,
    "start_time": "2022-06-25T13:11:50.999Z"
   },
   {
    "duration": 13,
    "start_time": "2022-06-25T13:12:06.105Z"
   },
   {
    "duration": 82,
    "start_time": "2022-06-25T16:53:42.063Z"
   },
   {
    "duration": 1220,
    "start_time": "2022-06-25T16:53:46.400Z"
   },
   {
    "duration": 97,
    "start_time": "2022-06-25T16:53:47.622Z"
   },
   {
    "duration": 4,
    "start_time": "2022-06-25T16:53:47.721Z"
   },
   {
    "duration": 53,
    "start_time": "2022-06-25T16:53:47.734Z"
   },
   {
    "duration": 23,
    "start_time": "2022-06-25T16:53:47.790Z"
   },
   {
    "duration": 229,
    "start_time": "2022-06-25T16:53:47.815Z"
   },
   {
    "duration": 12,
    "start_time": "2022-06-25T16:53:48.053Z"
   },
   {
    "duration": 21,
    "start_time": "2022-06-25T16:53:48.067Z"
   },
   {
    "duration": 55,
    "start_time": "2022-06-25T16:53:48.090Z"
   },
   {
    "duration": 22,
    "start_time": "2022-06-25T16:53:48.153Z"
   },
   {
    "duration": 14,
    "start_time": "2022-06-25T16:53:48.177Z"
   },
   {
    "duration": 379,
    "start_time": "2022-06-25T16:53:48.194Z"
   },
   {
    "duration": 458,
    "start_time": "2022-06-25T16:53:48.575Z"
   },
   {
    "duration": 284,
    "start_time": "2022-06-25T16:53:49.036Z"
   },
   {
    "duration": 398,
    "start_time": "2022-06-25T16:53:49.323Z"
   },
   {
    "duration": 288,
    "start_time": "2022-06-25T16:53:49.722Z"
   },
   {
    "duration": 428,
    "start_time": "2022-06-25T16:53:50.013Z"
   },
   {
    "duration": 247,
    "start_time": "2022-06-25T16:53:50.442Z"
   },
   {
    "duration": 5,
    "start_time": "2022-06-25T16:53:50.691Z"
   },
   {
    "duration": 14,
    "start_time": "2022-06-25T16:53:50.698Z"
   },
   {
    "duration": 267,
    "start_time": "2022-06-25T16:53:50.715Z"
   },
   {
    "duration": 5,
    "start_time": "2022-06-25T16:53:50.984Z"
   },
   {
    "duration": 18,
    "start_time": "2022-06-25T16:53:50.991Z"
   },
   {
    "duration": 32,
    "start_time": "2022-06-25T16:53:51.010Z"
   },
   {
    "duration": 32,
    "start_time": "2022-06-25T16:53:51.043Z"
   },
   {
    "duration": 12,
    "start_time": "2022-06-25T16:53:51.077Z"
   },
   {
    "duration": 19,
    "start_time": "2022-06-25T16:53:51.091Z"
   },
   {
    "duration": 11,
    "start_time": "2022-06-25T16:53:51.111Z"
   },
   {
    "duration": 20,
    "start_time": "2022-06-25T16:53:51.124Z"
   },
   {
    "duration": 319,
    "start_time": "2022-06-25T16:54:52.270Z"
   },
   {
    "duration": 9,
    "start_time": "2022-06-25T16:59:07.261Z"
   },
   {
    "duration": 7,
    "start_time": "2022-06-25T16:59:23.713Z"
   },
   {
    "duration": 1192,
    "start_time": "2022-06-25T17:00:41.807Z"
   },
   {
    "duration": 38,
    "start_time": "2022-06-25T17:00:43.001Z"
   },
   {
    "duration": 3,
    "start_time": "2022-06-25T17:00:43.041Z"
   },
   {
    "duration": 39,
    "start_time": "2022-06-25T17:00:43.045Z"
   },
   {
    "duration": 13,
    "start_time": "2022-06-25T17:00:43.087Z"
   },
   {
    "duration": 145,
    "start_time": "2022-06-25T17:00:43.102Z"
   },
   {
    "duration": 4,
    "start_time": "2022-06-25T17:00:43.250Z"
   },
   {
    "duration": 17,
    "start_time": "2022-06-25T17:00:43.255Z"
   },
   {
    "duration": 70,
    "start_time": "2022-06-25T17:00:43.274Z"
   },
   {
    "duration": 31,
    "start_time": "2022-06-25T17:00:43.347Z"
   },
   {
    "duration": 13,
    "start_time": "2022-06-25T17:00:43.380Z"
   },
   {
    "duration": 345,
    "start_time": "2022-06-25T17:00:43.394Z"
   },
   {
    "duration": 365,
    "start_time": "2022-06-25T17:00:43.746Z"
   },
   {
    "duration": 307,
    "start_time": "2022-06-25T17:00:44.114Z"
   },
   {
    "duration": 421,
    "start_time": "2022-06-25T17:00:44.424Z"
   },
   {
    "duration": 293,
    "start_time": "2022-06-25T17:00:44.854Z"
   },
   {
    "duration": 367,
    "start_time": "2022-06-25T17:00:45.150Z"
   },
   {
    "duration": 251,
    "start_time": "2022-06-25T17:00:45.519Z"
   },
   {
    "duration": 5,
    "start_time": "2022-06-25T17:00:45.773Z"
   },
   {
    "duration": 6,
    "start_time": "2022-06-25T17:00:45.780Z"
   },
   {
    "duration": 207,
    "start_time": "2022-06-25T17:00:45.787Z"
   },
   {
    "duration": 4,
    "start_time": "2022-06-25T17:00:45.996Z"
   },
   {
    "duration": 7,
    "start_time": "2022-06-25T17:00:46.002Z"
   },
   {
    "duration": 31,
    "start_time": "2022-06-25T17:00:46.027Z"
   },
   {
    "duration": 17,
    "start_time": "2022-06-25T17:00:46.061Z"
   },
   {
    "duration": 13,
    "start_time": "2022-06-25T17:00:46.080Z"
   },
   {
    "duration": 12,
    "start_time": "2022-06-25T17:00:46.095Z"
   },
   {
    "duration": 33,
    "start_time": "2022-06-25T17:00:46.108Z"
   },
   {
    "duration": 1288,
    "start_time": "2022-06-25T20:49:28.127Z"
   },
   {
    "duration": 85,
    "start_time": "2022-06-25T20:49:29.417Z"
   },
   {
    "duration": 4,
    "start_time": "2022-06-25T20:49:29.504Z"
   },
   {
    "duration": 22,
    "start_time": "2022-06-25T20:49:29.509Z"
   },
   {
    "duration": 17,
    "start_time": "2022-06-25T20:49:29.533Z"
   },
   {
    "duration": 247,
    "start_time": "2022-06-25T20:49:29.552Z"
   },
   {
    "duration": 3,
    "start_time": "2022-06-25T20:49:29.801Z"
   },
   {
    "duration": 11,
    "start_time": "2022-06-25T20:49:29.806Z"
   },
   {
    "duration": 41,
    "start_time": "2022-06-25T20:49:29.819Z"
   },
   {
    "duration": 15,
    "start_time": "2022-06-25T20:49:29.864Z"
   },
   {
    "duration": 13,
    "start_time": "2022-06-25T20:49:29.880Z"
   },
   {
    "duration": 299,
    "start_time": "2022-06-25T20:49:29.895Z"
   },
   {
    "duration": 349,
    "start_time": "2022-06-25T20:49:30.196Z"
   },
   {
    "duration": 271,
    "start_time": "2022-06-25T20:49:30.548Z"
   },
   {
    "duration": 421,
    "start_time": "2022-06-25T20:49:30.821Z"
   },
   {
    "duration": 280,
    "start_time": "2022-06-25T20:49:31.244Z"
   },
   {
    "duration": 334,
    "start_time": "2022-06-25T20:49:31.525Z"
   },
   {
    "duration": 198,
    "start_time": "2022-06-25T20:49:31.862Z"
   },
   {
    "duration": 8,
    "start_time": "2022-06-25T20:49:32.067Z"
   },
   {
    "duration": 7,
    "start_time": "2022-06-25T20:49:32.076Z"
   },
   {
    "duration": 184,
    "start_time": "2022-06-25T20:49:32.084Z"
   },
   {
    "duration": 6,
    "start_time": "2022-06-25T20:49:32.272Z"
   },
   {
    "duration": 7,
    "start_time": "2022-06-25T20:49:32.280Z"
   },
   {
    "duration": 17,
    "start_time": "2022-06-25T20:49:32.289Z"
   },
   {
    "duration": 8,
    "start_time": "2022-06-25T20:49:32.308Z"
   },
   {
    "duration": 17,
    "start_time": "2022-06-25T20:49:32.317Z"
   },
   {
    "duration": 27,
    "start_time": "2022-06-25T20:49:32.335Z"
   },
   {
    "duration": 17,
    "start_time": "2022-06-25T20:49:32.363Z"
   },
   {
    "duration": 55,
    "start_time": "2022-06-25T21:04:53.883Z"
   },
   {
    "duration": 6,
    "start_time": "2022-06-25T21:05:06.983Z"
   },
   {
    "duration": 359,
    "start_time": "2022-06-25T21:05:14.172Z"
   },
   {
    "duration": 271,
    "start_time": "2022-06-25T21:05:40.407Z"
   },
   {
    "duration": 746,
    "start_time": "2022-06-25T21:10:43.588Z"
   },
   {
    "duration": 738,
    "start_time": "2022-06-25T21:11:22.438Z"
   },
   {
    "duration": 24,
    "start_time": "2022-06-25T21:11:50.250Z"
   },
   {
    "duration": 27,
    "start_time": "2022-06-25T21:13:19.450Z"
   },
   {
    "duration": 5,
    "start_time": "2022-06-25T21:13:36.145Z"
   },
   {
    "duration": 875,
    "start_time": "2022-06-25T21:14:07.077Z"
   },
   {
    "duration": 35,
    "start_time": "2022-06-25T21:14:39.006Z"
   },
   {
    "duration": 53,
    "start_time": "2022-06-25T21:15:42.821Z"
   },
   {
    "duration": 21,
    "start_time": "2022-06-25T21:18:19.209Z"
   },
   {
    "duration": 29,
    "start_time": "2022-06-25T21:19:17.888Z"
   },
   {
    "duration": 1073,
    "start_time": "2022-06-25T21:20:19.317Z"
   },
   {
    "duration": 35,
    "start_time": "2022-06-25T21:20:20.392Z"
   },
   {
    "duration": 3,
    "start_time": "2022-06-25T21:20:20.429Z"
   },
   {
    "duration": 30,
    "start_time": "2022-06-25T21:20:20.434Z"
   },
   {
    "duration": 28,
    "start_time": "2022-06-25T21:20:20.465Z"
   },
   {
    "duration": 88,
    "start_time": "2022-06-25T21:20:20.494Z"
   },
   {
    "duration": 3,
    "start_time": "2022-06-25T21:20:20.584Z"
   },
   {
    "duration": 11,
    "start_time": "2022-06-25T21:20:20.590Z"
   },
   {
    "duration": 59,
    "start_time": "2022-06-25T21:20:20.603Z"
   },
   {
    "duration": 14,
    "start_time": "2022-06-25T21:20:20.668Z"
   },
   {
    "duration": 11,
    "start_time": "2022-06-25T21:20:20.683Z"
   },
   {
    "duration": 305,
    "start_time": "2022-06-25T21:20:20.696Z"
   },
   {
    "duration": 328,
    "start_time": "2022-06-25T21:20:21.002Z"
   },
   {
    "duration": 273,
    "start_time": "2022-06-25T21:20:21.332Z"
   },
   {
    "duration": 324,
    "start_time": "2022-06-25T21:20:21.607Z"
   },
   {
    "duration": 280,
    "start_time": "2022-06-25T21:20:21.932Z"
   },
   {
    "duration": 352,
    "start_time": "2022-06-25T21:20:22.214Z"
   },
   {
    "duration": 182,
    "start_time": "2022-06-25T21:20:22.571Z"
   },
   {
    "duration": 8,
    "start_time": "2022-06-25T21:20:22.759Z"
   },
   {
    "duration": 13,
    "start_time": "2022-06-25T21:20:22.768Z"
   },
   {
    "duration": 190,
    "start_time": "2022-06-25T21:20:22.782Z"
   },
   {
    "duration": 7,
    "start_time": "2022-06-25T21:20:22.973Z"
   },
   {
    "duration": 8,
    "start_time": "2022-06-25T21:20:22.982Z"
   },
   {
    "duration": 59,
    "start_time": "2022-06-25T21:20:22.991Z"
   },
   {
    "duration": 10,
    "start_time": "2022-06-25T21:20:23.052Z"
   },
   {
    "duration": 23,
    "start_time": "2022-06-25T21:20:23.073Z"
   },
   {
    "duration": 30,
    "start_time": "2022-06-25T21:20:23.098Z"
   },
   {
    "duration": 7,
    "start_time": "2022-06-25T21:20:23.131Z"
   },
   {
    "duration": 1029,
    "start_time": "2022-06-26T06:36:18.081Z"
   },
   {
    "duration": 67,
    "start_time": "2022-06-26T06:36:19.112Z"
   },
   {
    "duration": 3,
    "start_time": "2022-06-26T06:36:19.180Z"
   },
   {
    "duration": 19,
    "start_time": "2022-06-26T06:36:19.185Z"
   },
   {
    "duration": 12,
    "start_time": "2022-06-26T06:36:19.207Z"
   },
   {
    "duration": 157,
    "start_time": "2022-06-26T06:36:19.220Z"
   },
   {
    "duration": 4,
    "start_time": "2022-06-26T06:36:19.379Z"
   },
   {
    "duration": 19,
    "start_time": "2022-06-26T06:36:19.384Z"
   },
   {
    "duration": 33,
    "start_time": "2022-06-26T06:36:19.405Z"
   },
   {
    "duration": 14,
    "start_time": "2022-06-26T06:36:19.440Z"
   },
   {
    "duration": 12,
    "start_time": "2022-06-26T06:36:19.456Z"
   },
   {
    "duration": 309,
    "start_time": "2022-06-26T06:36:19.470Z"
   },
   {
    "duration": 315,
    "start_time": "2022-06-26T06:36:19.781Z"
   },
   {
    "duration": 246,
    "start_time": "2022-06-26T06:36:20.100Z"
   },
   {
    "duration": 329,
    "start_time": "2022-06-26T06:36:20.348Z"
   },
   {
    "duration": 248,
    "start_time": "2022-06-26T06:36:20.679Z"
   },
   {
    "duration": 347,
    "start_time": "2022-06-26T06:36:20.929Z"
   },
   {
    "duration": 193,
    "start_time": "2022-06-26T06:36:21.277Z"
   },
   {
    "duration": 3,
    "start_time": "2022-06-26T06:36:21.472Z"
   },
   {
    "duration": 6,
    "start_time": "2022-06-26T06:36:21.477Z"
   },
   {
    "duration": 182,
    "start_time": "2022-06-26T06:36:21.484Z"
   },
   {
    "duration": 3,
    "start_time": "2022-06-26T06:36:21.668Z"
   },
   {
    "duration": 8,
    "start_time": "2022-06-26T06:36:21.672Z"
   },
   {
    "duration": 47,
    "start_time": "2022-06-26T06:36:21.682Z"
   },
   {
    "duration": 8,
    "start_time": "2022-06-26T06:36:21.730Z"
   },
   {
    "duration": 13,
    "start_time": "2022-06-26T06:36:21.739Z"
   },
   {
    "duration": 28,
    "start_time": "2022-06-26T06:36:21.754Z"
   },
   {
    "duration": 7,
    "start_time": "2022-06-26T06:36:21.784Z"
   },
   {
    "duration": 995,
    "start_time": "2022-06-26T06:40:42.867Z"
   },
   {
    "duration": 36,
    "start_time": "2022-06-26T06:40:43.863Z"
   },
   {
    "duration": 3,
    "start_time": "2022-06-26T06:40:43.900Z"
   },
   {
    "duration": 13,
    "start_time": "2022-06-26T06:40:43.905Z"
   },
   {
    "duration": 11,
    "start_time": "2022-06-26T06:40:43.920Z"
   },
   {
    "duration": 76,
    "start_time": "2022-06-26T06:40:43.933Z"
   },
   {
    "duration": 3,
    "start_time": "2022-06-26T06:40:44.010Z"
   },
   {
    "duration": 9,
    "start_time": "2022-06-26T06:40:44.015Z"
   },
   {
    "duration": 28,
    "start_time": "2022-06-26T06:40:44.025Z"
   },
   {
    "duration": 11,
    "start_time": "2022-06-26T06:40:44.055Z"
   },
   {
    "duration": 12,
    "start_time": "2022-06-26T06:40:44.067Z"
   },
   {
    "duration": 304,
    "start_time": "2022-06-26T06:40:44.080Z"
   },
   {
    "duration": 317,
    "start_time": "2022-06-26T06:40:44.385Z"
   },
   {
    "duration": 257,
    "start_time": "2022-06-26T06:40:44.703Z"
   },
   {
    "duration": 312,
    "start_time": "2022-06-26T06:40:44.961Z"
   },
   {
    "duration": 239,
    "start_time": "2022-06-26T06:40:45.275Z"
   },
   {
    "duration": 350,
    "start_time": "2022-06-26T06:40:45.516Z"
   },
   {
    "duration": 188,
    "start_time": "2022-06-26T06:40:45.868Z"
   },
   {
    "duration": 4,
    "start_time": "2022-06-26T06:40:46.058Z"
   },
   {
    "duration": 7,
    "start_time": "2022-06-26T06:40:46.063Z"
   },
   {
    "duration": 185,
    "start_time": "2022-06-26T06:40:46.071Z"
   },
   {
    "duration": 5,
    "start_time": "2022-06-26T06:40:46.258Z"
   },
   {
    "duration": 7,
    "start_time": "2022-06-26T06:40:46.265Z"
   },
   {
    "duration": 55,
    "start_time": "2022-06-26T06:40:46.274Z"
   },
   {
    "duration": 8,
    "start_time": "2022-06-26T06:40:46.331Z"
   },
   {
    "duration": 12,
    "start_time": "2022-06-26T06:40:46.341Z"
   },
   {
    "duration": 29,
    "start_time": "2022-06-26T06:40:46.355Z"
   },
   {
    "duration": 42,
    "start_time": "2022-06-26T06:40:46.388Z"
   },
   {
    "duration": 1215,
    "start_time": "2022-06-29T10:39:26.266Z"
   },
   {
    "duration": 45,
    "start_time": "2022-06-29T10:39:27.484Z"
   },
   {
    "duration": 3,
    "start_time": "2022-06-29T10:39:27.530Z"
   },
   {
    "duration": 16,
    "start_time": "2022-06-29T10:39:27.535Z"
   },
   {
    "duration": 12,
    "start_time": "2022-06-29T10:39:27.553Z"
   },
   {
    "duration": 101,
    "start_time": "2022-06-29T10:39:27.567Z"
   },
   {
    "duration": 3,
    "start_time": "2022-06-29T10:39:27.669Z"
   },
   {
    "duration": 8,
    "start_time": "2022-06-29T10:39:27.674Z"
   },
   {
    "duration": 29,
    "start_time": "2022-06-29T10:39:27.683Z"
   },
   {
    "duration": 43,
    "start_time": "2022-06-29T10:39:27.714Z"
   },
   {
    "duration": 15,
    "start_time": "2022-06-29T10:39:27.759Z"
   },
   {
    "duration": 278,
    "start_time": "2022-06-29T10:39:27.776Z"
   },
   {
    "duration": 308,
    "start_time": "2022-06-29T10:39:28.056Z"
   },
   {
    "duration": 239,
    "start_time": "2022-06-29T10:39:28.367Z"
   },
   {
    "duration": 392,
    "start_time": "2022-06-29T10:39:28.607Z"
   },
   {
    "duration": 234,
    "start_time": "2022-06-29T10:39:29.001Z"
   },
   {
    "duration": 355,
    "start_time": "2022-06-29T10:39:29.237Z"
   },
   {
    "duration": 177,
    "start_time": "2022-06-29T10:39:29.594Z"
   },
   {
    "duration": 4,
    "start_time": "2022-06-29T10:39:29.772Z"
   },
   {
    "duration": 6,
    "start_time": "2022-06-29T10:39:29.777Z"
   },
   {
    "duration": 169,
    "start_time": "2022-06-29T10:39:29.785Z"
   },
   {
    "duration": 4,
    "start_time": "2022-06-29T10:39:29.955Z"
   },
   {
    "duration": 5,
    "start_time": "2022-06-29T10:39:29.961Z"
   },
   {
    "duration": 29,
    "start_time": "2022-06-29T10:39:29.968Z"
   },
   {
    "duration": 7,
    "start_time": "2022-06-29T10:39:29.998Z"
   },
   {
    "duration": 18,
    "start_time": "2022-06-29T10:39:30.006Z"
   },
   {
    "duration": 48,
    "start_time": "2022-06-29T10:39:30.025Z"
   },
   {
    "duration": 7,
    "start_time": "2022-06-29T10:39:30.075Z"
   },
   {
    "duration": 281,
    "start_time": "2022-06-29T10:39:37.290Z"
   },
   {
    "duration": 1025,
    "start_time": "2022-06-29T10:39:52.539Z"
   },
   {
    "duration": 22,
    "start_time": "2022-06-29T10:39:53.566Z"
   },
   {
    "duration": 2,
    "start_time": "2022-06-29T10:39:53.590Z"
   },
   {
    "duration": 17,
    "start_time": "2022-06-29T10:39:53.594Z"
   },
   {
    "duration": 12,
    "start_time": "2022-06-29T10:39:53.612Z"
   },
   {
    "duration": 55,
    "start_time": "2022-06-29T10:39:53.625Z"
   },
   {
    "duration": 3,
    "start_time": "2022-06-29T10:39:53.681Z"
   },
   {
    "duration": 8,
    "start_time": "2022-06-29T10:39:53.685Z"
   },
   {
    "duration": 24,
    "start_time": "2022-06-29T10:39:53.694Z"
   },
   {
    "duration": 31,
    "start_time": "2022-06-29T10:39:53.721Z"
   },
   {
    "duration": 17,
    "start_time": "2022-06-29T10:39:53.753Z"
   },
   {
    "duration": 272,
    "start_time": "2022-06-29T10:39:53.772Z"
   },
   {
    "duration": 283,
    "start_time": "2022-06-29T10:39:54.051Z"
   },
   {
    "duration": 268,
    "start_time": "2022-06-29T10:39:54.335Z"
   },
   {
    "duration": 294,
    "start_time": "2022-06-29T10:39:54.605Z"
   },
   {
    "duration": 231,
    "start_time": "2022-06-29T10:39:54.901Z"
   },
   {
    "duration": 351,
    "start_time": "2022-06-29T10:39:55.134Z"
   },
   {
    "duration": 183,
    "start_time": "2022-06-29T10:39:55.487Z"
   },
   {
    "duration": 3,
    "start_time": "2022-06-29T10:39:55.672Z"
   },
   {
    "duration": 9,
    "start_time": "2022-06-29T10:39:55.676Z"
   },
   {
    "duration": 168,
    "start_time": "2022-06-29T10:39:55.687Z"
   },
   {
    "duration": 5,
    "start_time": "2022-06-29T10:39:55.856Z"
   },
   {
    "duration": 7,
    "start_time": "2022-06-29T10:39:55.862Z"
   },
   {
    "duration": 31,
    "start_time": "2022-06-29T10:39:55.871Z"
   },
   {
    "duration": 7,
    "start_time": "2022-06-29T10:39:55.903Z"
   },
   {
    "duration": 10,
    "start_time": "2022-06-29T10:39:55.912Z"
   },
   {
    "duration": 56,
    "start_time": "2022-06-29T10:39:55.923Z"
   },
   {
    "duration": 7,
    "start_time": "2022-06-29T10:39:55.982Z"
   },
   {
    "duration": 1275,
    "start_time": "2022-06-30T07:38:38.420Z"
   },
   {
    "duration": 50,
    "start_time": "2022-06-30T07:38:39.698Z"
   },
   {
    "duration": 4,
    "start_time": "2022-06-30T07:38:39.750Z"
   },
   {
    "duration": 19,
    "start_time": "2022-06-30T07:38:39.756Z"
   },
   {
    "duration": 13,
    "start_time": "2022-06-30T07:38:39.777Z"
   },
   {
    "duration": 101,
    "start_time": "2022-06-30T07:38:39.791Z"
   },
   {
    "duration": 2,
    "start_time": "2022-06-30T07:38:39.894Z"
   },
   {
    "duration": 12,
    "start_time": "2022-06-30T07:38:39.898Z"
   },
   {
    "duration": 29,
    "start_time": "2022-06-30T07:38:39.912Z"
   },
   {
    "duration": 12,
    "start_time": "2022-06-30T07:38:39.944Z"
   },
   {
    "duration": 21,
    "start_time": "2022-06-30T07:38:39.957Z"
   },
   {
    "duration": 317,
    "start_time": "2022-06-30T07:38:39.979Z"
   },
   {
    "duration": 349,
    "start_time": "2022-06-30T07:38:40.297Z"
   },
   {
    "duration": 295,
    "start_time": "2022-06-30T07:38:40.648Z"
   },
   {
    "duration": 428,
    "start_time": "2022-06-30T07:38:40.944Z"
   },
   {
    "duration": 331,
    "start_time": "2022-06-30T07:38:41.374Z"
   },
   {
    "duration": 430,
    "start_time": "2022-06-30T07:38:41.708Z"
   },
   {
    "duration": 207,
    "start_time": "2022-06-30T07:38:42.140Z"
   },
   {
    "duration": 4,
    "start_time": "2022-06-30T07:38:42.350Z"
   },
   {
    "duration": 9,
    "start_time": "2022-06-30T07:38:42.356Z"
   },
   {
    "duration": 189,
    "start_time": "2022-06-30T07:38:42.367Z"
   },
   {
    "duration": 4,
    "start_time": "2022-06-30T07:38:42.557Z"
   },
   {
    "duration": 7,
    "start_time": "2022-06-30T07:38:42.563Z"
   },
   {
    "duration": 36,
    "start_time": "2022-06-30T07:38:42.571Z"
   },
   {
    "duration": 9,
    "start_time": "2022-06-30T07:38:42.626Z"
   },
   {
    "duration": 23,
    "start_time": "2022-06-30T07:38:42.636Z"
   },
   {
    "duration": 43,
    "start_time": "2022-06-30T07:38:42.661Z"
   },
   {
    "duration": 9,
    "start_time": "2022-06-30T07:38:42.708Z"
   },
   {
    "duration": 40,
    "start_time": "2022-06-30T08:10:27.730Z"
   },
   {
    "duration": 42,
    "start_time": "2022-06-30T08:19:15.166Z"
   },
   {
    "duration": 43,
    "start_time": "2022-06-30T08:19:31.417Z"
   }
  ],
  "kernelspec": {
   "display_name": "Python 3 (ipykernel)",
   "language": "python",
   "name": "python3"
  },
  "language_info": {
   "codemirror_mode": {
    "name": "ipython",
    "version": 3
   },
   "file_extension": ".py",
   "mimetype": "text/x-python",
   "name": "python",
   "nbconvert_exporter": "python",
   "pygments_lexer": "ipython3",
   "version": "3.9.7"
  },
  "toc": {
   "base_numbering": 1,
   "nav_menu": {},
   "number_sections": true,
   "sideBar": true,
   "skip_h1_title": true,
   "title_cell": "Table of Contents",
   "title_sidebar": "Contents",
   "toc_cell": false,
   "toc_position": {},
   "toc_section_display": true,
   "toc_window_display": false
  }
 },
 "nbformat": 4,
 "nbformat_minor": 2
}
