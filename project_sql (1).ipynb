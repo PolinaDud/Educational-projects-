{
 "cells": [
  {
   "cell_type": "markdown",
   "id": "b6bea505",
   "metadata": {},
   "source": [
    "# Описание и цель исследования"
   ]
  },
  {
   "cell_type": "markdown",
   "id": "ee7657b2",
   "metadata": {},
   "source": [
    "Дана база данных сервиса, предоставляющего книги по подписке. В базе данных содержится информация о книгах, издательствах, авторах, а также пользовательские обзоры книг. Эти данные помогут сформулировать ценностное предложение для нового продукта.\n",
    "Следует ответить на вопросы: \n",
    "- Сколько книг вышло после 1 января 2000 года.\n",
    "- Количество обзоров и среднюю оценку для каждой книги.\n",
    "- Какое издательство, выпустило наибольшее число книг толще 50 страниц (чтобы исключить из анализа брошюры)?\n",
    "- Автора с самой высокой средней оценкой книг (учитывать только книги с 50 и более оценками).\n",
    "- среднее количество обзоров от пользователей, которые поставили больше 50 оценок."
   ]
  },
  {
   "cell_type": "markdown",
   "id": "a276663f",
   "metadata": {},
   "source": [
    "# Используемые бибилиотеки"
   ]
  },
  {
   "cell_type": "code",
   "execution_count": 1,
   "id": "ea03dd89",
   "metadata": {},
   "outputs": [],
   "source": [
    "import pandas as pd\n",
    "from sqlalchemy import create_engine "
   ]
  },
  {
   "cell_type": "markdown",
   "id": "b6494da6",
   "metadata": {},
   "source": [
    "# Подключение к базе данных"
   ]
  },
  {
   "cell_type": "code",
   "execution_count": 2,
   "id": "5cf2f115",
   "metadata": {},
   "outputs": [],
   "source": [
    "# устанавливаем параметры\n",
    "db_config = {'user': 'praktikum_student', # имя пользователя\n",
    "            'pwd': 'Sdf4$2;d-d30pp', # пароль\n",
    "            'host': 'rc1b-wcoijxj3yxfsf3fs.mdb.yandexcloud.net',\n",
    "            'port': 6432, # порт подключения\n",
    "            'db': 'data-analyst-final-project-db'} # название базы данных\n",
    "connection_string = 'postgresql://{}:{}@{}:{}/{}'.format(db_config['user'],\n",
    "                                                         db_config['pwd'],\n",
    "                                                         db_config['host'],\n",
    "                                                         db_config['port'],\n",
    "                                                         db_config['db'])\n",
    "# сохраняем коннектор\n",
    "engine = create_engine(connection_string, connect_args={'sslmode':'require'})"
   ]
  },
  {
   "cell_type": "markdown",
   "id": "6293782d",
   "metadata": {},
   "source": [
    "# Таблицы "
   ]
  },
  {
   "cell_type": "code",
   "execution_count": 3,
   "id": "02541396",
   "metadata": {},
   "outputs": [],
   "source": [
    "query_books = ''' SELECT *\n",
    "                FROM books\n",
    "              '''"
   ]
  },
  {
   "cell_type": "code",
   "execution_count": 4,
   "id": "608228d4",
   "metadata": {},
   "outputs": [
    {
     "data": {
      "text/html": [
       "<div>\n",
       "<style scoped>\n",
       "    .dataframe tbody tr th:only-of-type {\n",
       "        vertical-align: middle;\n",
       "    }\n",
       "\n",
       "    .dataframe tbody tr th {\n",
       "        vertical-align: top;\n",
       "    }\n",
       "\n",
       "    .dataframe thead th {\n",
       "        text-align: right;\n",
       "    }\n",
       "</style>\n",
       "<table border=\"1\" class=\"dataframe\">\n",
       "  <thead>\n",
       "    <tr style=\"text-align: right;\">\n",
       "      <th></th>\n",
       "      <th>book_id</th>\n",
       "      <th>author_id</th>\n",
       "      <th>title</th>\n",
       "      <th>num_pages</th>\n",
       "      <th>publication_date</th>\n",
       "      <th>publisher_id</th>\n",
       "    </tr>\n",
       "  </thead>\n",
       "  <tbody>\n",
       "    <tr>\n",
       "      <th>0</th>\n",
       "      <td>1</td>\n",
       "      <td>546</td>\n",
       "      <td>'Salem's Lot</td>\n",
       "      <td>594</td>\n",
       "      <td>2005-11-01</td>\n",
       "      <td>93</td>\n",
       "    </tr>\n",
       "    <tr>\n",
       "      <th>1</th>\n",
       "      <td>2</td>\n",
       "      <td>465</td>\n",
       "      <td>1 000 Places to See Before You Die</td>\n",
       "      <td>992</td>\n",
       "      <td>2003-05-22</td>\n",
       "      <td>336</td>\n",
       "    </tr>\n",
       "    <tr>\n",
       "      <th>2</th>\n",
       "      <td>3</td>\n",
       "      <td>407</td>\n",
       "      <td>13 Little Blue Envelopes (Little Blue Envelope...</td>\n",
       "      <td>322</td>\n",
       "      <td>2010-12-21</td>\n",
       "      <td>135</td>\n",
       "    </tr>\n",
       "    <tr>\n",
       "      <th>3</th>\n",
       "      <td>4</td>\n",
       "      <td>82</td>\n",
       "      <td>1491: New Revelations of the Americas Before C...</td>\n",
       "      <td>541</td>\n",
       "      <td>2006-10-10</td>\n",
       "      <td>309</td>\n",
       "    </tr>\n",
       "    <tr>\n",
       "      <th>4</th>\n",
       "      <td>5</td>\n",
       "      <td>125</td>\n",
       "      <td>1776</td>\n",
       "      <td>386</td>\n",
       "      <td>2006-07-04</td>\n",
       "      <td>268</td>\n",
       "    </tr>\n",
       "    <tr>\n",
       "      <th>...</th>\n",
       "      <td>...</td>\n",
       "      <td>...</td>\n",
       "      <td>...</td>\n",
       "      <td>...</td>\n",
       "      <td>...</td>\n",
       "      <td>...</td>\n",
       "    </tr>\n",
       "    <tr>\n",
       "      <th>995</th>\n",
       "      <td>996</td>\n",
       "      <td>571</td>\n",
       "      <td>Wyrd Sisters (Discworld  #6; Witches #2)</td>\n",
       "      <td>265</td>\n",
       "      <td>2001-02-06</td>\n",
       "      <td>147</td>\n",
       "    </tr>\n",
       "    <tr>\n",
       "      <th>996</th>\n",
       "      <td>997</td>\n",
       "      <td>454</td>\n",
       "      <td>Xenocide (Ender's Saga  #3)</td>\n",
       "      <td>592</td>\n",
       "      <td>1996-07-15</td>\n",
       "      <td>297</td>\n",
       "    </tr>\n",
       "    <tr>\n",
       "      <th>997</th>\n",
       "      <td>998</td>\n",
       "      <td>201</td>\n",
       "      <td>Year of Wonders</td>\n",
       "      <td>358</td>\n",
       "      <td>2002-04-30</td>\n",
       "      <td>212</td>\n",
       "    </tr>\n",
       "    <tr>\n",
       "      <th>998</th>\n",
       "      <td>999</td>\n",
       "      <td>94</td>\n",
       "      <td>You Suck (A Love Story  #2)</td>\n",
       "      <td>328</td>\n",
       "      <td>2007-01-16</td>\n",
       "      <td>331</td>\n",
       "    </tr>\n",
       "    <tr>\n",
       "      <th>999</th>\n",
       "      <td>1000</td>\n",
       "      <td>509</td>\n",
       "      <td>Zen and the Art of Motorcycle Maintenance: An ...</td>\n",
       "      <td>540</td>\n",
       "      <td>2006-04-25</td>\n",
       "      <td>143</td>\n",
       "    </tr>\n",
       "  </tbody>\n",
       "</table>\n",
       "<p>1000 rows × 6 columns</p>\n",
       "</div>"
      ],
      "text/plain": [
       "     book_id  author_id                                              title  \\\n",
       "0          1        546                                       'Salem's Lot   \n",
       "1          2        465                 1 000 Places to See Before You Die   \n",
       "2          3        407  13 Little Blue Envelopes (Little Blue Envelope...   \n",
       "3          4         82  1491: New Revelations of the Americas Before C...   \n",
       "4          5        125                                               1776   \n",
       "..       ...        ...                                                ...   \n",
       "995      996        571           Wyrd Sisters (Discworld  #6; Witches #2)   \n",
       "996      997        454                        Xenocide (Ender's Saga  #3)   \n",
       "997      998        201                                    Year of Wonders   \n",
       "998      999         94                        You Suck (A Love Story  #2)   \n",
       "999     1000        509  Zen and the Art of Motorcycle Maintenance: An ...   \n",
       "\n",
       "     num_pages publication_date  publisher_id  \n",
       "0          594       2005-11-01            93  \n",
       "1          992       2003-05-22           336  \n",
       "2          322       2010-12-21           135  \n",
       "3          541       2006-10-10           309  \n",
       "4          386       2006-07-04           268  \n",
       "..         ...              ...           ...  \n",
       "995        265       2001-02-06           147  \n",
       "996        592       1996-07-15           297  \n",
       "997        358       2002-04-30           212  \n",
       "998        328       2007-01-16           331  \n",
       "999        540       2006-04-25           143  \n",
       "\n",
       "[1000 rows x 6 columns]"
      ]
     },
     "metadata": {},
     "output_type": "display_data"
    }
   ],
   "source": [
    "display(pd.io.sql.read_sql(query_books, con = engine))"
   ]
  },
  {
   "cell_type": "code",
   "execution_count": 5,
   "id": "ab26d41f",
   "metadata": {},
   "outputs": [],
   "source": [
    "query_authors = '''  SELECT *\n",
    "                     FROM authors\n",
    "                '''"
   ]
  },
  {
   "cell_type": "code",
   "execution_count": 6,
   "id": "396de9e4",
   "metadata": {},
   "outputs": [
    {
     "data": {
      "text/html": [
       "<div>\n",
       "<style scoped>\n",
       "    .dataframe tbody tr th:only-of-type {\n",
       "        vertical-align: middle;\n",
       "    }\n",
       "\n",
       "    .dataframe tbody tr th {\n",
       "        vertical-align: top;\n",
       "    }\n",
       "\n",
       "    .dataframe thead th {\n",
       "        text-align: right;\n",
       "    }\n",
       "</style>\n",
       "<table border=\"1\" class=\"dataframe\">\n",
       "  <thead>\n",
       "    <tr style=\"text-align: right;\">\n",
       "      <th></th>\n",
       "      <th>author_id</th>\n",
       "      <th>author</th>\n",
       "    </tr>\n",
       "  </thead>\n",
       "  <tbody>\n",
       "    <tr>\n",
       "      <th>0</th>\n",
       "      <td>1</td>\n",
       "      <td>A.S. Byatt</td>\n",
       "    </tr>\n",
       "    <tr>\n",
       "      <th>1</th>\n",
       "      <td>2</td>\n",
       "      <td>Aesop/Laura Harris/Laura Gibbs</td>\n",
       "    </tr>\n",
       "    <tr>\n",
       "      <th>2</th>\n",
       "      <td>3</td>\n",
       "      <td>Agatha Christie</td>\n",
       "    </tr>\n",
       "    <tr>\n",
       "      <th>3</th>\n",
       "      <td>4</td>\n",
       "      <td>Alan Brennert</td>\n",
       "    </tr>\n",
       "    <tr>\n",
       "      <th>4</th>\n",
       "      <td>5</td>\n",
       "      <td>Alan Moore/David   Lloyd</td>\n",
       "    </tr>\n",
       "  </tbody>\n",
       "</table>\n",
       "</div>"
      ],
      "text/plain": [
       "   author_id                          author\n",
       "0          1                      A.S. Byatt\n",
       "1          2  Aesop/Laura Harris/Laura Gibbs\n",
       "2          3                 Agatha Christie\n",
       "3          4                   Alan Brennert\n",
       "4          5        Alan Moore/David   Lloyd"
      ]
     },
     "metadata": {},
     "output_type": "display_data"
    }
   ],
   "source": [
    "display(pd.io.sql.read_sql(query_authors, con = engine).head(5))"
   ]
  },
  {
   "cell_type": "code",
   "execution_count": 7,
   "id": "233ec253",
   "metadata": {},
   "outputs": [],
   "source": [
    "query_ratings = ''' SELECT *\n",
    "                    FROM ratings\n",
    "                '''"
   ]
  },
  {
   "cell_type": "code",
   "execution_count": 8,
   "id": "4c4e2219",
   "metadata": {},
   "outputs": [
    {
     "data": {
      "text/html": [
       "<div>\n",
       "<style scoped>\n",
       "    .dataframe tbody tr th:only-of-type {\n",
       "        vertical-align: middle;\n",
       "    }\n",
       "\n",
       "    .dataframe tbody tr th {\n",
       "        vertical-align: top;\n",
       "    }\n",
       "\n",
       "    .dataframe thead th {\n",
       "        text-align: right;\n",
       "    }\n",
       "</style>\n",
       "<table border=\"1\" class=\"dataframe\">\n",
       "  <thead>\n",
       "    <tr style=\"text-align: right;\">\n",
       "      <th></th>\n",
       "      <th>rating_id</th>\n",
       "      <th>book_id</th>\n",
       "      <th>username</th>\n",
       "      <th>rating</th>\n",
       "    </tr>\n",
       "  </thead>\n",
       "  <tbody>\n",
       "    <tr>\n",
       "      <th>0</th>\n",
       "      <td>1</td>\n",
       "      <td>1</td>\n",
       "      <td>ryanfranco</td>\n",
       "      <td>4</td>\n",
       "    </tr>\n",
       "    <tr>\n",
       "      <th>1</th>\n",
       "      <td>2</td>\n",
       "      <td>1</td>\n",
       "      <td>grantpatricia</td>\n",
       "      <td>2</td>\n",
       "    </tr>\n",
       "    <tr>\n",
       "      <th>2</th>\n",
       "      <td>3</td>\n",
       "      <td>1</td>\n",
       "      <td>brandtandrea</td>\n",
       "      <td>5</td>\n",
       "    </tr>\n",
       "    <tr>\n",
       "      <th>3</th>\n",
       "      <td>4</td>\n",
       "      <td>2</td>\n",
       "      <td>lorichen</td>\n",
       "      <td>3</td>\n",
       "    </tr>\n",
       "    <tr>\n",
       "      <th>4</th>\n",
       "      <td>5</td>\n",
       "      <td>2</td>\n",
       "      <td>mariokeller</td>\n",
       "      <td>2</td>\n",
       "    </tr>\n",
       "  </tbody>\n",
       "</table>\n",
       "</div>"
      ],
      "text/plain": [
       "   rating_id  book_id       username  rating\n",
       "0          1        1     ryanfranco       4\n",
       "1          2        1  grantpatricia       2\n",
       "2          3        1   brandtandrea       5\n",
       "3          4        2       lorichen       3\n",
       "4          5        2    mariokeller       2"
      ]
     },
     "metadata": {},
     "output_type": "display_data"
    }
   ],
   "source": [
    "display(pd.io.sql.read_sql(query_ratings, con = engine).head(5))"
   ]
  },
  {
   "cell_type": "code",
   "execution_count": 9,
   "id": "f0d4e495",
   "metadata": {},
   "outputs": [],
   "source": [
    "query_publishers = ''' SELECT *\n",
    "                       FROM publishers\n",
    "                   '''"
   ]
  },
  {
   "cell_type": "code",
   "execution_count": 10,
   "id": "c6d2a217",
   "metadata": {},
   "outputs": [
    {
     "data": {
      "text/html": [
       "<div>\n",
       "<style scoped>\n",
       "    .dataframe tbody tr th:only-of-type {\n",
       "        vertical-align: middle;\n",
       "    }\n",
       "\n",
       "    .dataframe tbody tr th {\n",
       "        vertical-align: top;\n",
       "    }\n",
       "\n",
       "    .dataframe thead th {\n",
       "        text-align: right;\n",
       "    }\n",
       "</style>\n",
       "<table border=\"1\" class=\"dataframe\">\n",
       "  <thead>\n",
       "    <tr style=\"text-align: right;\">\n",
       "      <th></th>\n",
       "      <th>publisher_id</th>\n",
       "      <th>publisher</th>\n",
       "    </tr>\n",
       "  </thead>\n",
       "  <tbody>\n",
       "    <tr>\n",
       "      <th>0</th>\n",
       "      <td>1</td>\n",
       "      <td>Ace</td>\n",
       "    </tr>\n",
       "    <tr>\n",
       "      <th>1</th>\n",
       "      <td>2</td>\n",
       "      <td>Ace Book</td>\n",
       "    </tr>\n",
       "    <tr>\n",
       "      <th>2</th>\n",
       "      <td>3</td>\n",
       "      <td>Ace Books</td>\n",
       "    </tr>\n",
       "    <tr>\n",
       "      <th>3</th>\n",
       "      <td>4</td>\n",
       "      <td>Ace Hardcover</td>\n",
       "    </tr>\n",
       "    <tr>\n",
       "      <th>4</th>\n",
       "      <td>5</td>\n",
       "      <td>Addison Wesley Publishing Company</td>\n",
       "    </tr>\n",
       "  </tbody>\n",
       "</table>\n",
       "</div>"
      ],
      "text/plain": [
       "   publisher_id                          publisher\n",
       "0             1                                Ace\n",
       "1             2                           Ace Book\n",
       "2             3                          Ace Books\n",
       "3             4                      Ace Hardcover\n",
       "4             5  Addison Wesley Publishing Company"
      ]
     },
     "metadata": {},
     "output_type": "display_data"
    }
   ],
   "source": [
    "display(pd.io.sql.read_sql(query_publishers, con = engine).head(5))"
   ]
  },
  {
   "cell_type": "code",
   "execution_count": 11,
   "id": "81e72fc3",
   "metadata": {},
   "outputs": [],
   "source": [
    "query_reviews = ''' SELECT *\n",
    "                    FROM reviews\n",
    "                '''"
   ]
  },
  {
   "cell_type": "code",
   "execution_count": 12,
   "id": "7701a9ec",
   "metadata": {},
   "outputs": [
    {
     "data": {
      "text/html": [
       "<div>\n",
       "<style scoped>\n",
       "    .dataframe tbody tr th:only-of-type {\n",
       "        vertical-align: middle;\n",
       "    }\n",
       "\n",
       "    .dataframe tbody tr th {\n",
       "        vertical-align: top;\n",
       "    }\n",
       "\n",
       "    .dataframe thead th {\n",
       "        text-align: right;\n",
       "    }\n",
       "</style>\n",
       "<table border=\"1\" class=\"dataframe\">\n",
       "  <thead>\n",
       "    <tr style=\"text-align: right;\">\n",
       "      <th></th>\n",
       "      <th>review_id</th>\n",
       "      <th>book_id</th>\n",
       "      <th>username</th>\n",
       "      <th>text</th>\n",
       "    </tr>\n",
       "  </thead>\n",
       "  <tbody>\n",
       "    <tr>\n",
       "      <th>0</th>\n",
       "      <td>1</td>\n",
       "      <td>1</td>\n",
       "      <td>brandtandrea</td>\n",
       "      <td>Mention society tell send professor analysis. ...</td>\n",
       "    </tr>\n",
       "    <tr>\n",
       "      <th>1</th>\n",
       "      <td>2</td>\n",
       "      <td>1</td>\n",
       "      <td>ryanfranco</td>\n",
       "      <td>Foot glass pretty audience hit themselves. Amo...</td>\n",
       "    </tr>\n",
       "    <tr>\n",
       "      <th>2</th>\n",
       "      <td>3</td>\n",
       "      <td>2</td>\n",
       "      <td>lorichen</td>\n",
       "      <td>Listen treat keep worry. Miss husband tax but ...</td>\n",
       "    </tr>\n",
       "    <tr>\n",
       "      <th>3</th>\n",
       "      <td>4</td>\n",
       "      <td>3</td>\n",
       "      <td>johnsonamanda</td>\n",
       "      <td>Finally month interesting blue could nature cu...</td>\n",
       "    </tr>\n",
       "    <tr>\n",
       "      <th>4</th>\n",
       "      <td>5</td>\n",
       "      <td>3</td>\n",
       "      <td>scotttamara</td>\n",
       "      <td>Nation purpose heavy give wait song will. List...</td>\n",
       "    </tr>\n",
       "  </tbody>\n",
       "</table>\n",
       "</div>"
      ],
      "text/plain": [
       "   review_id  book_id       username  \\\n",
       "0          1        1   brandtandrea   \n",
       "1          2        1     ryanfranco   \n",
       "2          3        2       lorichen   \n",
       "3          4        3  johnsonamanda   \n",
       "4          5        3    scotttamara   \n",
       "\n",
       "                                                text  \n",
       "0  Mention society tell send professor analysis. ...  \n",
       "1  Foot glass pretty audience hit themselves. Amo...  \n",
       "2  Listen treat keep worry. Miss husband tax but ...  \n",
       "3  Finally month interesting blue could nature cu...  \n",
       "4  Nation purpose heavy give wait song will. List...  "
      ]
     },
     "metadata": {},
     "output_type": "display_data"
    }
   ],
   "source": [
    "display(pd.io.sql.read_sql(query_reviews, con = engine).head(5))"
   ]
  },
  {
   "cell_type": "markdown",
   "id": "9174dc80",
   "metadata": {},
   "source": [
    "# Исследование данных"
   ]
  },
  {
   "cell_type": "markdown",
   "id": "1de0ee60",
   "metadata": {},
   "source": [
    "## Сколько книг вышло после 1 января 2000 года?"
   ]
  },
  {
   "cell_type": "code",
   "execution_count": 13,
   "id": "5f9967c0",
   "metadata": {},
   "outputs": [
    {
     "data": {
      "text/html": [
       "<div>\n",
       "<style scoped>\n",
       "    .dataframe tbody tr th:only-of-type {\n",
       "        vertical-align: middle;\n",
       "    }\n",
       "\n",
       "    .dataframe tbody tr th {\n",
       "        vertical-align: top;\n",
       "    }\n",
       "\n",
       "    .dataframe thead th {\n",
       "        text-align: right;\n",
       "    }\n",
       "</style>\n",
       "<table border=\"1\" class=\"dataframe\">\n",
       "  <thead>\n",
       "    <tr style=\"text-align: right;\">\n",
       "      <th></th>\n",
       "      <th>count</th>\n",
       "    </tr>\n",
       "  </thead>\n",
       "  <tbody>\n",
       "    <tr>\n",
       "      <th>0</th>\n",
       "      <td>819</td>\n",
       "    </tr>\n",
       "  </tbody>\n",
       "</table>\n",
       "</div>"
      ],
      "text/plain": [
       "   count\n",
       "0    819"
      ]
     },
     "metadata": {},
     "output_type": "display_data"
    }
   ],
   "source": [
    "query = ''' SELECT COUNT(book_id)\n",
    "            FROM books\n",
    "            WHERE publication_date > '2000-01-01'\n",
    "        '''\n",
    "display(pd.io.sql.read_sql(query, con = engine).head(5))"
   ]
  },
  {
   "cell_type": "markdown",
   "id": "759e7f94",
   "metadata": {},
   "source": [
    "В базе данных содержится 819 книг, вышедших после 1 января 2000 года."
   ]
  },
  {
   "cell_type": "markdown",
   "id": "6d73b635",
   "metadata": {},
   "source": [
    "## Для каждой книги посчитайте количество обзоров и среднюю оценку"
   ]
  },
  {
   "cell_type": "code",
   "execution_count": 14,
   "id": "ee50f649",
   "metadata": {},
   "outputs": [
    {
     "data": {
      "text/html": [
       "<div>\n",
       "<style scoped>\n",
       "    .dataframe tbody tr th:only-of-type {\n",
       "        vertical-align: middle;\n",
       "    }\n",
       "\n",
       "    .dataframe tbody tr th {\n",
       "        vertical-align: top;\n",
       "    }\n",
       "\n",
       "    .dataframe thead th {\n",
       "        text-align: right;\n",
       "    }\n",
       "</style>\n",
       "<table border=\"1\" class=\"dataframe\">\n",
       "  <thead>\n",
       "    <tr style=\"text-align: right;\">\n",
       "      <th></th>\n",
       "      <th>book_id</th>\n",
       "      <th>title</th>\n",
       "      <th>reviews_count</th>\n",
       "      <th>mean_rating</th>\n",
       "    </tr>\n",
       "  </thead>\n",
       "  <tbody>\n",
       "    <tr>\n",
       "      <th>0</th>\n",
       "      <td>1</td>\n",
       "      <td>'Salem's Lot</td>\n",
       "      <td>2</td>\n",
       "      <td>3.0</td>\n",
       "    </tr>\n",
       "    <tr>\n",
       "      <th>1</th>\n",
       "      <td>2</td>\n",
       "      <td>1 000 Places to See Before You Die</td>\n",
       "      <td>1</td>\n",
       "      <td>2.0</td>\n",
       "    </tr>\n",
       "    <tr>\n",
       "      <th>2</th>\n",
       "      <td>3</td>\n",
       "      <td>13 Little Blue Envelopes (Little Blue Envelope...</td>\n",
       "      <td>3</td>\n",
       "      <td>4.0</td>\n",
       "    </tr>\n",
       "    <tr>\n",
       "      <th>3</th>\n",
       "      <td>4</td>\n",
       "      <td>1491: New Revelations of the Americas Before C...</td>\n",
       "      <td>2</td>\n",
       "      <td>4.0</td>\n",
       "    </tr>\n",
       "    <tr>\n",
       "      <th>4</th>\n",
       "      <td>5</td>\n",
       "      <td>1776</td>\n",
       "      <td>4</td>\n",
       "      <td>4.0</td>\n",
       "    </tr>\n",
       "    <tr>\n",
       "      <th>...</th>\n",
       "      <td>...</td>\n",
       "      <td>...</td>\n",
       "      <td>...</td>\n",
       "      <td>...</td>\n",
       "    </tr>\n",
       "    <tr>\n",
       "      <th>995</th>\n",
       "      <td>996</td>\n",
       "      <td>Wyrd Sisters (Discworld  #6; Witches #2)</td>\n",
       "      <td>3</td>\n",
       "      <td>3.0</td>\n",
       "    </tr>\n",
       "    <tr>\n",
       "      <th>996</th>\n",
       "      <td>997</td>\n",
       "      <td>Xenocide (Ender's Saga  #3)</td>\n",
       "      <td>3</td>\n",
       "      <td>3.0</td>\n",
       "    </tr>\n",
       "    <tr>\n",
       "      <th>997</th>\n",
       "      <td>998</td>\n",
       "      <td>Year of Wonders</td>\n",
       "      <td>4</td>\n",
       "      <td>3.0</td>\n",
       "    </tr>\n",
       "    <tr>\n",
       "      <th>998</th>\n",
       "      <td>999</td>\n",
       "      <td>You Suck (A Love Story  #2)</td>\n",
       "      <td>2</td>\n",
       "      <td>4.0</td>\n",
       "    </tr>\n",
       "    <tr>\n",
       "      <th>999</th>\n",
       "      <td>1000</td>\n",
       "      <td>Zen and the Art of Motorcycle Maintenance: An ...</td>\n",
       "      <td>4</td>\n",
       "      <td>3.0</td>\n",
       "    </tr>\n",
       "  </tbody>\n",
       "</table>\n",
       "<p>1000 rows × 4 columns</p>\n",
       "</div>"
      ],
      "text/plain": [
       "     book_id                                              title  \\\n",
       "0          1                                       'Salem's Lot   \n",
       "1          2                 1 000 Places to See Before You Die   \n",
       "2          3  13 Little Blue Envelopes (Little Blue Envelope...   \n",
       "3          4  1491: New Revelations of the Americas Before C...   \n",
       "4          5                                               1776   \n",
       "..       ...                                                ...   \n",
       "995      996           Wyrd Sisters (Discworld  #6; Witches #2)   \n",
       "996      997                        Xenocide (Ender's Saga  #3)   \n",
       "997      998                                    Year of Wonders   \n",
       "998      999                        You Suck (A Love Story  #2)   \n",
       "999     1000  Zen and the Art of Motorcycle Maintenance: An ...   \n",
       "\n",
       "     reviews_count  mean_rating  \n",
       "0                2          3.0  \n",
       "1                1          2.0  \n",
       "2                3          4.0  \n",
       "3                2          4.0  \n",
       "4                4          4.0  \n",
       "..             ...          ...  \n",
       "995              3          3.0  \n",
       "996              3          3.0  \n",
       "997              4          3.0  \n",
       "998              2          4.0  \n",
       "999              4          3.0  \n",
       "\n",
       "[1000 rows x 4 columns]"
      ]
     },
     "metadata": {},
     "output_type": "display_data"
    }
   ],
   "source": [
    "query = ''' SELECT b.book_id,\n",
    "                   b.title,\n",
    "                   COUNT(DISTINCT review_id) AS reviews_count,\n",
    "                   (SUM(rat.rating) / COUNT(rat.rating)) AS mean_rating\n",
    "            FROM reviews AS rev\n",
    "            FULL OUTER JOIN books AS b on b.book_id = rev.book_id\n",
    "            LEFT OUTER JOIN ratings AS rat on rev.book_id = rat.book_id\n",
    "            GROUP BY b.book_id,\n",
    "                     b.title\n",
    "        '''\n",
    "display(pd.io.sql.read_sql(query, con = engine))"
   ]
  },
  {
   "cell_type": "markdown",
   "id": "682c293f",
   "metadata": {},
   "source": [
    "## Определите издательство, которое выпустило наибольшее число книг толще 50 страниц"
   ]
  },
  {
   "cell_type": "code",
   "execution_count": 15,
   "id": "7b788542",
   "metadata": {},
   "outputs": [
    {
     "data": {
      "text/html": [
       "<div>\n",
       "<style scoped>\n",
       "    .dataframe tbody tr th:only-of-type {\n",
       "        vertical-align: middle;\n",
       "    }\n",
       "\n",
       "    .dataframe tbody tr th {\n",
       "        vertical-align: top;\n",
       "    }\n",
       "\n",
       "    .dataframe thead th {\n",
       "        text-align: right;\n",
       "    }\n",
       "</style>\n",
       "<table border=\"1\" class=\"dataframe\">\n",
       "  <thead>\n",
       "    <tr style=\"text-align: right;\">\n",
       "      <th></th>\n",
       "      <th>publisher_id</th>\n",
       "      <th>publisher</th>\n",
       "      <th>books_count</th>\n",
       "    </tr>\n",
       "  </thead>\n",
       "  <tbody>\n",
       "    <tr>\n",
       "      <th>0</th>\n",
       "      <td>212</td>\n",
       "      <td>Penguin Books</td>\n",
       "      <td>42</td>\n",
       "    </tr>\n",
       "  </tbody>\n",
       "</table>\n",
       "</div>"
      ],
      "text/plain": [
       "   publisher_id      publisher  books_count\n",
       "0           212  Penguin Books           42"
      ]
     },
     "metadata": {},
     "output_type": "display_data"
    }
   ],
   "source": [
    "query = ''' SELECT pub.publisher_id,\n",
    "                   pub.publisher,\n",
    "                   COUNT(b.book_id) AS books_count\n",
    "            FROM books AS b\n",
    "            LEFT OUTER JOIN publishers AS pub ON pub.publisher_id = b.publisher_id\n",
    "            WHERE b.num_pages > 50\n",
    "            GROUP BY pub.publisher_id,\n",
    "                     pub.publisher\n",
    "            ORDER BY books_count DESC\n",
    "            LIMIT 1\n",
    "        '''\n",
    "display(pd.io.sql.read_sql(query, con = engine))"
   ]
  },
  {
   "cell_type": "markdown",
   "id": "5a1ee3d3",
   "metadata": {},
   "source": [
    "Из содержащихся в базе данных издательств, наибольшее число книг (толще 50 страниц) было выпущено издательством Penguin Books. "
   ]
  },
  {
   "cell_type": "markdown",
   "id": "5d1e925c",
   "metadata": {},
   "source": [
    "## Определите автора с самой высокой средней оценкой книг  (только книги с 50 и более оценками)"
   ]
  },
  {
   "cell_type": "code",
   "execution_count": 23,
   "id": "33292ef2",
   "metadata": {},
   "outputs": [
    {
     "data": {
      "text/html": [
       "<div>\n",
       "<style scoped>\n",
       "    .dataframe tbody tr th:only-of-type {\n",
       "        vertical-align: middle;\n",
       "    }\n",
       "\n",
       "    .dataframe tbody tr th {\n",
       "        vertical-align: top;\n",
       "    }\n",
       "\n",
       "    .dataframe thead th {\n",
       "        text-align: right;\n",
       "    }\n",
       "</style>\n",
       "<table border=\"1\" class=\"dataframe\">\n",
       "  <thead>\n",
       "    <tr style=\"text-align: right;\">\n",
       "      <th></th>\n",
       "      <th>author_id</th>\n",
       "      <th>author</th>\n",
       "      <th>mean_rating</th>\n",
       "    </tr>\n",
       "  </thead>\n",
       "  <tbody>\n",
       "    <tr>\n",
       "      <th>0</th>\n",
       "      <td>236</td>\n",
       "      <td>J.K. Rowling/Mary GrandPré</td>\n",
       "      <td>4.287097</td>\n",
       "    </tr>\n",
       "  </tbody>\n",
       "</table>\n",
       "</div>"
      ],
      "text/plain": [
       "   author_id                      author  mean_rating\n",
       "0        236  J.K. Rowling/Mary GrandPré     4.287097"
      ]
     },
     "metadata": {},
     "output_type": "display_data"
    }
   ],
   "source": [
    "query = ''' SELECT authors.author_id,\n",
    "                   authors.author,\n",
    "                   CAST(SUM(ratings.rating) AS float) / CAST(COUNT(ratings.rating) AS float) AS mean_rating\n",
    "            FROM books\n",
    "            LEFT OUTER JOIN authors ON authors.author_id = books.author_id\n",
    "            LEFT OUTER JOIN ratings ON books.book_id = ratings.book_id\n",
    "            WHERE books.book_id IN (SELECT books.book_id\n",
    "                                    FROM books\n",
    "                                    LEFT OUTER JOIN ratings ON books.book_id = ratings.book_id\n",
    "                                    GROUP BY books.book_id\n",
    "                                    HAVING COUNT(ratings.rating_id) > 50)\n",
    "            GROUP BY authors.author_id,\n",
    "                     authors.author\n",
    "            ORDER BY mean_rating DESC \n",
    "            LIMIT 1\n",
    "        '''\n",
    "display(pd.io.sql.read_sql(query, con = engine))"
   ]
  },
  {
   "cell_type": "markdown",
   "id": "452e62f1",
   "metadata": {},
   "source": [
    "## - Посчитайте среднее количество обзоров от пользователей, которые поставили больше 50 оценок"
   ]
  },
  {
   "cell_type": "code",
   "execution_count": null,
   "id": "bd8078fb",
   "metadata": {},
   "outputs": [],
   "source": [
    "query = ''' SELECT COUNT(reviews) / COUNT(DISTINCT username) AS mean_reviews\n",
    "            FROM reviews\n",
    "            WHERE reviews.username IN(SELECT username\n",
    "                                      FROM ratings\n",
    "                                      GROUP BY username\n",
    "                                      HAVING COUNT(rating) > 50)\n",
    "        '''\n",
    "display(pd.io.sql.read_sql(query, con = engine))"
   ]
  },
  {
   "cell_type": "markdown",
   "id": "9187b476",
   "metadata": {},
   "source": [
    "Среднее количество обзоров от пользователей, которые поставили больше 50 оценок, составляет 1 обзор."
   ]
  }
 ],
 "metadata": {
  "ExecuteTimeLog": [
   {
    "duration": 570,
    "start_time": "2022-09-11T15:06:08.927Z"
   },
   {
    "duration": 8682,
    "start_time": "2022-09-11T15:06:09.500Z"
   },
   {
    "duration": 2,
    "start_time": "2022-09-11T15:06:18.184Z"
   },
   {
    "duration": 80,
    "start_time": "2022-09-11T15:06:18.189Z"
   },
   {
    "duration": 3,
    "start_time": "2022-09-11T15:06:18.270Z"
   },
   {
    "duration": 17,
    "start_time": "2022-09-11T15:06:18.274Z"
   },
   {
    "duration": 2,
    "start_time": "2022-09-11T15:06:18.293Z"
   },
   {
    "duration": 28,
    "start_time": "2022-09-11T15:06:18.297Z"
   },
   {
    "duration": 2,
    "start_time": "2022-09-11T15:06:18.327Z"
   },
   {
    "duration": 14,
    "start_time": "2022-09-11T15:06:18.331Z"
   },
   {
    "duration": 2,
    "start_time": "2022-09-11T15:06:18.367Z"
   },
   {
    "duration": 24,
    "start_time": "2022-09-11T15:06:18.371Z"
   },
   {
    "duration": 11,
    "start_time": "2022-09-11T15:06:18.396Z"
   },
   {
    "duration": 28,
    "start_time": "2022-09-11T15:06:18.409Z"
   },
   {
    "duration": 12,
    "start_time": "2022-09-11T15:06:18.438Z"
   },
   {
    "duration": 25,
    "start_time": "2022-09-11T15:06:18.452Z"
   },
   {
    "duration": 34,
    "start_time": "2022-09-11T15:06:18.479Z"
   },
   {
    "duration": 17,
    "start_time": "2022-09-11T15:07:23.940Z"
   },
   {
    "duration": 14,
    "start_time": "2022-09-11T15:07:36.214Z"
   },
   {
    "duration": 48,
    "start_time": "2022-09-11T15:19:23.538Z"
   },
   {
    "duration": 530,
    "start_time": "2022-09-11T15:19:29.184Z"
   },
   {
    "duration": 4980,
    "start_time": "2022-09-11T15:19:29.716Z"
   },
   {
    "duration": 3,
    "start_time": "2022-09-11T15:19:34.698Z"
   },
   {
    "duration": 278,
    "start_time": "2022-09-11T15:19:34.703Z"
   },
   {
    "duration": 2,
    "start_time": "2022-09-11T15:19:34.983Z"
   },
   {
    "duration": 81,
    "start_time": "2022-09-11T15:19:34.986Z"
   },
   {
    "duration": 3,
    "start_time": "2022-09-11T15:19:35.069Z"
   },
   {
    "duration": 98,
    "start_time": "2022-09-11T15:19:35.073Z"
   },
   {
    "duration": 2,
    "start_time": "2022-09-11T15:19:35.173Z"
   },
   {
    "duration": 73,
    "start_time": "2022-09-11T15:19:35.178Z"
   },
   {
    "duration": 2,
    "start_time": "2022-09-11T15:19:35.253Z"
   },
   {
    "duration": 112,
    "start_time": "2022-09-11T15:19:35.257Z"
   },
   {
    "duration": 69,
    "start_time": "2022-09-11T15:19:35.371Z"
   },
   {
    "duration": 94,
    "start_time": "2022-09-11T15:19:35.442Z"
   },
   {
    "duration": 72,
    "start_time": "2022-09-11T15:19:35.538Z"
   },
   {
    "duration": 75,
    "start_time": "2022-09-11T15:19:35.611Z"
   },
   {
    "duration": 95,
    "start_time": "2022-09-11T15:19:35.687Z"
   },
   {
    "duration": 214,
    "start_time": "2022-09-11T15:27:55.639Z"
   },
   {
    "duration": 134,
    "start_time": "2022-09-11T15:28:01.348Z"
   },
   {
    "duration": 148,
    "start_time": "2022-09-11T15:28:22.999Z"
   },
   {
    "duration": 134,
    "start_time": "2022-09-11T15:28:31.511Z"
   },
   {
    "duration": 131,
    "start_time": "2022-09-11T15:28:54.675Z"
   },
   {
    "duration": 73,
    "start_time": "2022-09-11T15:29:10.256Z"
   },
   {
    "duration": 128,
    "start_time": "2022-09-11T15:40:42.179Z"
   },
   {
    "duration": 73,
    "start_time": "2022-09-11T15:41:05.440Z"
   },
   {
    "duration": 73,
    "start_time": "2022-09-11T15:41:44.688Z"
   },
   {
    "duration": 74,
    "start_time": "2022-09-11T15:42:03.585Z"
   },
   {
    "duration": 155,
    "start_time": "2022-09-11T15:44:18.855Z"
   },
   {
    "duration": 135,
    "start_time": "2022-09-11T15:44:27.284Z"
   },
   {
    "duration": 133,
    "start_time": "2022-09-11T15:44:56.890Z"
   },
   {
    "duration": 173,
    "start_time": "2022-09-11T15:45:09.307Z"
   },
   {
    "duration": 147,
    "start_time": "2022-09-11T15:48:05.698Z"
   },
   {
    "duration": 205,
    "start_time": "2022-09-11T15:48:20.738Z"
   },
   {
    "duration": 142,
    "start_time": "2022-09-11T15:52:05.133Z"
   },
   {
    "duration": 139,
    "start_time": "2022-09-11T15:53:03.960Z"
   },
   {
    "duration": 154,
    "start_time": "2022-09-11T15:53:22.706Z"
   },
   {
    "duration": 163,
    "start_time": "2022-09-11T15:54:24.766Z"
   },
   {
    "duration": 356,
    "start_time": "2022-09-11T15:55:25.680Z"
   },
   {
    "duration": 75,
    "start_time": "2022-09-11T15:55:45.620Z"
   },
   {
    "duration": 130,
    "start_time": "2022-09-11T15:56:31.059Z"
   },
   {
    "duration": 136,
    "start_time": "2022-09-11T15:56:43.757Z"
   },
   {
    "duration": 136,
    "start_time": "2022-09-11T15:57:01.498Z"
   },
   {
    "duration": 74,
    "start_time": "2022-09-11T15:57:09.202Z"
   },
   {
    "duration": 130,
    "start_time": "2022-09-11T15:57:57.875Z"
   },
   {
    "duration": 252,
    "start_time": "2022-09-11T16:08:18.391Z"
   },
   {
    "duration": 133,
    "start_time": "2022-09-11T16:08:40.906Z"
   },
   {
    "duration": 80,
    "start_time": "2022-09-11T16:09:08.792Z"
   },
   {
    "duration": 75,
    "start_time": "2022-09-11T16:09:53.987Z"
   },
   {
    "duration": 115,
    "start_time": "2022-09-11T16:12:00.729Z"
   },
   {
    "duration": 75,
    "start_time": "2022-09-11T16:12:39.211Z"
   },
   {
    "duration": 534,
    "start_time": "2022-09-11T18:24:02.366Z"
   },
   {
    "duration": 9136,
    "start_time": "2022-09-11T18:24:02.902Z"
   },
   {
    "duration": 3,
    "start_time": "2022-09-11T18:24:12.039Z"
   },
   {
    "duration": 81,
    "start_time": "2022-09-11T18:24:12.044Z"
   },
   {
    "duration": 3,
    "start_time": "2022-09-11T18:24:12.126Z"
   },
   {
    "duration": 16,
    "start_time": "2022-09-11T18:24:12.130Z"
   },
   {
    "duration": 3,
    "start_time": "2022-09-11T18:24:12.147Z"
   },
   {
    "duration": 28,
    "start_time": "2022-09-11T18:24:12.151Z"
   },
   {
    "duration": 2,
    "start_time": "2022-09-11T18:24:12.180Z"
   },
   {
    "duration": 14,
    "start_time": "2022-09-11T18:24:12.185Z"
   },
   {
    "duration": 2,
    "start_time": "2022-09-11T18:24:12.201Z"
   },
   {
    "duration": 23,
    "start_time": "2022-09-11T18:24:12.204Z"
   },
   {
    "duration": 10,
    "start_time": "2022-09-11T18:24:12.229Z"
   },
   {
    "duration": 39,
    "start_time": "2022-09-11T18:24:12.241Z"
   },
   {
    "duration": 13,
    "start_time": "2022-09-11T18:24:12.282Z"
   },
   {
    "duration": 15,
    "start_time": "2022-09-11T18:24:12.297Z"
   },
   {
    "duration": 12,
    "start_time": "2022-09-11T18:24:12.314Z"
   },
   {
    "duration": 19,
    "start_time": "2022-09-11T18:24:33.247Z"
   },
   {
    "duration": 18,
    "start_time": "2022-09-11T18:26:25.053Z"
   },
   {
    "duration": 56,
    "start_time": "2022-09-11T18:33:03.985Z"
   },
   {
    "duration": 582,
    "start_time": "2022-09-11T18:33:09.791Z"
   },
   {
    "duration": 11105,
    "start_time": "2022-09-11T18:33:10.376Z"
   },
   {
    "duration": 8,
    "start_time": "2022-09-11T18:33:21.486Z"
   },
   {
    "duration": 129,
    "start_time": "2022-09-11T18:33:21.498Z"
   },
   {
    "duration": 3,
    "start_time": "2022-09-11T18:33:21.631Z"
   },
   {
    "duration": 23,
    "start_time": "2022-09-11T18:33:21.636Z"
   },
   {
    "duration": 4,
    "start_time": "2022-09-11T18:33:21.661Z"
   },
   {
    "duration": 63,
    "start_time": "2022-09-11T18:33:21.667Z"
   },
   {
    "duration": 3,
    "start_time": "2022-09-11T18:33:21.732Z"
   },
   {
    "duration": 18,
    "start_time": "2022-09-11T18:33:21.738Z"
   },
   {
    "duration": 3,
    "start_time": "2022-09-11T18:33:21.759Z"
   },
   {
    "duration": 52,
    "start_time": "2022-09-11T18:33:21.764Z"
   },
   {
    "duration": 16,
    "start_time": "2022-09-11T18:33:21.818Z"
   },
   {
    "duration": 45,
    "start_time": "2022-09-11T18:33:21.838Z"
   },
   {
    "duration": 19,
    "start_time": "2022-09-11T18:33:21.886Z"
   },
   {
    "duration": 224,
    "start_time": "2022-09-11T18:33:21.907Z"
   },
   {
    "duration": 0,
    "start_time": "2022-09-11T18:33:22.133Z"
   },
   {
    "duration": 0,
    "start_time": "2022-09-11T18:33:22.135Z"
   },
   {
    "duration": 22,
    "start_time": "2022-09-11T18:33:55.829Z"
   },
   {
    "duration": 21,
    "start_time": "2022-09-11T18:34:00.317Z"
   },
   {
    "duration": 20,
    "start_time": "2022-09-11T18:34:27.290Z"
   },
   {
    "duration": 16,
    "start_time": "2022-09-11T18:38:12.733Z"
   },
   {
    "duration": 18,
    "start_time": "2022-09-11T18:38:16.932Z"
   },
   {
    "duration": 18,
    "start_time": "2022-09-11T18:38:30.747Z"
   },
   {
    "duration": 16,
    "start_time": "2022-09-11T18:38:49.849Z"
   }
  ],
  "kernelspec": {
   "display_name": "Python 3 (ipykernel)",
   "language": "python",
   "name": "python3"
  },
  "language_info": {
   "codemirror_mode": {
    "name": "ipython",
    "version": 3
   },
   "file_extension": ".py",
   "mimetype": "text/x-python",
   "name": "python",
   "nbconvert_exporter": "python",
   "pygments_lexer": "ipython3",
   "version": "3.9.7"
  },
  "toc": {
   "base_numbering": 1,
   "nav_menu": {},
   "number_sections": true,
   "sideBar": true,
   "skip_h1_title": false,
   "title_cell": "Table of Contents",
   "title_sidebar": "Contents",
   "toc_cell": false,
   "toc_position": {},
   "toc_section_display": true,
   "toc_window_display": false
  }
 },
 "nbformat": 4,
 "nbformat_minor": 5
}
